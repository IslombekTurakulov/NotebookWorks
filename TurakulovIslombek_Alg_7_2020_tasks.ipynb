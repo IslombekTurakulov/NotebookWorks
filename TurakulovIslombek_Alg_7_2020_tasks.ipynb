{
  "nbformat": 4,
  "nbformat_minor": 0,
  "metadata": {
    "kernelspec": {
      "display_name": "Python 3",
      "language": "python",
      "name": "python3"
    },
    "language_info": {
      "codemirror_mode": {
        "name": "ipython",
        "version": 3
      },
      "file_extension": ".py",
      "mimetype": "text/x-python",
      "name": "python",
      "nbconvert_exporter": "python",
      "pygments_lexer": "ipython3",
      "version": "3.8.5"
    },
    "colab": {
      "name": "TurakulovIslombek_Alg_7_2020_tasks.ipynb",
      "provenance": [],
      "collapsed_sections": [],
      "include_colab_link": true
    }
  },
  "cells": [
    {
      "cell_type": "markdown",
      "metadata": {
        "id": "view-in-github",
        "colab_type": "text"
      },
      "source": [
        "<a href=\"https://colab.research.google.com/github/IslombekTurakulov/NotebookWorks/blob/main/TurakulovIslombek_Alg_7_2020_tasks.ipynb\" target=\"_parent\"><img src=\"https://colab.research.google.com/assets/colab-badge.svg\" alt=\"Open In Colab\"/></a>"
      ]
    },
    {
      "cell_type": "code",
      "metadata": {
        "id": "4T4g7ftS1N4A"
      },
      "source": [
        "import sympy\n",
        "from sympy import  Point, Line, Plane, Point3D, solve, solveset"
      ],
      "execution_count": null,
      "outputs": []
    },
    {
      "cell_type": "code",
      "metadata": {
        "colab": {
          "base_uri": "https://localhost:8080/"
        },
        "id": "l-mr8PPO3m34",
        "outputId": "db9a8bfa-91b7-40ec-92f8-e569cac2fe42"
      },
      "source": [
        "!python -m pip install sympy --upgrade"
      ],
      "execution_count": null,
      "outputs": [
        {
          "output_type": "stream",
          "text": [
            "Collecting sympy\n",
            "\u001b[?25l  Downloading https://files.pythonhosted.org/packages/ff/69/b16fc81b939d3efdd0b552f2e3e54f7fa1423d0c320cced2e69e675dde26/sympy-1.7.1-py3-none-any.whl (5.9MB)\n",
            "\u001b[K     |████████████████████████████████| 5.9MB 10.0MB/s \n",
            "\u001b[?25hRequirement already satisfied, skipping upgrade: mpmath>=0.19 in /usr/local/lib/python3.6/dist-packages (from sympy) (1.1.0)\n",
            "Installing collected packages: sympy\n",
            "  Found existing installation: sympy 1.1.1\n",
            "    Uninstalling sympy-1.1.1:\n",
            "      Successfully uninstalled sympy-1.1.1\n",
            "Successfully installed sympy-1.7.1\n"
          ],
          "name": "stdout"
        }
      ]
    },
    {
      "cell_type": "markdown",
      "metadata": {
        "id": "rb7Fdu1S1N4C"
      },
      "source": [
        "# Лабораторная работа 7\n",
        "# Алгебра\n",
        "https://docs.sympy.org/latest/search.html?q=geometry\n",
        "\n",
        "## Прямые и плоскости в пространстве. Модуль Geometry\n",
        "### Задание 1.\n",
        "Точки: A(17, 15, 10), C(10, 9, 3), F(6, 6, 0), H(13, 12, 7) и W(23/2, 21/2, 5)\n",
        "\n",
        "Проверить, различны ли прямые $AB$ и $AF$, $BC$ и $CD$, $ABC$ и $ACF$, $ABC$ и $ACD$. "
      ]
    },
    {
      "cell_type": "code",
      "metadata": {
        "colab": {
          "base_uri": "https://localhost:8080/",
          "height": 253
        },
        "id": "oY5vXAyp1N4D",
        "outputId": "3d5ef8f0-058a-4c41-c788-98c79483335d"
      },
      "source": [
        "A, B, C, D, F = [Point(3, -2, 3), Point(-2, 3, 1), Point(1, -8, 6), Point(1, 2, 4), Point(-7, 8, -1)]\n",
        "\n",
        "primitives = [Line(A, B), Line(A, F),Line(B, C), Line(C, D),Plane(A, B, C), Plane(A, C, F),Plane(A, B, C), Plane(A, C, D)]\n",
        "\n",
        "for i in range(0, len(primitives), 2):\n",
        "    first, second = primitives[i], primitives[i + 1]\n",
        "    display(first, second)\n",
        "    if (first.equals(second) == False):\n",
        "        print(\"Различны\")\n",
        "    else:\n",
        "        print(\"Не различны\")"
      ],
      "execution_count": null,
      "outputs": [
        {
          "output_type": "display_data",
          "data": {
            "text/latex": "$\\displaystyle Line3D\\left(Point3D\\left(3, -2, 3\\right), Point3D\\left(-2, 3, 1\\right)\\right)$",
            "text/plain": [
              "Line3D(Point3D(3, -2, 3), Point3D(-2, 3, 1))"
            ]
          },
          "metadata": {
            "tags": []
          }
        },
        {
          "output_type": "display_data",
          "data": {
            "text/latex": "$\\displaystyle Line3D\\left(Point3D\\left(3, -2, 3\\right), Point3D\\left(-7, 8, -1\\right)\\right)$",
            "text/plain": [
              "Line3D(Point3D(3, -2, 3), Point3D(-7, 8, -1))"
            ]
          },
          "metadata": {
            "tags": []
          }
        },
        {
          "output_type": "stream",
          "text": [
            "Не различны\n"
          ],
          "name": "stdout"
        },
        {
          "output_type": "display_data",
          "data": {
            "text/latex": "$\\displaystyle Line3D\\left(Point3D\\left(-2, 3, 1\\right), Point3D\\left(1, -8, 6\\right)\\right)$",
            "text/plain": [
              "Line3D(Point3D(-2, 3, 1), Point3D(1, -8, 6))"
            ]
          },
          "metadata": {
            "tags": []
          }
        },
        {
          "output_type": "display_data",
          "data": {
            "text/latex": "$\\displaystyle Line3D\\left(Point3D\\left(1, -8, 6\\right), Point3D\\left(1, 2, 4\\right)\\right)$",
            "text/plain": [
              "Line3D(Point3D(1, -8, 6), Point3D(1, 2, 4))"
            ]
          },
          "metadata": {
            "tags": []
          }
        },
        {
          "output_type": "stream",
          "text": [
            "Различны\n"
          ],
          "name": "stdout"
        },
        {
          "output_type": "display_data",
          "data": {
            "text/latex": "$\\displaystyle Plane\\left(Point3D\\left(3, -2, 3\\right), \\left( 3, \\  19, \\  40\\right)\\right)$",
            "text/plain": [
              "Plane(Point3D(3, -2, 3), (3, 19, 40))"
            ]
          },
          "metadata": {
            "tags": []
          }
        },
        {
          "output_type": "display_data",
          "data": {
            "text/latex": "$\\displaystyle Plane\\left(Point3D\\left(3, -2, 3\\right), \\left( -6, \\  -38, \\  -80\\right)\\right)$",
            "text/plain": [
              "Plane(Point3D(3, -2, 3), (-6, -38, -80))"
            ]
          },
          "metadata": {
            "tags": []
          }
        },
        {
          "output_type": "stream",
          "text": [
            "Не различны\n"
          ],
          "name": "stdout"
        },
        {
          "output_type": "display_data",
          "data": {
            "text/latex": "$\\displaystyle Plane\\left(Point3D\\left(3, -2, 3\\right), \\left( 3, \\  19, \\  40\\right)\\right)$",
            "text/plain": [
              "Plane(Point3D(3, -2, 3), (3, 19, 40))"
            ]
          },
          "metadata": {
            "tags": []
          }
        },
        {
          "output_type": "display_data",
          "data": {
            "text/latex": "$\\displaystyle Plane\\left(Point3D\\left(3, -2, 3\\right), \\left( -18, \\  -4, \\  -20\\right)\\right)$",
            "text/plain": [
              "Plane(Point3D(3, -2, 3), (-18, -4, -20))"
            ]
          },
          "metadata": {
            "tags": []
          }
        },
        {
          "output_type": "stream",
          "text": [
            "Различны\n"
          ],
          "name": "stdout"
        }
      ]
    },
    {
      "cell_type": "markdown",
      "metadata": {
        "id": "iUFU-FkQ1N4E"
      },
      "source": [
        "###  Задание 2\n",
        "Вывести на экран уравнение обеих биссектрис двугранных углов, образованных при пересечении плоскостей АВС и АСD.\n",
        "\n",
        "Указание: расстояние от любой точки на биссектрисе до каждой из плоскостей АВС и АСD одинаково, полученное из этого уравнение описывает обе биссектрисы, упрощать его не нужно."
      ]
    },
    {
      "cell_type": "code",
      "metadata": {
        "id": "rpcBBSAx1N4E",
        "outputId": "19d03a86-077d-4cd2-ff60-cb34a6b15cc7"
      },
      "source": [
        "ABC = Plane(A, B, C)\n",
        "ACD = Plane(A, C, D)\n",
        "\n",
        "x, y, z = sympy.symbols('x y z')\n",
        "xpoint = Point(x, y, z)\n",
        "eq = sympy.Eq(ABC.distance(xpoint), ACD.distance(xpoint))\n",
        "\n",
        "display(eq)"
      ],
      "execution_count": null,
      "outputs": [
        {
          "output_type": "display_data",
          "data": {
            "text/latex": "$\\displaystyle \\left|{\\frac{3 \\sqrt{1970} \\left(x - 3\\right)}{1970} + \\frac{19 \\sqrt{1970} \\left(y + 2\\right)}{1970} + \\frac{4 \\sqrt{1970} \\left(z - 3\\right)}{197}}\\right| = \\left|{\\frac{9 \\sqrt{185} \\left(x - 3\\right)}{185} + \\frac{2 \\sqrt{185} \\left(y + 2\\right)}{185} + \\frac{2 \\sqrt{185} \\left(z - 3\\right)}{37}}\\right|$",
            "text/plain": [
              "Eq(Abs(3*sqrt(1970)*(x - 3)/1970 + 19*sqrt(1970)*(y + 2)/1970 + 4*sqrt(1970)*(z - 3)/197), Abs(9*sqrt(185)*(x - 3)/185 + 2*sqrt(185)*(y + 2)/185 + 2*sqrt(185)*(z - 3)/37))"
            ]
          },
          "metadata": {
            "tags": []
          }
        }
      ]
    },
    {
      "cell_type": "markdown",
      "metadata": {
        "id": "uE8pUygh1N4F"
      },
      "source": [
        "###  Задание 3\n",
        "Построить плоскость, перпендикулярную плоскости АВС, проходящую через D и начало координат. Найти линию пересечения АВС и этой плоскости."
      ]
    },
    {
      "cell_type": "code",
      "metadata": {
        "id": "NQfLdMb81N4F",
        "outputId": "c572efe3-8c17-47ef-defd-1f74b9810b0a"
      },
      "source": [
        "alternate_plane = ABC.perpendicular_plane(D, Point(0, 0, 0))\n",
        "display(alternate_plane, ABC.intersection(alternate_plane))"
      ],
      "execution_count": null,
      "outputs": [
        {
          "output_type": "display_data",
          "data": {
            "text/latex": "$\\displaystyle Plane\\left(Point3D\\left(1, 2, 4\\right), \\left( -4, \\  28, \\  -13\\right)\\right)$",
            "text/plain": [
              "Plane(Point3D(1, 2, 4), (-4, 28, -13))"
            ]
          },
          "metadata": {
            "tags": []
          }
        },
        {
          "output_type": "display_data",
          "data": {
            "text/plain": [
              "[Line3D(Point3D(637/40, 91/40, 0), Point3D(-54043/40, -4749/40, 160))]"
            ]
          },
          "metadata": {
            "tags": []
          }
        }
      ]
    },
    {
      "cell_type": "markdown",
      "metadata": {
        "id": "ZWyUs5191N4F"
      },
      "source": [
        "###  Задание 4\n",
        "Найти пересечение плоскости АВС и прямой DK, где K(3,-2, 3)."
      ]
    },
    {
      "cell_type": "code",
      "metadata": {
        "id": "r9PsKL8o1N4G",
        "outputId": "c5374981-b251-44e1-f03c-14b7ab3c8128"
      },
      "source": [
        "K = Point(3, -2, 3)\n",
        "isec_result = ABC.intersection(Line(D, K))\n",
        "display(*isec_result)"
      ],
      "execution_count": null,
      "outputs": [
        {
          "output_type": "display_data",
          "data": {
            "text/latex": "$\\displaystyle Point3D\\left(3, -2, 3\\right)$",
            "text/plain": [
              "Point3D(3, -2, 3)"
            ]
          },
          "metadata": {
            "tags": []
          }
        }
      ]
    },
    {
      "cell_type": "markdown",
      "metadata": {
        "id": "0JfgEgkX1N4G"
      },
      "source": [
        "###  Задание 5\n",
        "Проверить, что точка пересечения из Задания 4 лежит в плоскости AFC."
      ]
    },
    {
      "cell_type": "code",
      "metadata": {
        "id": "wn4lGDnB1N4H",
        "outputId": "c4b9ba7f-4674-439a-d9a7-cb48b435d3b7"
      },
      "source": [
        "AFC = Plane(A, F, C)\n",
        "AFC.distance(isec_result[0])"
      ],
      "execution_count": null,
      "outputs": [
        {
          "output_type": "execute_result",
          "data": {
            "text/latex": "$\\displaystyle 0$",
            "text/plain": [
              "0"
            ]
          },
          "metadata": {
            "tags": []
          },
          "execution_count": 11
        }
      ]
    },
    {
      "cell_type": "markdown",
      "metadata": {
        "id": "Agr_GwNs1N4H"
      },
      "source": [
        "###  Задание 6\n",
        "Даны точки: A(3, -2, 3),  B(-2, 3, 1), C(1, -8, 6), D(1, 2, 4), F(-7, 8, -1).\n",
        "\n",
        "Составить словарь всех прямых (в нем должны быть и прямая АВ, и ВА!), каждая из которых проходит хотя бы через две заданные точки, ключ - сама прямая (Line), значение - список из имен ВСЕХ точек, лежащих на этой прямой. Вывести на экран имена только тех прямых, на которых лежит не менее трех точек из условия, а также список точек, лежащих на прямой."
      ]
    },
    {
      "cell_type": "code",
      "metadata": {
        "id": "Jbsb8hRF1N4H",
        "outputId": "a32e099a-7811-4321-97ea-c4f5cbe04f3f"
      },
      "source": [
        "A, B, C, D, F = [Point(3, -2, 3),Point(-2, 3, 1),Point(1, -8, 6),Point(1, 2, 4),Point(-7, 8, -1)]\n",
        "\n",
        "points = {'A': A, 'B': B, 'C': C, 'D': D, 'F': F}\n",
        "lines = {}\n",
        "\n",
        "for i in range(len(points)):\n",
        "      for j in range(i + 1, len(points)):\n",
        "        keys = list(points.keys())\n",
        "        dotA, dotB = keys[i], keys[j]\n",
        "        lines[dotA + dotB] = lines[dotB + dotA] = set([dotA, dotB])\n",
        "\n",
        "for point_name in points:\n",
        "    point = points[point_name]\n",
        "    for line_name in lines:\n",
        "                line = Line(points[line_name[0]], points[line_name[1]])\n",
        "                if line.distance(point) == 0:\n",
        "                      lines[line_name].add(point_name)\n",
        "\n",
        "for key in lines:\n",
        "      if len(lines[key]) >= 3:\n",
        "        print(key, *lines[key])"
      ],
      "execution_count": null,
      "outputs": [
        {
          "output_type": "stream",
          "text": [
            "AB F A B\n",
            "BA F A B\n",
            "AF F A B\n",
            "FA F A B\n",
            "BF F A B\n",
            "FB F A B\n"
          ],
          "name": "stdout"
        }
      ]
    },
    {
      "cell_type": "markdown",
      "metadata": {
        "id": "EHvA_Z7D1N4I"
      },
      "source": [
        "### Индивидуальное задание\n",
        "\n",
        "Даны точки: $A(3, 2, 1)$,  $B(2, -3, 1)$, $C(0, -4, 6)$, $D(4, 7, 1)$, $F(1, -8, 1)$.\n",
        "\n",
        "Составить список lines_list, состоящий из  tuple из троек прямых, каждая из которых проходит через две (или более) заданные точки, причем все прямые пересекаются в одной точке. Совпадающие прямые не учитывать. "
      ]
    },
    {
      "cell_type": "code",
      "metadata": {
        "id": "UvEvnvmi1N4I"
      },
      "source": [
        "A = Point(3, 2, 1)\r\n",
        "B = Point(2, -3, 1)\r\n",
        "C = Point(0, -4, 6)\r\n",
        "D = Point(4, 7, 1)\r\n",
        "F = Point(1, -8, 1)\r\n",
        "\r\n",
        "\r\n"
      ],
      "execution_count": null,
      "outputs": []
    }
  ]
}