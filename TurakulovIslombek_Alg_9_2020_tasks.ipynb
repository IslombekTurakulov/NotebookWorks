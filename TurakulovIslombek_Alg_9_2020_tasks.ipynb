{
  "nbformat": 4,
  "nbformat_minor": 0,
  "metadata": {
    "kernelspec": {
      "display_name": "Python 3",
      "language": "python",
      "name": "python3"
    },
    "language_info": {
      "codemirror_mode": {
        "name": "ipython",
        "version": 3
      },
      "file_extension": ".py",
      "mimetype": "text/x-python",
      "name": "python",
      "nbconvert_exporter": "python",
      "pygments_lexer": "ipython3",
      "version": "3.7.3"
    },
    "colab": {
      "name": "TurakulovIslombek_Alg_9_2020_tasks.ipynb",
      "provenance": [],
      "collapsed_sections": [],
      "include_colab_link": true
    }
  },
  "cells": [
    {
      "cell_type": "markdown",
      "metadata": {
        "id": "view-in-github",
        "colab_type": "text"
      },
      "source": [
        "<a href=\"https://colab.research.google.com/github/IslombekTurakulov/NotebookWorks/blob/main/TurakulovIslombek_Alg_9_2020_tasks.ipynb\" target=\"_parent\"><img src=\"https://colab.research.google.com/assets/colab-badge.svg\" alt=\"Open In Colab\"/></a>"
      ]
    },
    {
      "cell_type": "code",
      "metadata": {
        "id": "whMDtYWE5HIx"
      },
      "source": [
        "import sympy\n",
        "from sympy import  Point, Line, Segment, Polygon, RegularPolygon\n",
        "from sympy import sin as Sin\n",
        "from sympy import cos as Cos\n",
        "from sympy import pi as Pi\n",
        "import matplotlib.pyplot as plt"
      ],
      "execution_count": null,
      "outputs": []
    },
    {
      "cell_type": "markdown",
      "metadata": {
        "id": "mvAs9etn5HI3"
      },
      "source": [
        "# Занятие 9\n",
        "# Алгебра\n",
        "##  Geometry: многоугольники на плоскости, принадлежность точки многоугольнику.\n",
        "### Задание 1.\n",
        "Построить равнобедренный треугольник АВС (АВ = ВС) с вершиной В в начале координат, так что биссектриса ВD образует угол 45 градусов с положительным направлением оси ОХ и 30 градусов со стороной АВ, точка А расположена между осью OY и лучом ВD,  длина АС равна 3. \n",
        "\n",
        "У полученного треугольника вывести на экран длины сторон.\n",
        "\n",
        "Указание: напротив угла 30 градусов в прямоугольном треугольнике лежит катет, равный половине гипотенузы, в равнобедренном треугольнике биссектриса, проведенная к основанию, является медианой и высотой. Координаты точки равны произведению длины отрезка, соединяющего точку с началом координат и косинуса (синуса) угла, образованного этим отрезком и положительным направлением горизонтальной оси."
      ]
    },
    {
      "cell_type": "code",
      "metadata": {
        "colab": {
          "base_uri": "https://localhost:8080/",
          "height": 103
        },
        "id": "O7tlMtHG5HI3",
        "outputId": "7eda770f-c107-4f92-f180-73005b266e36"
      },
      "source": [
        "B = Point(0, 0)\n",
        "D = Triangle.centroid\n",
        "# Длина АС равна 3\n",
        "AC_length = 3\n",
        "# Длина BA равна половине длины AC\n",
        "BA_length = AC_length\n",
        "\n",
        "A = Point(BA_length*Cos(Pi*75/180),BA_length*Sin(75*Pi/180))\n",
        "C = Point(BA_length*Cos(15*Pi/180),BA_length*Sin(15*Pi/180))\n",
        "\n",
        "Triangle = Polygon(A, B, C)\n",
        "display(Triangle)\n",
        "display(BA_length, AC_length)"
      ],
      "execution_count": null,
      "outputs": [
        {
          "output_type": "display_data",
          "data": {
            "text/latex": "$\\displaystyle Triangle\\left(Point2D\\left(- \\frac{3 \\sqrt{2}}{4} + \\frac{3 \\sqrt{6}}{4}, \\frac{3 \\sqrt{2}}{4} + \\frac{3 \\sqrt{6}}{4}\\right), Point2D\\left(0, 0\\right), Point2D\\left(\\frac{3 \\sqrt{2}}{4} + \\frac{3 \\sqrt{6}}{4}, - \\frac{3 \\sqrt{2}}{4} + \\frac{3 \\sqrt{6}}{4}\\right)\\right)$",
            "text/plain": [
              "Triangle(Point2D(-3*sqrt(2)/4 + 3*sqrt(6)/4, 3*sqrt(2)/4 + 3*sqrt(6)/4), Point2D(0, 0), Point2D(3*sqrt(2)/4 + 3*sqrt(6)/4, -3*sqrt(2)/4 + 3*sqrt(6)/4))"
            ],
            "image/svg+xml": "<svg xmlns=\"http://www.w3.org/2000/svg\"\n            xmlns:xlink=\"http://www.w3.org/1999/xlink\"\n            width=\"100.0\" height=\"100.0\" viewBox=\"-0.289777747886721 -0.289777747886721 3.47733297464065 3.47733297464065\"\n            preserveAspectRatio=\"xMinYMin meet\">\n            <defs>\n                <marker id=\"markerCircle\" markerWidth=\"8\" markerHeight=\"8\"\n                    refx=\"5\" refy=\"5\" markerUnits=\"strokeWidth\">\n                    <circle cx=\"5\" cy=\"5\" r=\"1.5\" style=\"stroke: none; fill:#000000;\"/>\n                </marker>\n                <marker id=\"markerArrow\" markerWidth=\"13\" markerHeight=\"13\" refx=\"2\" refy=\"4\"\n                       orient=\"auto\" markerUnits=\"strokeWidth\">\n                    <path d=\"M2,2 L2,6 L6,4\" style=\"fill: #000000;\" />\n                </marker>\n                <marker id=\"markerReverseArrow\" markerWidth=\"13\" markerHeight=\"13\" refx=\"6\" refy=\"4\"\n                       orient=\"auto\" markerUnits=\"strokeWidth\">\n                    <path d=\"M6,2 L6,6 L2,4\" style=\"fill: #000000;\" />\n                </marker>\n            </defs><g transform=\"matrix(1,0,0,-1,0,2.89777747886721)\"><path fill-rule=\"evenodd\" fill=\"#66cc99\" stroke=\"#555555\" stroke-width=\"0.0695466594928129\" opacity=\"0.6\" d=\"M 0.776457135307562,2.89777747886721 L 0,0 L 2.89777747886721,0.776457135307562 z\" /></g></svg>"
          },
          "metadata": {
            "tags": []
          }
        },
        {
          "output_type": "display_data",
          "data": {
            "text/plain": [
              "3"
            ]
          },
          "metadata": {
            "tags": []
          }
        },
        {
          "output_type": "display_data",
          "data": {
            "text/plain": [
              "3"
            ]
          },
          "metadata": {
            "tags": []
          }
        }
      ]
    },
    {
      "cell_type": "markdown",
      "metadata": {
        "id": "FElUONv25HI3"
      },
      "source": [
        "### Задание 2.\n",
        "Построить четырехугольник ABCD, где точки A, B и C из Примера 1, а точка D - центр ABC. Найти площадь, периметр и центр ABCD.\n",
        "Изобразить ABC и ABCD на графике. Выпуклый ли многоугольник?"
      ]
    },
    {
      "cell_type": "code",
      "metadata": {
        "colab": {
          "base_uri": "https://localhost:8080/",
          "height": 466
        },
        "id": "AUjrUGk55HI4",
        "outputId": "99504d92-7202-43db-e155-4db6e1e62418"
      },
      "source": [
        "def draw_polygon(polygon,names=None,color='m'):\n",
        "    ax=plt.gca()\n",
        "    ax.set_aspect('equal')\n",
        "    vertices=polygon.vertices\n",
        "    points_x=[item.x for item in vertices]+[vertices[0].x]\n",
        "    points_y=[item.y for item in vertices]+[vertices[0].y]\n",
        "    ax.plot(points_x,points_y,color)\n",
        "    if names==None:\n",
        "        for i,x_coord in enumerate(points_x[:-1]):\n",
        "            ax.annotate('A'+str(i+1),\n",
        "            xy=(x_coord,points_y[i]+0.1),\n",
        "                        xycoords='data') # Координаты подписываемой точки, туда ведет стрелка\n",
        "    else:\n",
        "        for i,vert in enumerate(vertices):\n",
        "            ax.annotate(names[vert],\n",
        "            xy=(points_x[i],points_y[i]+0.1),\n",
        "            xycoords='data') # Координаты подписываемой точки, туда ведет стрелка \n",
        "\n",
        "\n",
        "Points = [A, B, C, D]\n",
        "Poly = Polygon(*Points)\n",
        "display(Poly)\n",
        "print('\\nis_convex', Poly.is_convex())\n",
        "point_dict = {A: 'A', B: 'B', C: 'C', D: 'D'}\n",
        "F = Segment(A, C).midpoint\n",
        "L = Point(2*F.x - D.x, 2*F.y - D.y)\n",
        "ALCD = Polygon(A, L, C, D)\n",
        "BLC = Polygon(B, L, C)\n",
        "ABCD = Polygon(A, B, C, D)\n",
        "display(ABCD.centroid)\n",
        "display(ABCD.area)\n",
        "display(ABCD.perimeter)\n",
        "draw_polygon(Poly, point_dict)"
      ],
      "execution_count": null,
      "outputs": [
        {
          "output_type": "display_data",
          "data": {
            "text/latex": "$\\displaystyle Polygon\\left(Point2D\\left(- \\frac{3 \\sqrt{2}}{4} + \\frac{3 \\sqrt{6}}{4}, \\frac{3 \\sqrt{2}}{4} + \\frac{3 \\sqrt{6}}{4}\\right), Point2D\\left(0, 0\\right), Point2D\\left(\\frac{3 \\sqrt{2}}{4} + \\frac{3 \\sqrt{6}}{4}, - \\frac{3 \\sqrt{2}}{4} + \\frac{3 \\sqrt{6}}{4}\\right), Point2D\\left(\\frac{\\sqrt{6}}{2}, \\frac{\\sqrt{6}}{2}\\right)\\right)$",
            "text/plain": [
              "Polygon(Point2D(-3*sqrt(2)/4 + 3*sqrt(6)/4, 3*sqrt(2)/4 + 3*sqrt(6)/4), Point2D(0, 0), Point2D(3*sqrt(2)/4 + 3*sqrt(6)/4, -3*sqrt(2)/4 + 3*sqrt(6)/4), Point2D(sqrt(6)/2, sqrt(6)/2))"
            ],
            "image/svg+xml": "<svg xmlns=\"http://www.w3.org/2000/svg\"\n            xmlns:xlink=\"http://www.w3.org/1999/xlink\"\n            width=\"100.0\" height=\"100.0\" viewBox=\"-0.289777747886721 -0.289777747886721 3.47733297464065 3.47733297464065\"\n            preserveAspectRatio=\"xMinYMin meet\">\n            <defs>\n                <marker id=\"markerCircle\" markerWidth=\"8\" markerHeight=\"8\"\n                    refx=\"5\" refy=\"5\" markerUnits=\"strokeWidth\">\n                    <circle cx=\"5\" cy=\"5\" r=\"1.5\" style=\"stroke: none; fill:#000000;\"/>\n                </marker>\n                <marker id=\"markerArrow\" markerWidth=\"13\" markerHeight=\"13\" refx=\"2\" refy=\"4\"\n                       orient=\"auto\" markerUnits=\"strokeWidth\">\n                    <path d=\"M2,2 L2,6 L6,4\" style=\"fill: #000000;\" />\n                </marker>\n                <marker id=\"markerReverseArrow\" markerWidth=\"13\" markerHeight=\"13\" refx=\"6\" refy=\"4\"\n                       orient=\"auto\" markerUnits=\"strokeWidth\">\n                    <path d=\"M6,2 L6,6 L2,4\" style=\"fill: #000000;\" />\n                </marker>\n            </defs><g transform=\"matrix(1,0,0,-1,0,2.89777747886721)\"><path fill-rule=\"evenodd\" fill=\"#66cc99\" stroke=\"#555555\" stroke-width=\"0.0695466594928129\" opacity=\"0.6\" d=\"M 0.776457135307562,2.89777747886721 L 0,0 L 2.89777747886721,0.776457135307562 L 1.22474487139159,1.22474487139159 z\" /></g></svg>"
          },
          "metadata": {
            "tags": []
          }
        },
        {
          "output_type": "stream",
          "text": [
            "\n",
            "is_convex False\n"
          ],
          "name": "stdout"
        },
        {
          "output_type": "display_data",
          "data": {
            "text/latex": "$\\displaystyle Point2D\\left(\\frac{5 \\sqrt{6}}{12}, \\frac{5 \\sqrt{6}}{12}\\right)$",
            "text/plain": [
              "Point2D(5*sqrt(6)/12, 5*sqrt(6)/12)"
            ]
          },
          "metadata": {
            "tags": []
          }
        },
        {
          "output_type": "display_data",
          "data": {
            "text/latex": "$\\displaystyle \\frac{3 \\sqrt{3}}{2}$",
            "text/plain": [
              "3*sqrt(3)/2"
            ]
          },
          "metadata": {
            "tags": []
          }
        },
        {
          "output_type": "display_data",
          "data": {
            "text/latex": "$\\displaystyle 2 \\sqrt{3} + 6$",
            "text/plain": [
              "2*sqrt(3) + 6"
            ]
          },
          "metadata": {
            "tags": []
          }
        },
        {
          "output_type": "display_data",
          "data": {
            "image/png": "[encoded data removed]",
            "text/plain": [
              "<Figure size 432x288 with 1 Axes>"
            ]
          },
          "metadata": {
            "tags": [],
            "needs_background": "light"
          }
        }
      ]
    },
    {
      "cell_type": "markdown",
      "metadata": {
        "id": "GEqSXMel5HI4"
      },
      "source": [
        "### Задание 3\n",
        "Постоить ромб ALCD с точками A, C и D из Заданий 1 и 2. Найти общую часть треугольника BLC и ромба и вывести на экран в виде имен точек, отрезков и т.п., изобразить на графике  треугольник зеленым, ромб - фиолетовым. \n",
        "\n",
        "Указание: диагонали ромба пересекаются в серединах; имя точки искать в словаре имен."
      ]
    },
    {
      "cell_type": "code",
      "metadata": {
        "colab": {
          "base_uri": "https://localhost:8080/",
          "height": 371
        },
        "id": "U3ilFXaE5HI4",
        "outputId": "a182710e-99cd-49f6-f62c-ff51ce0bf0e1"
      },
      "source": [
        "point_dict = {A: 'A', B: 'B', C: 'C', D: 'D', L: 'L'}\n",
        "draw_polygon(ALCD,point_dict, color='r')\n",
        "draw_polygon(BLC, point_dict)\n",
        "display(*ALCD.intersection(BLC))"
      ],
      "execution_count": null,
      "outputs": [
        {
          "output_type": "display_data",
          "data": {
            "text/latex": "$\\displaystyle Point2D\\left(\\frac{\\sqrt{6}}{2}, \\frac{\\sqrt{6}}{2}\\right)$",
            "text/plain": [
              "Point2D(sqrt(6)/2, sqrt(6)/2)"
            ]
          },
          "metadata": {
            "tags": []
          }
        },
        {
          "output_type": "display_data",
          "data": {
            "text/latex": "$\\displaystyle Segment2D\\left(Point2D\\left(\\sqrt{6}, \\sqrt{6}\\right), Point2D\\left(\\frac{3 \\sqrt{2}}{4} + \\frac{3 \\sqrt{6}}{4}, - \\frac{3 \\sqrt{2}}{4} + \\frac{3 \\sqrt{6}}{4}\\right)\\right)$",
            "text/plain": [
              "Segment2D(Point2D(sqrt(6), sqrt(6)), Point2D(3*sqrt(2)/4 + 3*sqrt(6)/4, -3*sqrt(2)/4 + 3*sqrt(6)/4))"
            ],
            "image/svg+xml": "<svg xmlns=\"http://www.w3.org/2000/svg\"\n            xmlns:xlink=\"http://www.w3.org/1999/xlink\"\n            width=\"100.0\" height=\"100.0\" viewBox=\"2.28218648203562 0.609153874560001 0.782894257579151 2.00763912897074\"\n            preserveAspectRatio=\"xMinYMin meet\">\n            <defs>\n                <marker id=\"markerCircle\" markerWidth=\"8\" markerHeight=\"8\"\n                    refx=\"5\" refy=\"5\" markerUnits=\"strokeWidth\">\n                    <circle cx=\"5\" cy=\"5\" r=\"1.5\" style=\"stroke: none; fill:#000000;\"/>\n                </marker>\n                <marker id=\"markerArrow\" markerWidth=\"13\" markerHeight=\"13\" refx=\"2\" refy=\"4\"\n                       orient=\"auto\" markerUnits=\"strokeWidth\">\n                    <path d=\"M2,2 L2,6 L6,4\" style=\"fill: #000000;\" />\n                </marker>\n                <marker id=\"markerReverseArrow\" markerWidth=\"13\" markerHeight=\"13\" refx=\"6\" refy=\"4\"\n                       orient=\"auto\" markerUnits=\"strokeWidth\">\n                    <path d=\"M6,2 L6,6 L2,4\" style=\"fill: #000000;\" />\n                </marker>\n            </defs><g transform=\"matrix(1,0,0,-1,0,3.22594687809074)\"><path fill-rule=\"evenodd\" fill=\"#66cc99\" stroke=\"#555555\" stroke-width=\"0.0401527825794148\" opacity=\"0.6\" d=\"M 2.44948974278318,2.44948974278318 L 2.89777747886721,0.776457135307562\" /></g></svg>"
          },
          "metadata": {
            "tags": []
          }
        },
        {
          "output_type": "display_data",
          "data": {
            "image/png": "[encoded data removed]",
            "text/plain": [
              "<Figure size 432x288 with 1 Axes>"
            ]
          },
          "metadata": {
            "tags": [],
            "needs_background": "light"
          }
        }
      ]
    },
    {
      "cell_type": "markdown",
      "metadata": {
        "id": "Fpyo0djx5HI5"
      },
      "source": [
        "### Индивидуальное задание\n",
        "\n",
        "Построить на одном графике правильный треугольник, шестиугольник и восьмиугольник с радиусом описанной окружности $R$, центром в точке O.\n",
        "\n",
        "Повернуть треугольник на $\\alpha$ градусов, изобразить старый и новый треугольники на одном графике.\n",
        "\n",
        "Найти общую область правильного шестиугольника и его копии, повернутой на угол $\\beta$ градусов.\n",
        "\n",
        "$R$ = 11, $α$ = −45, $β$ = 165, $O$(12, 12)."
      ]
    },
    {
      "cell_type": "code",
      "metadata": {
        "id": "VjjWEhL35HI5"
      },
      "source": [
        "R = 9\n",
        "a = -Pi*60/180\n",
        "b = Pi*75/180\n",
        "O = Point(-10, 12)\n",
        "RPoly3 = RegularPolygon(O, R, 3)\n",
        "RPoly6 = RegularPolygon(O, R, 6)\n",
        "RPoly8 = RegularPolygon(O, R, 8)\n",
        "draw_polygon(RPoly3,color='g')\n",
        "draw_polygon(RPoly3.rotate(a),color='r')\n",
        "RPoly3.spin(a)\n",
        "draw_polygon(RPoly3,color='m')\n",
        "\n",
        "draw_polygon(RPoly6,color='g')\n",
        "draw_polygon(RPoly6.rotate(b),color='r')\n",
        "rpolyCopy = RPoly6\n",
        "rpolyCopy.spin(b)\n",
        "draw_polygon(rpolyCopy,color='m')\n",
        "display(RPoly6.intersection(rpolyCopy))\n",
        "\n",
        "draw_polygon(RPoly8,color='g')"
      ],
      "execution_count": null,
      "outputs": []
    }
  ]
}