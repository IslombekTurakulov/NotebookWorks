{
  "nbformat": 4,
  "nbformat_minor": 0,
  "metadata": {
    "kernelspec": {
      "display_name": "Python 3",
      "language": "python",
      "name": "python3"
    },
    "language_info": {
      "codemirror_mode": {
        "name": "ipython",
        "version": 3
      },
      "file_extension": ".py",
      "mimetype": "text/x-python",
      "name": "python",
      "nbconvert_exporter": "python",
      "pygments_lexer": "ipython3",
      "version": "3.7.3"
    },
    "colab": {
      "name": "TurakulovIslombek_Alg_14_2020_ellipse_task.ipynb",
      "provenance": [],
      "collapsed_sections": [],
      "include_colab_link": true
    }
  },
  "cells": [
    {
      "cell_type": "markdown",
      "metadata": {
        "id": "view-in-github",
        "colab_type": "text"
      },
      "source": [
        "<a href=\"https://colab.research.google.com/github/IslombekTurakulov/NotebookWorks/blob/main/TurakulovIslombek_Alg_14_2020_ellipse_task.ipynb\" target=\"_parent\"><img src=\"https://colab.research.google.com/assets/colab-badge.svg\" alt=\"Open In Colab\"/></a>"
      ]
    },
    {
      "cell_type": "code",
      "metadata": {
        "id": "YrBN_QEa_Jrn"
      },
      "source": [
        "import matplotlib.pyplot as plt\n",
        "import sympy\n",
        "from sympy import Ellipse, Point, Line, S, plot_implicit, Eq, solve"
      ],
      "execution_count": 1,
      "outputs": []
    },
    {
      "cell_type": "markdown",
      "metadata": {
        "id": "hHiRKH7U_Jru"
      },
      "source": [
        "# Занятие 14\n",
        "# Алгебра\n",
        "### Задание 1.\n",
        "Построить эллипс с центром в точке А(1, 2), полуосями 3 и 2. Вычислить и вывести на экран эксцентриситет, площадь и длину дуги полученного эллипса, центр, полуоси, periapsis, apoapsis, межфокусное расстояние и фокусы."
      ]
    },
    {
      "cell_type": "code",
      "metadata": {
        "colab": {
          "base_uri": "https://localhost:8080/",
          "height": 314
        },
        "id": "MUkGhDvY_Jrv",
        "outputId": "0c7ea293-e8cc-4c85-adf0-c21107e2beb3"
      },
      "source": [
        "MyEllipse = Ellipse(Point(1, 2), 3, 2)\n",
        "eq = MyEllipse.equation(x='x', y='y')\n",
        "dict_free = {str(a): a for a in eq.free_symbols}\n",
        "plot_implicit(MyEllipse.equation(x='x', y='y'), (dict_free['x'], -4, 5), (dict_free['y'], -1,5), aspect_ratio = (1, 1), adaptive=False)"
      ],
      "execution_count": 2,
      "outputs": [
        {
          "output_type": "display_data",
          "data": {
            "image/png": "[encoded data removed]",
            "text/plain": [
              "<Figure size 432x288 with 1 Axes>"
            ]
          },
          "metadata": {
            "tags": [],
            "needs_background": "light"
          }
        },
        {
          "output_type": "execute_result",
          "data": {
            "text/plain": [
              "<sympy.plotting.plot.Plot at 0x7f81bb2373d0>"
            ]
          },
          "metadata": {
            "tags": []
          },
          "execution_count": 2
        }
      ]
    },
    {
      "cell_type": "code",
      "metadata": {
        "colab": {
          "base_uri": "https://localhost:8080/",
          "height": 441
        },
        "id": "UP6BZMGcACeL",
        "outputId": "d35d9549-880b-4f23-c9d4-902d619c6fb1"
      },
      "source": [
        "\n",
        "props = {'эксцентриситет': MyEllipse.eccentricity, \n",
        "'площадь': MyEllipse.area,\n",
        "'длина дуги': MyEllipse.circumference,\n",
        "'центр':MyEllipse.center, \n",
        "'горизонтальная ось': MyEllipse.hradius,\n",
        "'вертикальная ось': MyEllipse.vradius, \n",
        "'periapsis': MyEllipse.periapsis,\n",
        "'apoapsis': MyEllipse.apoapsis, \n",
        "'фокусное расстояние': MyEllipse.focus_distance, \n",
        "'фокусы': MyEllipse.foci}\n",
        "\n",
        "for key in props.keys():\n",
        "  display(key, props[key])"
      ],
      "execution_count": 3,
      "outputs": [
        {
          "output_type": "display_data",
          "data": {
            "application/vnd.google.colaboratory.intrinsic+json": {
              "type": "string"
            },
            "text/plain": [
              "'эксцентриситет'"
            ]
          },
          "metadata": {
            "tags": []
          }
        },
        {
          "output_type": "display_data",
          "data": {
            "text/latex": "$\\displaystyle \\frac{\\sqrt{5}}{3}$",
            "text/plain": [
              "sqrt(5)/3"
            ]
          },
          "metadata": {
            "tags": []
          }
        },
        {
          "output_type": "display_data",
          "data": {
            "application/vnd.google.colaboratory.intrinsic+json": {
              "type": "string"
            },
            "text/plain": [
              "'площадь'"
            ]
          },
          "metadata": {
            "tags": []
          }
        },
        {
          "output_type": "display_data",
          "data": {
            "text/latex": "$\\displaystyle 6 \\pi$",
            "text/plain": [
              "6*pi"
            ]
          },
          "metadata": {
            "tags": []
          }
        },
        {
          "output_type": "display_data",
          "data": {
            "application/vnd.google.colaboratory.intrinsic+json": {
              "type": "string"
            },
            "text/plain": [
              "'длина дуги'"
            ]
          },
          "metadata": {
            "tags": []
          }
        },
        {
          "output_type": "display_data",
          "data": {
            "text/latex": "$\\displaystyle 12 E\\left(\\frac{5}{9}\\right)$",
            "text/plain": [
              "12*elliptic_e(5/9)"
            ]
          },
          "metadata": {
            "tags": []
          }
        },
        {
          "output_type": "display_data",
          "data": {
            "application/vnd.google.colaboratory.intrinsic+json": {
              "type": "string"
            },
            "text/plain": [
              "'центр'"
            ]
          },
          "metadata": {
            "tags": []
          }
        },
        {
          "output_type": "display_data",
          "data": {
            "text/latex": "$\\displaystyle Point2D\\left(1, 2\\right)$",
            "text/plain": [
              "Point2D(1, 2)"
            ]
          },
          "metadata": {
            "tags": []
          }
        },
        {
          "output_type": "display_data",
          "data": {
            "application/vnd.google.colaboratory.intrinsic+json": {
              "type": "string"
            },
            "text/plain": [
              "'горизонтальная ось'"
            ]
          },
          "metadata": {
            "tags": []
          }
        },
        {
          "output_type": "display_data",
          "data": {
            "text/latex": "$\\displaystyle 3$",
            "text/plain": [
              "3"
            ]
          },
          "metadata": {
            "tags": []
          }
        },
        {
          "output_type": "display_data",
          "data": {
            "application/vnd.google.colaboratory.intrinsic+json": {
              "type": "string"
            },
            "text/plain": [
              "'вертикальная ось'"
            ]
          },
          "metadata": {
            "tags": []
          }
        },
        {
          "output_type": "display_data",
          "data": {
            "text/latex": "$\\displaystyle 2$",
            "text/plain": [
              "2"
            ]
          },
          "metadata": {
            "tags": []
          }
        },
        {
          "output_type": "display_data",
          "data": {
            "application/vnd.google.colaboratory.intrinsic+json": {
              "type": "string"
            },
            "text/plain": [
              "'periapsis'"
            ]
          },
          "metadata": {
            "tags": []
          }
        },
        {
          "output_type": "display_data",
          "data": {
            "text/latex": "$\\displaystyle 3 - \\sqrt{5}$",
            "text/plain": [
              "3 - sqrt(5)"
            ]
          },
          "metadata": {
            "tags": []
          }
        },
        {
          "output_type": "display_data",
          "data": {
            "application/vnd.google.colaboratory.intrinsic+json": {
              "type": "string"
            },
            "text/plain": [
              "'apoapsis'"
            ]
          },
          "metadata": {
            "tags": []
          }
        },
        {
          "output_type": "display_data",
          "data": {
            "text/latex": "$\\displaystyle \\sqrt{5} + 3$",
            "text/plain": [
              "sqrt(5) + 3"
            ]
          },
          "metadata": {
            "tags": []
          }
        },
        {
          "output_type": "display_data",
          "data": {
            "application/vnd.google.colaboratory.intrinsic+json": {
              "type": "string"
            },
            "text/plain": [
              "'фокусное расстояние'"
            ]
          },
          "metadata": {
            "tags": []
          }
        },
        {
          "output_type": "display_data",
          "data": {
            "text/latex": "$\\displaystyle \\sqrt{5}$",
            "text/plain": [
              "sqrt(5)"
            ]
          },
          "metadata": {
            "tags": []
          }
        },
        {
          "output_type": "display_data",
          "data": {
            "application/vnd.google.colaboratory.intrinsic+json": {
              "type": "string"
            },
            "text/plain": [
              "'фокусы'"
            ]
          },
          "metadata": {
            "tags": []
          }
        },
        {
          "output_type": "display_data",
          "data": {
            "text/plain": [
              "(Point2D(1 - sqrt(5), 2), Point2D(1 + sqrt(5), 2))"
            ]
          },
          "metadata": {
            "tags": []
          }
        }
      ]
    },
    {
      "cell_type": "markdown",
      "metadata": {
        "id": "SM0nbmI1_Jrv"
      },
      "source": [
        "### Задание 2.\n",
        "Вывести на экран уравнение эллипса из задания 1, повернутого на 30 градусов против часовой стрелки относительно его центра,  переменные u и v.\n",
        "\n",
        "Изоразить на графике эллипс и повернутый эллипс."
      ]
    },
    {
      "cell_type": "code",
      "metadata": {
        "colab": {
          "base_uri": "https://localhost:8080/"
        },
        "id": "-MGOIRYg_Jrv",
        "outputId": "65627d93-ca28-44a0-ed2a-bfa755535ebf"
      },
      "source": [
        "from sympy.abc import u, v\n",
        "EQ = MyEllipse.equation( _slope=sympy.tan(sympy.pi*30/180)).simplify()\n",
        "EQ\n",
        "symb_free = EQ.free_symbols\n",
        "dict_free = {str(a): a for a in symb_free}\n",
        "dict_free\n"
      ],
      "execution_count": 4,
      "outputs": [
        {
          "output_type": "execute_result",
          "data": {
            "text/plain": [
              "{'x': x, 'y': y}"
            ]
          },
          "metadata": {
            "tags": []
          },
          "execution_count": 4
        }
      ]
    },
    {
      "cell_type": "code",
      "metadata": {
        "colab": {
          "base_uri": "https://localhost:8080/",
          "height": 297
        },
        "id": "AZPnA-RxAYwy",
        "outputId": "bb77ed1c-88f4-4bc2-e5bb-0597fa587287"
      },
      "source": [
        "p = plot_implicit(EQ, (dict_free['x'], -5, 5), (dict_free['y'], -5, 5),line_color='r', aspect_ratio = (1, 1), adaptive=False, show=False)\n",
        "p.extend(plot_implicit(MyEllipse.equation(x='x', y='y'), (dict_free['x'], -4, 5), (dict_free['y'], -1,5), aspect_ratio = (1, 1), adaptive=False, show=False ))\n",
        "p.show()"
      ],
      "execution_count": 5,
      "outputs": [
        {
          "output_type": "display_data",
          "data": {
            "image/png": "[encoded data removed]",
            "text/plain": [
              "<Figure size 432x288 with 1 Axes>"
            ]
          },
          "metadata": {
            "tags": [],
            "needs_background": "light"
          }
        }
      ]
    },
    {
      "cell_type": "markdown",
      "metadata": {
        "id": "inx0Fuso_Jrw"
      },
      "source": [
        "### Задание 3.\n",
        "Найти вершины эллипса из Задания 1.\n",
        "\n",
        "Указание: вершины эллипса искать как решение системы уравнений, составленной из уравнения эллипса и уравнения прямой, проходящей через форкусы (воспользоваться Line и методом equation()); вторую пару вершин получить как решение системы из уравнения эллипса и прямой, проходящей через центр эллипса перпендикулярно прямой, проходящей через фокусы. "
      ]
    },
    {
      "cell_type": "code",
      "metadata": {
        "id": "1zsTTzBJ_Jrw"
      },
      "source": [
        "systemFirst = [sympy.Eq(MyEllipse.equation(), 0), sympy.Eq(Line(MyEllipse.foci[0], MyEllipse.foci[1]).equation(), 0)]\n",
        "systemSecond = [Eq(MyEllipse.equation(), 0), Eq(Line(MyEllipse.foci[0], MyEllipse.foci[1]).perpendicular_line(MyEllipse.center).equation(), 0)]\n",
        "\n",
        "roots = sympy.solve(systemFirst) + sympy.solve(systemSecond)\n",
        "\n",
        "for point in roots:\n",
        "  display(Point(*point.values()))"
      ],
      "execution_count": null,
      "outputs": []
    },
    {
      "cell_type": "markdown",
      "metadata": {
        "id": "Pn9HG2IM_Jrw"
      },
      "source": [
        "###  Индивидуальное задание 139\n",
        "Построить эллипс с заданными центром, вертикальной полуосью  и эксцентриситетом.\n",
        "Изобразить на графике этот эллипс, а также эллипс, повернутый на угол $\\alpha$ против часовой стрелки. \n",
        "\n",
        "Вывести на экран центр и фокусы эллипса, длины полуосей, уравнение эллипса, вершины эллипса.\n",
        "\n",
        "Вариант N 139\n",
        "\n",
        "Центр $Point2D\\left(-3, 0\\right)$, вертикальная полуось $9$, эксцентриситет $7 / 8$, угол поворота $\\pi / 4$, по часовой стрелке.\n",
        "\n",
        "\n"
      ]
    },
    {
      "cell_type": "code",
      "metadata": {
        "id": "c-66MYz5_Jrx"
      },
      "source": [
        "from sympy.abc import u, v\n",
        "MyEllipse = Ellipse(Point(-3, 0), vradius = 9, eccentricity = S(7)/8)\n",
        "eq = MyEllipse.equation(x='x', y='y')\n",
        "dict_free = {str(a): a for a in eq.free_symbols}\n"
      ],
      "execution_count": 10,
      "outputs": []
    },
    {
      "cell_type": "code",
      "metadata": {
        "colab": {
          "base_uri": "https://localhost:8080/",
          "height": 57
        },
        "id": "xHwtNpbHdOv-",
        "outputId": "cbbabd6f-8757-486c-ce9e-529e07ba81c9"
      },
      "source": [
        "EQ = MyEllipse.equation( _slope=sympy.tan(sympy.pi/4)).simplify()\n",
        "EQ"
      ],
      "execution_count": 11,
      "outputs": [
        {
          "output_type": "execute_result",
          "data": {
            "text/latex": "$\\displaystyle \\frac{\\left(x - y + 3\\right)^{2}}{162} + \\frac{5 \\left(x + y + 3\\right)^{2}}{3456} - 1$",
            "text/plain": [
              "(x - y + 3)**2/162 + 5*(x + y + 3)**2/3456 - 1"
            ]
          },
          "metadata": {
            "tags": []
          },
          "execution_count": 11
        }
      ]
    },
    {
      "cell_type": "code",
      "metadata": {
        "colab": {
          "base_uri": "https://localhost:8080/"
        },
        "id": "kgJ7cEjvdQ7n",
        "outputId": "220147b8-d624-4ea5-e1b6-e4967dd1ab4f"
      },
      "source": [
        "symb_free = EQ.free_symbols\n",
        "dict_free = {str(a): a for a in symb_free}\n",
        "dict_free"
      ],
      "execution_count": 12,
      "outputs": [
        {
          "output_type": "execute_result",
          "data": {
            "text/plain": [
              "{'x': x, 'y': y}"
            ]
          },
          "metadata": {
            "tags": []
          },
          "execution_count": 12
        }
      ]
    },
    {
      "cell_type": "code",
      "metadata": {
        "colab": {
          "base_uri": "https://localhost:8080/",
          "height": 297
        },
        "id": "OzzC9oU-BFA5",
        "outputId": "951b9bc5-cb73-4e98-a758-07b89c53f507"
      },
      "source": [
        "p = plot_implicit(EQ, (dict_free['x'], -20, 20), (dict_free['y'], -20, 20),line_color='r', aspect_ratio = (1, 1), adaptive=False, show=False)\n",
        "p.extend(plot_implicit(MyEllipse.equation(x='x', y='y'), (dict_free['x'], -20, 20), (dict_free['y'], -20, 20), aspect_ratio = (1, 1), adaptive=False, show=False ))\n",
        "p.show()"
      ],
      "execution_count": 15,
      "outputs": [
        {
          "output_type": "display_data",
          "data": {
            "image/png": "[encoded data removed]",
            "text/plain": [
              "<Figure size 432x288 with 1 Axes>"
            ]
          },
          "metadata": {
            "tags": [],
            "needs_background": "light"
          }
        }
      ]
    },
    {
      "cell_type": "code",
      "metadata": {
        "colab": {
          "base_uri": "https://localhost:8080/",
          "height": 161
        },
        "id": "YwA8-VsnBJ3V",
        "outputId": "54d6b109-a275-435f-89b5-379af349a33e"
      },
      "source": [
        "sysFirst = [sympy.Eq(MyEllipse.equation(), 0),\n",
        "sympy.Eq(Line(MyEllipse.foci[0], MyEllipse.foci[1]).equation(), 0)]\n",
        "sysSecond = [Eq(MyEllipse.equation(), 0), Eq(Line(MyEllipse.foci[0], MyEllipse.foci[1]).perpendicular_line(MyEllipse.center).equation(), 0)]\n",
        "\n",
        "roots = sympy.solve(sysFirst) + sympy.solve(sysSecond)\n",
        "for point in roots:\n",
        "  display(Point(*point.values()))\n"
      ],
      "execution_count": 14,
      "outputs": [
        {
          "output_type": "display_data",
          "data": {
            "text/latex": "$\\displaystyle Point2D\\left(-3 + \\frac{24 \\sqrt{15}}{5}, 0\\right)$",
            "text/plain": [
              "Point2D(-3 + 24*sqrt(15)/5, 0)"
            ]
          },
          "metadata": {
            "tags": []
          }
        },
        {
          "output_type": "display_data",
          "data": {
            "text/latex": "$\\displaystyle Point2D\\left(- \\frac{24 \\sqrt{15}}{5} - 3, 0\\right)$",
            "text/plain": [
              "Point2D(-24*sqrt(15)/5 - 3, 0)"
            ]
          },
          "metadata": {
            "tags": []
          }
        },
        {
          "output_type": "display_data",
          "data": {
            "text/latex": "$\\displaystyle Point2D\\left(-3, -9\\right)$",
            "text/plain": [
              "Point2D(-3, -9)"
            ]
          },
          "metadata": {
            "tags": []
          }
        },
        {
          "output_type": "display_data",
          "data": {
            "text/latex": "$\\displaystyle Point2D\\left(-3, 9\\right)$",
            "text/plain": [
              "Point2D(-3, 9)"
            ]
          },
          "metadata": {
            "tags": []
          }
        }
      ]
    },
    {
      "cell_type": "code",
      "metadata": {
        "colab": {
          "base_uri": "https://localhost:8080/",
          "height": 244
        },
        "id": "89qXTP1MClQS",
        "outputId": "d5d82d5f-696a-4529-e113-119e3b93f0ce"
      },
      "source": [
        "props = {'центр':MyEllipse.center,\n",
        "         'фокусы': MyEllipse.foci,\n",
        "         'уравнение': MyEllipse.equation(),  \n",
        "         'горизонтальная ось': MyEllipse.hradius,\n",
        "         'вертикальная ось': MyEllipse.vradius}\n",
        "\n",
        "for key in props.keys():\n",
        "  display(key, props[key])"
      ],
      "execution_count": 9,
      "outputs": [
        {
          "output_type": "display_data",
          "data": {
            "application/vnd.google.colaboratory.intrinsic+json": {
              "type": "string"
            },
            "text/plain": [
              "'центр'"
            ]
          },
          "metadata": {
            "tags": []
          }
        },
        {
          "output_type": "display_data",
          "data": {
            "text/latex": "$\\displaystyle Point2D\\left(-3, 0\\right)$",
            "text/plain": [
              "Point2D(-3, 0)"
            ]
          },
          "metadata": {
            "tags": []
          }
        },
        {
          "output_type": "display_data",
          "data": {
            "application/vnd.google.colaboratory.intrinsic+json": {
              "type": "string"
            },
            "text/plain": [
              "'фокусы'"
            ]
          },
          "metadata": {
            "tags": []
          }
        },
        {
          "output_type": "display_data",
          "data": {
            "text/plain": [
              "(Point2D(-21*sqrt(15)/5 - 3, 0), Point2D(-3 + 21*sqrt(15)/5, 0))"
            ]
          },
          "metadata": {
            "tags": []
          }
        },
        {
          "output_type": "display_data",
          "data": {
            "application/vnd.google.colaboratory.intrinsic+json": {
              "type": "string"
            },
            "text/plain": [
              "'уравнение'"
            ]
          },
          "metadata": {
            "tags": []
          }
        },
        {
          "output_type": "display_data",
          "data": {
            "text/latex": "$\\displaystyle \\frac{y^{2}}{81} + \\frac{5 \\left(x + 3\\right)^{2}}{1728} - 1$",
            "text/plain": [
              "y**2/81 + 5*(x + 3)**2/1728 - 1"
            ]
          },
          "metadata": {
            "tags": []
          }
        },
        {
          "output_type": "display_data",
          "data": {
            "application/vnd.google.colaboratory.intrinsic+json": {
              "type": "string"
            },
            "text/plain": [
              "'горизонтальная ось'"
            ]
          },
          "metadata": {
            "tags": []
          }
        },
        {
          "output_type": "display_data",
          "data": {
            "text/latex": "$\\displaystyle \\frac{24 \\sqrt{15}}{5}$",
            "text/plain": [
              "24*sqrt(15)/5"
            ]
          },
          "metadata": {
            "tags": []
          }
        },
        {
          "output_type": "display_data",
          "data": {
            "application/vnd.google.colaboratory.intrinsic+json": {
              "type": "string"
            },
            "text/plain": [
              "'вертикальная ось'"
            ]
          },
          "metadata": {
            "tags": []
          }
        },
        {
          "output_type": "display_data",
          "data": {
            "text/latex": "$\\displaystyle 9$",
            "text/plain": [
              "9"
            ]
          },
          "metadata": {
            "tags": []
          }
        }
      ]
    }
  ]
}