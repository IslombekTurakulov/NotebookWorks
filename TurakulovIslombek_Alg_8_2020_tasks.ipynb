{
  "nbformat": 4,
  "nbformat_minor": 0,
  "metadata": {
    "kernelspec": {
      "display_name": "Python 3",
      "language": "python",
      "name": "python3"
    },
    "language_info": {
      "codemirror_mode": {
        "name": "ipython",
        "version": 3
      },
      "file_extension": ".py",
      "mimetype": "text/x-python",
      "name": "python",
      "nbconvert_exporter": "python",
      "pygments_lexer": "ipython3",
      "version": "3.8.5"
    },
    "colab": {
      "name": "TurakulovIslombek_Alg_8_2020_tasks.ipynb",
      "provenance": [],
      "include_colab_link": true
    }
  },
  "cells": [
    {
      "cell_type": "markdown",
      "metadata": {
        "id": "view-in-github",
        "colab_type": "text"
      },
      "source": [
        "<a href=\"https://colab.research.google.com/github/IslombekTurakulov/NotebookWorks/blob/main/TurakulovIslombek_Alg_8_2020_tasks.ipynb\" target=\"_parent\"><img src=\"https://colab.research.google.com/assets/colab-badge.svg\" alt=\"Open In Colab\"/></a>"
      ]
    },
    {
      "cell_type": "code",
      "metadata": {
        "id": "DfFVqS0Cw7fU"
      },
      "source": [
        "import sympy\n",
        "from sympy import  Point, Line, Plane, Point3D, Segment, Ray, S, latex\n",
        "import matplotlib.pyplot as plt"
      ],
      "execution_count": null,
      "outputs": []
    },
    {
      "cell_type": "markdown",
      "metadata": {
        "id": "DmPWHHLew7fa"
      },
      "source": [
        "# Практическое занятие 8\n",
        "# Алгебра\n",
        "https://docs.sympy.org/latest/search.html?q=geometry\n",
        "\n",
        "## Проекции, сегменты, лучи в модуле Geometry\n",
        "### Задание 1.\n",
        "Даны точки: $A(3, -2, 3)$,  $B(-2, 3, 1)$, \n",
        "$C(1, -8, 6)$, \n",
        "$D(1, 2, 4)$, \n",
        "$F(-7, 8, -1)$.\n",
        "\n",
        "Составить отрезки $АВ$ и $АС$ и лучи $CD$ и $BF$.\n",
        "\n",
        "Найти: \n",
        "\n",
        "угол между лучами $CD$ и $BF$\n",
        "\n",
        "направления луча $CD$ (xdirection, ydirection, zdirection)\n",
        "\n",
        "длину отрезка $АВ$\n",
        "\n",
        "середину отрезка $АВ$"
      ]
    },
    {
      "cell_type": "code",
      "metadata": {
        "id": "4q8782tvw7fb",
        "outputId": "7e55d052-e1ca-4228-df17-97af773703cf"
      },
      "source": [
        "A = Point(3, -2, 3)\n",
        "B = Point(-2, 3, 1)\n",
        "C = Point(1, -8, 6) \n",
        "D = Point(1, 2, 4)\n",
        "F = Point(-7, 8, -1)\n",
        "\n",
        "AB_seg = Segment(A, B)\n",
        "AC_seg = Segment(A, C)\n",
        "\n",
        "CD_ray = Ray(C, D)\n",
        "BF_ray = Ray(B, F)\n",
        "\n",
        "display(CD_ray.angle_between(BF_ray))\n",
        "display(CD_ray.xdirection, CD_ray.ydirection, CD_ray.zdirection)\n",
        "display(AB_seg.length)\n",
        "display(AB_seg.midpoint)"
      ],
      "execution_count": null,
      "outputs": [
        {
          "output_type": "display_data",
          "data": {
            "text/latex": "$\\displaystyle \\operatorname{acos}{\\left(\\frac{3 \\sqrt{39}}{26} \\right)}$",
            "text/plain": [
              "acos(3*sqrt(39)/26)"
            ]
          },
          "metadata": {
            "tags": []
          }
        },
        {
          "output_type": "display_data",
          "data": {
            "text/latex": "$\\displaystyle 0$",
            "text/plain": [
              "0"
            ]
          },
          "metadata": {
            "tags": []
          }
        },
        {
          "output_type": "display_data",
          "data": {
            "text/latex": "$\\displaystyle \\infty$",
            "text/plain": [
              "oo"
            ]
          },
          "metadata": {
            "tags": []
          }
        },
        {
          "output_type": "display_data",
          "data": {
            "text/latex": "$\\displaystyle -\\infty$",
            "text/plain": [
              "-oo"
            ]
          },
          "metadata": {
            "tags": []
          }
        },
        {
          "output_type": "display_data",
          "data": {
            "text/latex": "$\\displaystyle 3 \\sqrt{6}$",
            "text/plain": [
              "3*sqrt(6)"
            ]
          },
          "metadata": {
            "tags": []
          }
        },
        {
          "output_type": "display_data",
          "data": {
            "text/latex": "$\\displaystyle Point3D\\left(\\frac{1}{2}, \\frac{1}{2}, 2\\right)$",
            "text/plain": [
              "Point3D(1/2, 1/2, 2)"
            ]
          },
          "metadata": {
            "tags": []
          }
        }
      ]
    },
    {
      "cell_type": "markdown",
      "metadata": {
        "id": "OMGrnm1hw7fc"
      },
      "source": [
        "### Задание 2.\n",
        "Построить прямую $CD$ и проекцию точки $F$ и отрезка $АВ$  на эту прямую."
      ]
    },
    {
      "cell_type": "code",
      "metadata": {
        "id": "7s0d4pgqw7fd",
        "outputId": "1ef21bbc-a03b-48e3-a45c-8cae0165dfc8"
      },
      "source": [
        "CD_line = Line(C, D)\n",
        "display(CD_line.projection(F))\n",
        "display(CD_line.projection(AB_seg))"
      ],
      "execution_count": null,
      "outputs": [
        {
          "output_type": "display_data",
          "data": {
            "text/latex": "$\\displaystyle Point3D\\left(1, \\frac{227}{26}, \\frac{69}{26}\\right)$",
            "text/plain": [
              "Point3D(1, 227/26, 69/26)"
            ]
          },
          "metadata": {
            "tags": []
          }
        },
        {
          "output_type": "display_data",
          "data": {
            "text/latex": "$\\displaystyle Segment3D\\left(Point3D\\left(1, - \\frac{43}{26}, \\frac{123}{26}\\right), Point3D\\left(1, \\frac{46}{13}, \\frac{48}{13}\\right)\\right)$",
            "text/plain": [
              "Segment3D(Point3D(1, -43/26, 123/26), Point3D(1, 46/13, 48/13))"
            ]
          },
          "metadata": {
            "tags": []
          }
        }
      ]
    },
    {
      "cell_type": "markdown",
      "metadata": {
        "id": "S5Ean9OGw7fd"
      },
      "source": [
        "### Задание 3.\n",
        "Построить серединный перпендикуляр отрезка $АС$, проходящий через точку $(8, -7, 9/2)$, найти для серединного перпендикуляра уравнение.\n",
        "\n",
        "Указание: должен получиться сегмент, использовать S(9)/2."
      ]
    },
    {
      "cell_type": "code",
      "metadata": {
        "id": "4qiVEYq8w7fd",
        "outputId": "44f1238e-203c-4fe9-8ab9-4524ef2103c9"
      },
      "source": [
        "M = Point(8, -7, S(9)/2)\n",
        "line = AC_seg.perpendicular_bisector(M)\n",
        "display(line)"
      ],
      "execution_count": null,
      "outputs": [
        {
          "output_type": "display_data",
          "data": {
            "text/latex": "$\\displaystyle Segment3D\\left(Point3D\\left(8, -7, \\frac{9}{2}\\right), Point3D\\left(2, -5, \\frac{9}{2}\\right)\\right)$",
            "text/plain": [
              "Segment3D(Point3D(8, -7, 9/2), Point3D(2, -5, 9/2))"
            ]
          },
          "metadata": {
            "tags": []
          }
        }
      ]
    },
    {
      "cell_type": "markdown",
      "metadata": {
        "id": "Xr9jT962w7fe"
      },
      "source": [
        "### Задание 4\n",
        "Даны точки: $A(3, -2)$, $B(-2, 3)$, $C(1, -8)$.\n",
        "\n",
        "Построить на общем графике отрезки $АВ$ и $АС$, серединный перпендикуляр отрезка  $АС$.\n",
        "\n",
        "Точки $A$, $B$ и $C$ отметить и подписать именами.\n",
        "\n",
        "Для одинакового масштаба по осям использовать \n",
        "ax.set_aspect('equal')"
      ]
    },
    {
      "cell_type": "code",
      "metadata": {
        "id": "NdORqzzxw7fe",
        "outputId": "74082f75-3b67-449b-93cc-b8cd78d4f473"
      },
      "source": [
        "A = Point(3, -2)\n",
        "B = Point(-2, 3)\n",
        "C = Point(1, -8)\n",
        "AB_seg = Segment(A, B)\n",
        "AC_seg = Segment(A, C)\n",
        "AC_perp = AC_seg.perpendicular_bisector()\n",
        "point_dict={A:'A',B:'B',C:'C'}\n",
        "X = []\n",
        "Y = []\n",
        "ax = plt.gca()\n",
        "ax.set_aspect('equal')\n",
        "for point in (point_dict.keys()):\n",
        "    x_coord=point.x\n",
        "    y_coord=point.y\n",
        "    X.append(x_coord)\n",
        "    Y.append(y_coord)\n",
        "    ax.annotate(point_dict[point],\n",
        "                xy=(x_coord,y_coord),xycoords='data',\n",
        "                xytext=(x_coord+0.05,y_coord+0.05),\n",
        "                textcoords='data')\n",
        "    \n",
        "ax.plot([A.x,B.x],[A.y,B.y])\n",
        "ax.plot([A.x,C.x],[A.y,C.y])\n",
        "ax.plot([AC_perp.p1.x,AC_perp.p2.x],[AC_perp.p1.y,AC_perp.p2.y],\n",
        "        label=latex(AC_perp.equation(x='x',y='y'),mode='inline'))\n",
        "\n",
        "ax.legend()\n",
        "ax.scatter(X,Y)    \n",
        "    "
      ],
      "execution_count": null,
      "outputs": [
        {
          "output_type": "execute_result",
          "data": {
            "text/plain": [
              "<matplotlib.collections.PathCollection at 0x26811a9ffa0>"
            ]
          },
          "metadata": {
            "tags": []
          },
          "execution_count": 7
        },
        {
          "output_type": "display_data",
          "data": {
            "image/png": "[encoded data removed]",
            "text/plain": [
              "<Figure size 432x288 with 1 Axes>"
            ]
          },
          "metadata": {
            "tags": [],
            "needs_background": "light"
          }
        }
      ]
    },
    {
      "cell_type": "markdown",
      "metadata": {
        "id": "2ykt7rPuw7ff"
      },
      "source": [
        "### Индивидуальное задание.\n",
        "Даны точки на плоскости. \n",
        "Вариант N 139\n",
        "\n",
        "Точки: $L(4, -1)$, $M(10, 4)$, $N(-3, 9)$, $P(9/4, 3/2)$\n",
        "\n",
        "Построить отрезок $LM$ и луч $MN$, составить уравнения серединного перпендикуляра  к $LM$ и перпендикуляра к $MN$, проходящего через точку $P$, найти точку пересечения перпендикуляров.\n",
        "\n",
        "Построить на графике отрезок, луч (в виде отрезка) и оба серединных перпендикуляра, отметить и подписать концы отрезка и начало луча (точку M), а также точку пересечения перпендикуляров и основания перпендикуляров (точки пересечения перпендикуляров с отрезком и лучом соответственно).\n",
        "\n",
        "В легенду включить уравнения перпендикуляров и уравнения прямых, на которых лежат отрезок и\n",
        " луч."
      ]
    },
    {
      "cell_type": "code",
      "metadata": {
        "id": "AYO9tRBEw7ff",
        "outputId": "c5199d99-01aa-48dd-f9df-0e405488bd0e"
      },
      "source": [
        "L = Point(4, -1)\n",
        "M = Point(10, 4)\n",
        "N = Point(-3, 9)\n",
        "P = Point(S(9)/4, S(3)/2)\n",
        "\n",
        "# Построим отрезок LM_seg, луч MN_ray\n",
        "LM_seg = Segment(L, M)\n",
        "MN_ray = Ray(M, N)\n",
        "# Составим уравнения этих прямых, найдем коэффициент наклона каждой из них.\n",
        "LM_midperp = LM_seg.perpendicular_bisector()\n",
        "# Который проходит через точку P\n",
        "MN_perp = MN_ray.perpendicular_line(P)\n",
        "C = LM_midperp.intersection(MN_perp)[0]\n",
        "display(C)\n",
        "point_dict={L:'L', M:'M', N:'N', P: 'P', C: 'C'}\n",
        "X = []\n",
        "Y = []\n",
        "\n",
        "ax = plt.gca()\n",
        "ax.set_aspect('equal')\n",
        "for point in (point_dict.keys()):\n",
        "    # назначаем ей точки и добавляем их в список\n",
        "    x_coord=point.x\n",
        "    y_coord=point.y\n",
        "    X.append(x_coord)\n",
        "    Y.append(y_coord)\n",
        "    ax.annotate(point_dict[point],\n",
        "                xy=(x_coord,y_coord),xycoords='data',\n",
        "                xytext=(x_coord+0.05,y_coord+0.05),\n",
        "                textcoords='data')\n",
        "\n",
        "# Построить на графике отрещки LM MN и PC\n",
        "ax.plot([L.x,M.x],[L.y,M.y])\n",
        "ax.plot([M.x,N.x],[M.y,N.y])\n",
        "ax.plot([P.x,C.x],[P.y,C.y])\n",
        "# Находим серединный отрезок и строим график\n",
        "ax.plot([LM_midperp.p1.x,C.x],[LM_midperp.p1.y,C.y],\n",
        "        label=latex(LM_midperp.equation(x='x',y='y'),mode='inline'))\n",
        "ax.plot([MN_perp.p1.x,MN_perp.p2.x],[MN_perp.p1.y,MN_perp.p2.y],\n",
        "        label=latex(MN_perp.equation(x='x',y='y'),mode='inline'))\n",
        "\n",
        "# Включаем легенду\n",
        "ax.legend()\n",
        "ax.scatter(X,Y)  "
      ],
      "execution_count": null,
      "outputs": [
        {
          "output_type": "display_data",
          "data": {
            "text/latex": "$\\displaystyle Point2D\\left(\\frac{15}{4}, \\frac{27}{5}\\right)$",
            "text/plain": [
              "Point2D(15/4, 27/5)"
            ]
          },
          "metadata": {
            "tags": []
          }
        },
        {
          "output_type": "execute_result",
          "data": {
            "text/plain": [
              "<matplotlib.collections.PathCollection at 0x1a449610>"
            ]
          },
          "metadata": {
            "tags": []
          },
          "execution_count": 2
        },
        {
          "output_type": "display_data",
          "data": {
            "image/png": "[encoded data removed]",
            "text/plain": [
              "<Figure size 432x288 with 1 Axes>"
            ]
          },
          "metadata": {
            "tags": [],
            "needs_background": "light"
          }
        }
      ]
    },
    {
      "cell_type": "code",
      "metadata": {
        "id": "AlQpd3Rrw7fg"
      },
      "source": [
        ""
      ],
      "execution_count": null,
      "outputs": []
    }
  ]
}