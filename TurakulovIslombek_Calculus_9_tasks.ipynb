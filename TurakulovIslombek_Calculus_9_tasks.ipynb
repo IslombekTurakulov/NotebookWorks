{
  "nbformat": 4,
  "nbformat_minor": 0,
  "metadata": {
    "kernelspec": {
      "display_name": "Python 3",
      "language": "python",
      "name": "python3"
    },
    "language_info": {
      "codemirror_mode": {
        "name": "ipython",
        "version": 3
      },
      "file_extension": ".py",
      "mimetype": "text/x-python",
      "name": "python",
      "nbconvert_exporter": "python",
      "pygments_lexer": "ipython3",
      "version": "3.7.3"
    },
    "colab": {
      "name": "TurakulovIslombek_Calculus_9_tasks.ipynb",
      "provenance": [],
      "collapsed_sections": [],
      "include_colab_link": true
    }
  },
  "cells": [
    {
      "cell_type": "markdown",
      "metadata": {
        "id": "view-in-github",
        "colab_type": "text"
      },
      "source": [
        "<a href=\"https://colab.research.google.com/github/IslombekTurakulov/NotebookWorks/blob/main/TurakulovIslombek_Calculus_9_tasks.ipynb\" target=\"_parent\"><img src=\"https://colab.research.google.com/assets/colab-badge.svg\" alt=\"Open In Colab\"/></a>"
      ]
    },
    {
      "cell_type": "code",
      "metadata": {
        "id": "1Rd-LpJn71y1"
      },
      "source": [
        "import sympy\n",
        "from sympy import Symbol, symbols, S, Function, integrate, Integral, diff, solve"
      ],
      "execution_count": 1,
      "outputs": []
    },
    {
      "cell_type": "markdown",
      "metadata": {
        "id": "_gjl6e_x71y7"
      },
      "source": [
        "## Занятие 9\n",
        "## Математический анализ\n",
        "## Интегрирование функции: первообразная и неопределенный интеграл\n",
        "https://docs.sympy.org/1.5.1/modules/integrals/integrals.html\n",
        "\n",
        "https://ru.wikipedia.org/wiki/%D0%9F%D0%B5%D1%80%D0%B2%D0%BE%D0%BE%D0%B1%D1%80%D0%B0%D0%B7%D0%BD%D0%B0%D1%8F\n",
        "\n",
        "https://ru.wikipedia.org/wiki/%D0%A1%D0%BF%D0%B8%D1%81%D0%BE%D0%BA_%D0%B8%D0%BD%D1%82%D0%B5%D0%B3%D1%80%D0%B0%D0%BB%D0%BE%D0%B2_%D1%8D%D0%BB%D0%B5%D0%BC%D0%B5%D0%BD%D1%82%D0%B0%D1%80%D0%BD%D1%8B%D1%85_%D1%84%D1%83%D0%BD%D0%BA%D1%86%D0%B8%D0%B9"
      ]
    },
    {
      "cell_type": "markdown",
      "metadata": {
        "id": "HG39cukO71y8"
      },
      "source": [
        "### Задача 1.\n",
        "Вычислить определенные интегралы:\n",
        "$$\n",
        "1)\\ \\int_2^3 \\frac{1}{\\sqrt{x-2}},\\ 2) \\int_1^6 \\frac{1}{(x-1)^3},\\ 3)\\ \\int_2^\\infty \\frac{1}{(x-1)^3} \n",
        "$$"
      ]
    },
    {
      "cell_type": "code",
      "metadata": {
        "colab": {
          "base_uri": "https://localhost:8080/",
          "height": 91
        },
        "id": "nbeV_daG71y8",
        "outputId": "2e4ce751-2835-4650-eb59-7144d088327a"
      },
      "source": [
        "from sympy.abc import x\n",
        "display(integrate(1/sympy.sqrt(x - 2), (x, 2, 3)))\n",
        "display(integrate(1/((x - 1)**3), (x, 1, 6)))\n",
        "display(integrate(1/((x - 1)**3), (x, 2, sympy.oo)))"
      ],
      "execution_count": null,
      "outputs": [
        {
          "output_type": "display_data",
          "data": {
            "text/latex": "$\\displaystyle 2$",
            "text/plain": [
              "2"
            ]
          },
          "metadata": {
            "tags": []
          }
        },
        {
          "output_type": "display_data",
          "data": {
            "text/latex": "$\\displaystyle \\infty$",
            "text/plain": [
              "oo"
            ]
          },
          "metadata": {
            "tags": []
          }
        },
        {
          "output_type": "display_data",
          "data": {
            "text/latex": "$\\displaystyle \\frac{1}{2}$",
            "text/plain": [
              "1/2"
            ]
          },
          "metadata": {
            "tags": []
          }
        }
      ]
    },
    {
      "cell_type": "markdown",
      "metadata": {
        "id": "RnFD7wlT71y8"
      },
      "source": [
        "### Задача 2\n",
        "Описать функцию, находящую неопределенный интеграл $\\int f(x)\\,dx$ в виде $F(x)+C$.\n",
        "\n",
        "Использовать эту функцию для интегрирования $\\sin(3x+5)$, $x{\\rm tg}(x^2)$, $(e^{\\sin x})\\cos x$, $x^2e^{x^3}$"
      ]
    },
    {
      "cell_type": "code",
      "metadata": {
        "colab": {
          "base_uri": "https://localhost:8080/",
          "height": 177
        },
        "id": "9j9ZLZXS71y9",
        "outputId": "ae116188-0884-445f-e7fa-8fa1e28424ff"
      },
      "source": [
        "from sympy.abc import x, C\n",
        "listExpr = [sympy.sin(3*x + 5), x*sympy.tan(x**2),  (sympy.exp(sympy.sin(x)))*sympy.cos(x), (x**2)*sympy.exp(x**3)]\n",
        "for expr in listExpr:\n",
        "    display(sympy.Eq(Integral(expr), expr.integrate() + C))"
      ],
      "execution_count": null,
      "outputs": [
        {
          "output_type": "display_data",
          "data": {
            "text/latex": "$\\displaystyle \\int \\sin{\\left(3 x + 5 \\right)}\\, dx = C - \\frac{\\cos{\\left(3 x + 5 \\right)}}{3}$",
            "text/plain": [
              "Eq(Integral(sin(3*x + 5), x), C - cos(3*x + 5)/3)"
            ]
          },
          "metadata": {
            "tags": []
          }
        },
        {
          "output_type": "display_data",
          "data": {
            "text/latex": "$\\displaystyle \\int x \\tan{\\left(x^{2} \\right)}\\, dx = C + \\frac{\\log{\\left(\\tan^{2}{\\left(x^{2} \\right)} + 1 \\right)}}{4}$",
            "text/plain": [
              "Eq(Integral(x*tan(x**2), x), C + log(tan(x**2)**2 + 1)/4)"
            ]
          },
          "metadata": {
            "tags": []
          }
        },
        {
          "output_type": "display_data",
          "data": {
            "text/latex": "$\\displaystyle \\int e^{\\sin{\\left(x \\right)}} \\cos{\\left(x \\right)}\\, dx = C + e^{\\sin{\\left(x \\right)}}$",
            "text/plain": [
              "Eq(Integral(exp(sin(x))*cos(x), x), C + exp(sin(x)))"
            ]
          },
          "metadata": {
            "tags": []
          }
        },
        {
          "output_type": "display_data",
          "data": {
            "text/latex": "$\\displaystyle \\int x^{2} e^{x^{3}}\\, dx = C + \\frac{e^{x^{3}}}{3}$",
            "text/plain": [
              "Eq(Integral(x**2*exp(x**3), x), C + exp(x**3)/3)"
            ]
          },
          "metadata": {
            "tags": []
          }
        }
      ]
    },
    {
      "cell_type": "markdown",
      "metadata": {
        "id": "2BwpqIWw71y9"
      },
      "source": [
        "### Задача 3.\n",
        "Найти первообразную функции $\\frac{x-3}{(x+1)^2}$, график которой проходит через начало координат."
      ]
    },
    {
      "cell_type": "code",
      "metadata": {
        "colab": {
          "base_uri": "https://localhost:8080/",
          "height": 58
        },
        "id": "JQl4A2mR71y9",
        "outputId": "85a19506-e6f3-4f1d-836c-82ed25fd1951"
      },
      "source": [
        "from sympy.abc import x\n",
        "func = (x - 3)/((x+1)**2)\n",
        "display(sympy.Eq(Integral(func), func.integrate() + -func.integrate().subs(x, 0)))\n"
      ],
      "execution_count": null,
      "outputs": [
        {
          "output_type": "display_data",
          "data": {
            "text/latex": "$\\displaystyle \\int \\frac{x - 3}{\\left(x + 1\\right)^{2}}\\, dx = \\log{\\left(x + 1 \\right)} - 4 + \\frac{4}{x + 1}$",
            "text/plain": [
              "Eq(Integral((x - 3)/(x + 1)**2, x), log(x + 1) - 4 + 4/(x + 1))"
            ]
          },
          "metadata": {
            "tags": []
          }
        }
      ]
    },
    {
      "cell_type": "markdown",
      "metadata": {
        "id": "tdvmMgTN71y9"
      },
      "source": [
        "### Задача 4.\n",
        "Описать функцию, вычисляющую неопределенный интеграл от $\\frac{1}{\\sqrt{x^2+a}}$ по формуле \"длинного логарифма\":\n",
        "$$\n",
        "\\int\\frac{1}{\\sqrt{x^2+a}} = \\ln|x + \\sqrt{x^2 + a}| + C,\\quad a \\neq 0. \n",
        "$$\n",
        "Функция возвращает $\\ln|x| + C$ при $a = 0$. Аргументы функции - переменная интегрирования $x$ и параметр $a$.\n",
        "\n",
        "Вызвать функцию при $a = 0, 1, 4$. Сравнить с результатом integrate.\n",
        "\n",
        "Проверить дифференцированием, при необходимости использовать simplyfy для того, чтобы упростить выражение.\n",
        "\n",
        "Рекомендется создавать положительные символы, чтобы не было неоднозначности."
      ]
    },
    {
      "cell_type": "code",
      "metadata": {
        "colab": {
          "base_uri": "https://localhost:8080/",
          "height": 324
        },
        "id": "7lxNXz0L71y-",
        "outputId": "5b59fdd8-c394-4ca8-c7ee-46621c9b17f4"
      },
      "source": [
        "x, C = symbols('x C', positive = True)\n",
        "def func(a):\n",
        "    if a == 0:\n",
        "        return sympy.log(abs(x)) + C\n",
        "    else:\n",
        "        return sympy.log(abs(x + sympy.sqrt(x**2 + a))) + C\n",
        "\n",
        "a = Symbol('a', positive = True)\n",
        "fun = 1/sympy.sqrt(x**2 + a)\n",
        "for a1 in [0, 1, 4]:\n",
        "    display(sympy.Eq(Integral(fun.subs(a, a1)), fun.subs(a, a1).integrate() + C))\n",
        "    display(sympy.simplify(diff(func(a1) - C)))\n",
        "    display(func(a1))"
      ],
      "execution_count": null,
      "outputs": [
        {
          "output_type": "display_data",
          "data": {
            "text/latex": "$\\displaystyle \\int \\frac{1}{x}\\, dx = C + \\log{\\left(x \\right)}$",
            "text/plain": [
              "Eq(Integral(1/x, x), C + log(x))"
            ]
          },
          "metadata": {
            "tags": []
          }
        },
        {
          "output_type": "display_data",
          "data": {
            "text/latex": "$\\displaystyle \\frac{1}{x}$",
            "text/plain": [
              "1/x"
            ]
          },
          "metadata": {
            "tags": []
          }
        },
        {
          "output_type": "display_data",
          "data": {
            "text/latex": "$\\displaystyle C + \\log{\\left(x \\right)}$",
            "text/plain": [
              "C + log(x)"
            ]
          },
          "metadata": {
            "tags": []
          }
        },
        {
          "output_type": "display_data",
          "data": {
            "text/latex": "$\\displaystyle \\int \\frac{1}{\\sqrt{x^{2} + 1}}\\, dx = C + \\operatorname{asinh}{\\left(x \\right)}$",
            "text/plain": [
              "Eq(Integral(1/sqrt(x**2 + 1), x), C + asinh(x))"
            ]
          },
          "metadata": {
            "tags": []
          }
        },
        {
          "output_type": "display_data",
          "data": {
            "text/latex": "$\\displaystyle \\frac{1}{\\sqrt{x^{2} + 1}}$",
            "text/plain": [
              "1/sqrt(x**2 + 1)"
            ]
          },
          "metadata": {
            "tags": []
          }
        },
        {
          "output_type": "display_data",
          "data": {
            "text/latex": "$\\displaystyle C + \\log{\\left(x + \\sqrt{x^{2} + 1} \\right)}$",
            "text/plain": [
              "C + log(x + sqrt(x**2 + 1))"
            ]
          },
          "metadata": {
            "tags": []
          }
        },
        {
          "output_type": "display_data",
          "data": {
            "text/latex": "$\\displaystyle \\int \\frac{1}{\\sqrt{x^{2} + 4}}\\, dx = C + \\operatorname{asinh}{\\left(\\frac{x}{2} \\right)}$",
            "text/plain": [
              "Eq(Integral(1/sqrt(x**2 + 4), x), C + asinh(x/2))"
            ]
          },
          "metadata": {
            "tags": []
          }
        },
        {
          "output_type": "display_data",
          "data": {
            "text/latex": "$\\displaystyle \\frac{1}{\\sqrt{x^{2} + 4}}$",
            "text/plain": [
              "1/sqrt(x**2 + 4)"
            ]
          },
          "metadata": {
            "tags": []
          }
        },
        {
          "output_type": "display_data",
          "data": {
            "text/latex": "$\\displaystyle C + \\log{\\left(x + \\sqrt{x^{2} + 4} \\right)}$",
            "text/plain": [
              "C + log(x + sqrt(x**2 + 4))"
            ]
          },
          "metadata": {
            "tags": []
          }
        }
      ]
    },
    {
      "cell_type": "markdown",
      "metadata": {
        "id": "rKC5JFlC71y-"
      },
      "source": [
        "### Задача 5.\n",
        "Провести замену переменной $y = x^2$ в интеграле $\\int x e^{x^2}\\,dx$."
      ]
    },
    {
      "cell_type": "code",
      "metadata": {
        "colab": {
          "base_uri": "https://localhost:8080/",
          "height": 54
        },
        "id": "wWuk753r71y_",
        "outputId": "2dbc4466-3c35-48d7-bd0c-e64174b562fb"
      },
      "source": [
        "y = Symbol('y', positive = True)\n",
        "display(sympy.Eq(Integral(x*sympy.exp(x**2)), Integral(x*sympy.exp(x**2)).transform(x**2, y)))"
      ],
      "execution_count": null,
      "outputs": [
        {
          "output_type": "display_data",
          "data": {
            "text/latex": "$\\displaystyle \\int x e^{x^{2}}\\, dx = \\int \\frac{e^{y}}{2}\\, dy$",
            "text/plain": [
              "Eq(Integral(x*exp(x**2), x), Integral(exp(y)/2, y))"
            ]
          },
          "metadata": {
            "tags": []
          }
        }
      ]
    },
    {
      "cell_type": "markdown",
      "metadata": {
        "id": "vQ8ZlHi571y_"
      },
      "source": [
        "### Индивидуальное задание\n",
        "Провести замену переменных в определенном интеграле, представить результат в виде двух уравнений, как в примере:\n",
        "\\begin{align*}\n",
        "\\int_1^4 \\frac{dx}{\\sqrt{x}\\left(\\sqrt{x}+1\\right)} = \\int_1^2 \\frac{2\\,dy}{y + 1}\\\\\n",
        "\\int_1^2 \\frac{2\\,dy}{y + 1} = 2(\\ln 3 - \\ln 2)\n",
        "\\end{align*}\n",
        "(с точностью до перестановки слагаемых и сомножителей)\n",
        "\n",
        "Вариант 140\n",
        "\n",
        "$$\\int\\limits_{\\frac{\\pi}{6}}^{\\frac{\\pi}{3}} \\frac{\\cos{\\left(x \\right)}}{\\sin{\\left(x \\right)}}\\, dx$$\n",
        "замена $y = \\sin{\\left(x \\right)}$"
      ]
    },
    {
      "cell_type": "code",
      "metadata": {
        "id": "bIshPPkY71y_",
        "colab": {
          "base_uri": "https://localhost:8080/",
          "height": 116
        },
        "outputId": "4df395f5-e7d5-42f3-8245-64d78d0a1e48"
      },
      "source": [
        "x, y = symbols('x y', positive = True)\n",
        "func = sympy.cos(x)/sympy.sin(x)\n",
        "I1 = Integral(func, (x, sympy.log(sympy.pi/3), sympy.log(sympy.pi/6)))\n",
        "I2 = I1.transform(sympy.sin(x), y)\n",
        "display(sympy.Eq(I1, I2))\n",
        "display(sympy.Eq(I2, I2.doit()))\n"
      ],
      "execution_count": 3,
      "outputs": [
        {
          "output_type": "display_data",
          "data": {
            "text/latex": "$\\displaystyle \\int\\limits_{\\log{\\left(\\frac{\\pi}{3} \\right)}}^{\\log{\\left(\\frac{\\pi}{6} \\right)}} \\frac{\\cos{\\left(x \\right)}}{\\sin{\\left(x \\right)}}\\, dx = \\int\\limits_{\\sin{\\left(\\log{\\left(\\frac{\\pi}{6} \\right)} \\right)}}^{\\sin{\\left(\\log{\\left(\\frac{\\pi}{3} \\right)} \\right)}} \\left(- \\frac{1}{y}\\right)\\, dy$",
            "text/plain": [
              "Eq(Integral(cos(x)/sin(x), (x, log(pi/3), log(pi/6))), Integral(-1/y, (y, sin(log(pi/6)), sin(log(pi/3)))))"
            ]
          },
          "metadata": {
            "tags": []
          }
        },
        {
          "output_type": "display_data",
          "data": {
            "text/latex": "$\\displaystyle \\text{False}$",
            "text/plain": [
              "False"
            ]
          },
          "metadata": {
            "tags": []
          }
        }
      ]
    }
  ]
}