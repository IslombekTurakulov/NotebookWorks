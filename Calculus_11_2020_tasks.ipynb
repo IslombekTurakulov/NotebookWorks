{
  "nbformat": 4,
  "nbformat_minor": 0,
  "metadata": {
    "kernelspec": {
      "display_name": "Python 3",
      "language": "python",
      "name": "python3"
    },
    "language_info": {
      "codemirror_mode": {
        "name": "ipython",
        "version": 3
      },
      "file_extension": ".py",
      "mimetype": "text/x-python",
      "name": "python",
      "nbconvert_exporter": "python",
      "pygments_lexer": "ipython3",
      "version": "3.7.3"
    },
    "colab": {
      "name": "Calculus_11_2020_tasks.ipynb",
      "provenance": [],
      "collapsed_sections": [],
      "toc_visible": true,
      "include_colab_link": true
    }
  },
  "cells": [
    {
      "cell_type": "markdown",
      "metadata": {
        "id": "view-in-github",
        "colab_type": "text"
      },
      "source": [
        "<a href=\"https://colab.research.google.com/github/IslombekTurakulov/NotebookWorks/blob/main/Calculus_11_2020_tasks.ipynb\" target=\"_parent\"><img src=\"https://colab.research.google.com/assets/colab-badge.svg\" alt=\"Open In Colab\"/></a>"
      ]
    },
    {
      "cell_type": "code",
      "metadata": {
        "id": "KbINy3vICHvm"
      },
      "source": [
        "import sympy\n",
        "from sympy import S, Symbol, symbols, Function, integrate, diff, Curve, plot, plot_parametric, latex, solveset, Interval\n",
        "from sympy import sin as Sin\n",
        "from sympy import cos as Cos\n",
        "from sympy import pi as Pi\n",
        "%matplotlib inline"
      ],
      "execution_count": null,
      "outputs": []
    },
    {
      "cell_type": "markdown",
      "metadata": {
        "id": "Uq-ykM5CCHvv"
      },
      "source": [
        "## Занятие 11\n",
        "## Математический анализ\n",
        "## Применение интегралов для вычисления площади фигуры и длины дуги \n",
        "\n",
        "### Задание 1\n",
        "Вычислить площадь фигуры, ограниченной графиками функций $f = 2 + x^2$ и  $g = 2 - x^3$. Построить графики, найти точки пересечения, затем вычислить соответствующие интегралы."
      ]
    },
    {
      "cell_type": "code",
      "metadata": {
        "id": "azx3TB1RCHvv",
        "colab": {
          "base_uri": "https://localhost:8080/",
          "height": 363
        },
        "outputId": "ad63ca54-f419-4596-bdad-dc852131d87f"
      },
      "source": [
        "from sympy.abc import x, t, a, b\n",
        "f = 2 + x**2\n",
        "g = 2 - x**3\n",
        "\n",
        "a, b = sympy.solve(f - g)\n",
        "I = abs(integrate(f, (x, a, b)) - integrate(g, (x, a, b)))\n",
        "p = plot(show=False)\n",
        "p.append(plot(f, (x, a, b), line_color='magenta', show = False)[0])\n",
        "p.append(plot(g, (x, a, b), line_color='aqua', show = False)[0])\n",
        "p.show()\n",
        "print('\\n')\n",
        "display(I)"
      ],
      "execution_count": null,
      "outputs": [
        {
          "output_type": "display_data",
          "data": {
            "image/png": "[encoded data removed]",
            "text/plain": [
              "<Figure size 432x288 with 1 Axes>"
            ]
          },
          "metadata": {
            "tags": [],
            "needs_background": "light"
          }
        },
        {
          "output_type": "stream",
          "text": [
            "\n",
            "\n"
          ],
          "name": "stdout"
        },
        {
          "output_type": "display_data",
          "data": {
            "text/latex": "$\\displaystyle \\frac{1}{12}$",
            "text/plain": [
              "1/12"
            ]
          },
          "metadata": {
            "tags": []
          }
        }
      ]
    },
    {
      "cell_type": "markdown",
      "metadata": {
        "id": "zmoSu_A3CHvw"
      },
      "source": [
        "### Задача 2.\n",
        "Вычислить площадь фигуры, ограниченной графиком функции $x = \\cos^3(t)$, $y = \\sin^3(t)$, $0 \\le t \\le 2\\pi$."
      ]
    },
    {
      "cell_type": "code",
      "metadata": {
        "id": "OFFcz_jUCHvw",
        "colab": {
          "base_uri": "https://localhost:8080/",
          "height": 51
        },
        "outputId": "c40caa20-2327-4552-dc99-8ebdf7d29aa0"
      },
      "source": [
        "a = 0\n",
        "b = 2*Pi\n",
        "\n",
        "x = Cos(t)**3\n",
        "y = Sin(t)**3\n",
        "\n",
        "(y*x.diff(t)).integrate((t, b, a))"
      ],
      "execution_count": null,
      "outputs": [
        {
          "output_type": "execute_result",
          "data": {
            "text/latex": "$\\displaystyle \\frac{3 \\pi}{8}$",
            "text/plain": [
              "3*pi/8"
            ]
          },
          "metadata": {
            "tags": []
          },
          "execution_count": 23
        }
      ]
    },
    {
      "cell_type": "markdown",
      "metadata": {
        "id": "n43vdmDWCHvx"
      },
      "source": [
        "### Задача 3.\n",
        "Вычислить площадь фигуры, ограниченной графиком функции $r = \\cos(2\\phi)$, $-\\frac{\\pi}{4} \\le \\phi \\le \\frac{\\pi}{4}$. "
      ]
    },
    {
      "cell_type": "code",
      "metadata": {
        "id": "_iiwuqSlCHvx",
        "colab": {
          "base_uri": "https://localhost:8080/",
          "height": 47
        },
        "outputId": "ad6ce762-6ab4-431c-8730-f5cccf7d7fba"
      },
      "source": [
        "a = -Pi/4\n",
        "b = Pi/4\n",
        "phi = S('phi')\n",
        "r = Cos(2*phi)\n",
        "\n",
        "S(1)/2*integrate(r**2,(phi, a, b))"
      ],
      "execution_count": null,
      "outputs": [
        {
          "output_type": "execute_result",
          "data": {
            "text/latex": "$\\displaystyle \\frac{\\pi}{8}$",
            "text/plain": [
              "pi/8"
            ]
          },
          "metadata": {
            "tags": []
          },
          "execution_count": 24
        }
      ]
    },
    {
      "cell_type": "markdown",
      "metadata": {
        "id": "6DBJg7jjCHvx"
      },
      "source": [
        "### Задача 4.\n",
        "Вычислить длину кривой, заданной уравнением $y^2 = x^3$ при $x$ от 1 до 3. (Обратите внимание, что у кривой две ветви, симметричные относительно оси OX!)"
      ]
    },
    {
      "cell_type": "code",
      "metadata": {
        "id": "pBOX3fr8CHvx",
        "colab": {
          "base_uri": "https://localhost:8080/",
          "height": 80
        },
        "outputId": "00f80869-1a60-4296-b075-9b59c8ffdab3"
      },
      "source": [
        "from sympy.abc import a, b, x\n",
        "f = Function('f')\n",
        "\n",
        "l = ((1 + (f(x).diff(x))**2)**(S(1)/2)).integrate((x, a, b))\n",
        "l1 = l.subs({f(x):(x**(S(3)/2)), a: 1, b:3})\n",
        "sympy.Eq(2*l1, 2*l1.doit())"
      ],
      "execution_count": null,
      "outputs": [
        {
          "output_type": "execute_result",
          "data": {
            "text/latex": "$\\displaystyle 2 \\int\\limits_{1}^{3} \\sqrt{\\left(\\frac{d}{d x} x^{\\frac{3}{2}}\\right)^{2} + 1}\\, dx = - \\frac{26 \\sqrt{13}}{27} + \\frac{62 \\sqrt{31}}{27}$",
            "text/plain": [
              "Eq(2*Integral(sqrt(Derivative(x**(3/2), x)**2 + 1), (x, 1, 3)), -26*sqrt(13)/27 + 62*sqrt(31)/27)"
            ]
          },
          "metadata": {
            "tags": []
          },
          "execution_count": 42
        }
      ]
    },
    {
      "cell_type": "markdown",
      "metadata": {
        "id": "wkkKvdIpCHvy"
      },
      "source": [
        "### Задача 5.\n",
        "Вычислить длину кривой, заданной параметрически $x = \\frac{3}{2}\\cos^3 t $, $y = 3\\sin^3 t$."
      ]
    },
    {
      "cell_type": "code",
      "metadata": {
        "id": "evvOth6JCHvy",
        "colab": {
          "base_uri": "https://localhost:8080/",
          "height": 37
        },
        "outputId": "a6ab8104-400d-4925-957c-4455cb1cc959"
      },
      "source": [
        "from sympy.abc import t\n",
        "\n",
        "x = sympy.S(3)/2*Cos(t)**3\n",
        "y = 3*Sin(t)**3\n",
        "\n",
        "display(((x.diff(t)**2 + y.diff(t)**2)**(S(1)/2)).integrate((t, 0, 2*Pi)).simplify())"
      ],
      "execution_count": null,
      "outputs": [
        {
          "output_type": "display_data",
          "data": {
            "text/latex": "$\\displaystyle 14$",
            "text/plain": [
              "14"
            ]
          },
          "metadata": {
            "tags": []
          }
        }
      ]
    },
    {
      "cell_type": "markdown",
      "metadata": {
        "id": "vEgMacbgCHvy"
      },
      "source": [
        "### Задача 6.\n",
        "Вычислить длину кривой, заданной в полярных координатах\n",
        "$r = \\phi$, $\\phi$ от 0 до $2\\pi$. Результат вычислить приближенно до 3 знаков после запятой."
      ]
    },
    {
      "cell_type": "code",
      "metadata": {
        "id": "DRR28-D7CHvy",
        "colab": {
          "base_uri": "https://localhost:8080/",
          "height": 52
        },
        "outputId": "ccde9df9-993c-4f40-9416-fb478ee63565"
      },
      "source": [
        "phi = S('phi')\n",
        "display((((phi**2 + phi.diff(phi)**2)**(S(1)/2)).integrate((phi, 0, 2*Pi))))"
      ],
      "execution_count": null,
      "outputs": [
        {
          "output_type": "display_data",
          "data": {
            "text/latex": "$\\displaystyle \\frac{\\operatorname{asinh}{\\left(2 \\pi \\right)}}{2} + \\pi \\sqrt{1 + 4 \\pi^{2}}$",
            "text/plain": [
              "asinh(2*pi)/2 + pi*sqrt(1 + 4*pi**2)"
            ]
          },
          "metadata": {
            "tags": []
          }
        }
      ]
    },
    {
      "cell_type": "markdown",
      "metadata": {
        "id": "gNctifYXCHvz"
      },
      "source": [
        "### Индивидуальное задание № 139\n",
        "Вычислить площадь фигуры, ограниченной графиками функций $f = 2\\sin(x)$ и  $g = \\cos(2x)$ на интервале  $[0, \\pi]$. Построить графики, найти точки пересечения (выделить корни на интервале с помощью intersect и Interval), затем вычислить соответствующие интегралы."
      ]
    },
    {
      "cell_type": "code",
      "metadata": {
        "id": "v-7BD9qLCHvz",
        "colab": {
          "base_uri": "https://localhost:8080/",
          "height": 317
        },
        "outputId": "44bf4e6a-74ed-4b1a-c5a2-6b21aa67ba9e"
      },
      "source": [
        "f = 2*Cos(x)\n",
        "g = Cos(2*x)\n",
        "\n",
        "a, b = list(sympy.solveset(f - g).intersection(Interval(Pi/10, 19*Pi/10)))\n",
        "\n",
        "display(abs(integrate(f,(x, a, b)).evalf() - integrate(g,(x, a, b)).evalf()))\n",
        "\n",
        "p = plot(f, (x, Pi/10, 19*Pi/10), line_color='magenta', show = False)\n",
        "p.append(plot(g, (x, Pi/10, 19*Pi/10), line_color='aqua', show = False)[0])\n",
        "\n",
        "p.show()"
      ],
      "execution_count": null,
      "outputs": [
        {
          "output_type": "display_data",
          "data": {
            "text/latex": "$\\displaystyle 4.40366947504161$",
            "text/plain": [
              "4.40366947504161"
            ]
          },
          "metadata": {
            "tags": []
          }
        },
        {
          "output_type": "display_data",
          "data": {
            "image/png": "[encoded data removed]",
            "text/plain": [
              "<Figure size 432x288 with 1 Axes>"
            ]
          },
          "metadata": {
            "tags": [],
            "needs_background": "light"
          }
        }
      ]
    }
  ]
}