{
  "nbformat": 4,
  "nbformat_minor": 0,
  "metadata": {
    "kernelspec": {
      "display_name": "Python 3",
      "language": "python",
      "name": "python3"
    },
    "language_info": {
      "codemirror_mode": {
        "name": "ipython",
        "version": 3
      },
      "file_extension": ".py",
      "mimetype": "text/x-python",
      "name": "python",
      "nbconvert_exporter": "python",
      "pygments_lexer": "ipython3",
      "version": "3.7.3"
    },
    "colab": {
      "name": "TurakulovIslombek_Alg_16_2020_par_task.ipynb",
      "provenance": [],
      "include_colab_link": true
    }
  },
  "cells": [
    {
      "cell_type": "markdown",
      "metadata": {
        "id": "view-in-github",
        "colab_type": "text"
      },
      "source": [
        "<a href=\"https://colab.research.google.com/github/IslombekTurakulov/NotebookWorks/blob/add-license-1/TurakulovIslombek_Alg_16_2020_par_task.ipynb\" target=\"_parent\"><img src=\"https://colab.research.google.com/assets/colab-badge.svg\" alt=\"Open In Colab\"/></a>"
      ]
    },
    {
      "cell_type": "code",
      "metadata": {
        "id": "KAEYymU8Mqgr"
      },
      "source": [
        "import sympy\n",
        "import numpy as np\n",
        "from sympy import Eq, plot_implicit, Matrix, plot, symbols\n",
        "from sympy.core import sympify\n",
        "from sympy.geometry.point import Point, Point2D, Point3D\n",
        "from sympy.geometry.line import Line\n",
        "from sympy.core.symbol import _symbol\n",
        "from sympy import pi as Pi\n",
        "from sympy import cos as Cos\n",
        "from sympy import sin as Sin\n",
        "from sympy.geometry.entity import GeometryEntity, GeometrySet\n",
        "import matplotlib.pyplot as plt"
      ],
      "execution_count": null,
      "outputs": []
    },
    {
      "cell_type": "markdown",
      "metadata": {
        "id": "zdf4zp7UMqgs"
      },
      "source": [
        "# Занятие 16\n",
        "# Алгебра\n",
        "## Кривые второго порядка на плоскости: парабола"
      ]
    },
    {
      "cell_type": "markdown",
      "metadata": {
        "id": "y6BXUeA0Mqgt"
      },
      "source": [
        "### Задание 1\n",
        "Определить класс parabola по образцу класса ellipse.\n",
        "\n",
        "Реализовать атрибуты: \n",
        "\n",
        "параметр $p$,\n",
        "\n",
        "вершина (vertex) в виде точки Point\n",
        "\n",
        "фокус (focus) в виде точки Point\n",
        "\n",
        "угол angle по умолчанию 0 для параболы с осью, параллельной OX, \n",
        "а для параболы с осью, параллельной  OY angle = $\\pi/2$\n",
        "\n",
        "ось симметрии (axis_symmetry) в виде прямой Line\n",
        "\n",
        "директриса (directrix) в виде прямой Line\n",
        "\n",
        "Реализовать методы \n",
        "\n",
        "equation(self) - уравнение параболы,\n",
        "\n",
        "dir_equation(self) - уравнение директрисы,\n",
        "\n",
        "ax_sym_equation(self) - уравнение оси симметрии,\n",
        "\n",
        "rotate(self, angle) - поворот на угол angle против часовой стрелки, метод не изменяет параболу, а возвращает параболу с теми же p и вершиной, но угол увеличен на angle по сравнению с исходной параболой. \n",
        "\n",
        "В конструкторе экземпляра класса  \n",
        "\n",
        "__new__(cls, p, vertex=None, angle=None)\n",
        "\n",
        "p - обязательный параметр, а вид параболы по умолчанию  - парабола с осью, параллельной оси OX,\n",
        "вершина по умолчанию в начале координат."
      ]
    },
    {
      "cell_type": "code",
      "metadata": {
        "id": "OaOfskB4Mqgu"
      },
      "source": [
        "class Parabola(GeometrySet):\n",
        "\n",
        "  def __new__(\n",
        "      cls, p, vertex=None, angle=None, **kwargs):\n",
        "      \n",
        "      p = sympify(p)\n",
        "\n",
        "      if vertex is None:\n",
        "          vertex = Point(0, 0)\n",
        "      else:\n",
        "          vertex = Point(vertex, dim=2)\n",
        "\n",
        "      if len(vertex) != 2:\n",
        "          raise ValueError('The vertex of \"{0}\" must be a two dimensional point'.format(cls))\n",
        "\n",
        "      if angle is None:\n",
        "          angle = 0\n",
        "      else:\n",
        "        angle = angle % (2*sympy.pi)\n",
        "\n",
        "\n",
        "      return GeometryEntity.__new__(cls, p, vertex, angle, **kwargs)\n",
        "    \n",
        "  @property\n",
        "  def p(self):\n",
        "    return self.args[0]\n",
        "\n",
        "  @property\n",
        "  def vertex(self):\n",
        "    return self.args[1]\n",
        "\n",
        "  @property\n",
        "  def angle(self):\n",
        "    return self.args[2]\n",
        "\n",
        "  @property\n",
        "  def foci(self):\n",
        "    return Point(self.vertex[0] + self.p * sympy.cos(self.angle), \n",
        "                    self.vertex[1] + self.p * sympy.sin(self.angle))\n",
        "      \n",
        "  @property\n",
        "  def axis_symmetry(self):\n",
        "    return Line(self.vertex, self.foci)\n",
        "\n",
        "  @property\n",
        "  def directrix(self):\n",
        "    return self.axis_symmetry.perpendicular_line(\n",
        "        Point(self.vertex[0] - self.p * sympy.cos(self.angle), \n",
        "        self.vertex[1] - self.p * sympy.sin(self.angle)))\n",
        "\n",
        "  def equation(self):\n",
        "    x, y, p, x1, y1 = symbols('x y p x1 y1')\n",
        "    angle = self.angle\n",
        "    A = Matrix([[Cos(angle),  Sin(angle)],\n",
        "               [-Sin(angle), Cos(angle)]])\n",
        "    X = Matrix((x-x1, y - y1))\n",
        "    X_new = A*X\n",
        "    eq = (X_new[1])**2 - 2*p*(X_new[0])\n",
        "\n",
        "    return eq.subs({x1:self.vertex[0], y1:self.vertex[1], p:self.p})\n",
        "\n",
        "  def dir_equation(self):\n",
        "    x, y = symbols('x y')\n",
        "    return self.directrix.equation(x = x, y=y)\n",
        "\n",
        "  def ax_sym_equation(self):\n",
        "    x, y = symbols('x y')\n",
        "    return self.axis_symmetry.equation(x = x, y=y)\n",
        "\n",
        "  def rotate(self, angle):\n",
        "    return Parabola(self.p, vertex = self.vertex, angle = self.angle + angle)"
      ],
      "execution_count": null,
      "outputs": []
    },
    {
      "cell_type": "markdown",
      "metadata": {
        "id": "ojI4Tv-yMqgu"
      },
      "source": [
        "### Задание 2\n",
        "Построить параболу с $p = 3$, вершиной в (-5, 2), осью симметрии, образующей угол $\\pi/4$ с положительным направлением оси ОХ. Вывести на экран ее параметр p, вершину, угол, фокус, ось симметрии и директрису, а также уравнение параболы, оси симметрии и директрисы. "
      ]
    },
    {
      "cell_type": "code",
      "metadata": {
        "colab": {
          "base_uri": "https://localhost:8080/",
          "height": 521
        },
        "id": "FJFXQA3oMqgv",
        "outputId": "3983b156-e5a8-47d3-83cd-287535e898b7"
      },
      "source": [
        "parabola = Parabola(3, vertex = Point(-5, 2), angle = sympy.pi/4)\n",
        "props = {'p': parabola.p, 'vertex': parabola.vertex,\n",
        "         'angle': parabola.angle, 'foci': parabola.foci,\n",
        "         'axis symmetry':parabola.axis_symmetry, 'directrix': parabola.directrix,\n",
        "         'equation': parabola.equation().simplify(), \n",
        "         'axis symmetry equation': parabola.ax_sym_equation().simplify(), \n",
        "         'dir equation': parabola.dir_equation().simplify()}\n",
        "\n",
        "for key in props.keys():\n",
        "    display(key, props[key])"
      ],
      "execution_count": null,
      "outputs": [
        {
          "output_type": "display_data",
          "data": {
            "application/vnd.google.colaboratory.intrinsic+json": {
              "type": "string"
            },
            "text/plain": [
              "'p'"
            ]
          },
          "metadata": {
            "tags": []
          }
        },
        {
          "output_type": "display_data",
          "data": {
            "text/latex": "$\\displaystyle 3$",
            "text/plain": [
              "3"
            ]
          },
          "metadata": {
            "tags": []
          }
        },
        {
          "output_type": "display_data",
          "data": {
            "application/vnd.google.colaboratory.intrinsic+json": {
              "type": "string"
            },
            "text/plain": [
              "'vertex'"
            ]
          },
          "metadata": {
            "tags": []
          }
        },
        {
          "output_type": "display_data",
          "data": {
            "text/latex": "$\\displaystyle Point2D\\left(-5, 2\\right)$",
            "text/plain": [
              "Point2D(-5, 2)"
            ]
          },
          "metadata": {
            "tags": []
          }
        },
        {
          "output_type": "display_data",
          "data": {
            "application/vnd.google.colaboratory.intrinsic+json": {
              "type": "string"
            },
            "text/plain": [
              "'angle'"
            ]
          },
          "metadata": {
            "tags": []
          }
        },
        {
          "output_type": "display_data",
          "data": {
            "text/latex": "$\\displaystyle \\frac{\\pi}{4}$",
            "text/plain": [
              "pi/4"
            ]
          },
          "metadata": {
            "tags": []
          }
        },
        {
          "output_type": "display_data",
          "data": {
            "application/vnd.google.colaboratory.intrinsic+json": {
              "type": "string"
            },
            "text/plain": [
              "'foci'"
            ]
          },
          "metadata": {
            "tags": []
          }
        },
        {
          "output_type": "display_data",
          "data": {
            "text/latex": "$\\displaystyle Point2D\\left(-5 + \\frac{3 \\sqrt{2}}{2}, 2 + \\frac{3 \\sqrt{2}}{2}\\right)$",
            "text/plain": [
              "Point2D(-5 + 3*sqrt(2)/2, 2 + 3*sqrt(2)/2)"
            ]
          },
          "metadata": {
            "tags": []
          }
        },
        {
          "output_type": "display_data",
          "data": {
            "application/vnd.google.colaboratory.intrinsic+json": {
              "type": "string"
            },
            "text/plain": [
              "'axis symmetry'"
            ]
          },
          "metadata": {
            "tags": []
          }
        },
        {
          "output_type": "display_data",
          "data": {
            "text/latex": "$\\displaystyle Line2D\\left(Point2D\\left(-5, 2\\right), Point2D\\left(-5 + \\frac{3 \\sqrt{2}}{2}, 2 + \\frac{3 \\sqrt{2}}{2}\\right)\\right)$",
            "text/plain": [
              "Line2D(Point2D(-5, 2), Point2D(-5 + 3*sqrt(2)/2, 2 + 3*sqrt(2)/2))"
            ],
            "image/svg+xml": "<svg xmlns=\"http://www.w3.org/2000/svg\"\n            xmlns:xlink=\"http://www.w3.org/1999/xlink\"\n            width=\"100.0\" height=\"100.0\" viewBox=\"-5.21213203435596 1.78786796564404 2.54558441227157 2.54558441227157\"\n            preserveAspectRatio=\"xMinYMin meet\">\n            <defs>\n                <marker id=\"markerCircle\" markerWidth=\"8\" markerHeight=\"8\"\n                    refx=\"5\" refy=\"5\" markerUnits=\"strokeWidth\">\n                    <circle cx=\"5\" cy=\"5\" r=\"1.5\" style=\"stroke: none; fill:#000000;\"/>\n                </marker>\n                <marker id=\"markerArrow\" markerWidth=\"13\" markerHeight=\"13\" refx=\"2\" refy=\"4\"\n                       orient=\"auto\" markerUnits=\"strokeWidth\">\n                    <path d=\"M2,2 L2,6 L6,4\" style=\"fill: #000000;\" />\n                </marker>\n                <marker id=\"markerReverseArrow\" markerWidth=\"13\" markerHeight=\"13\" refx=\"6\" refy=\"4\"\n                       orient=\"auto\" markerUnits=\"strokeWidth\">\n                    <path d=\"M6,2 L6,6 L2,4\" style=\"fill: #000000;\" />\n                </marker>\n            </defs><g transform=\"matrix(1,0,0,-1,0,6.12132034355964)\"><path fill-rule=\"evenodd\" fill=\"#66cc99\" stroke=\"#555555\" stroke-width=\"0.0509116882454314\" opacity=\"0.6\" d=\"M -5.00000000000000,2.00000000000000 L -2.87867965644036,4.12132034355964\" marker-start=\"url(#markerReverseArrow)\" marker-end=\"url(#markerArrow)\"/></g></svg>"
          },
          "metadata": {
            "tags": []
          }
        },
        {
          "output_type": "display_data",
          "data": {
            "application/vnd.google.colaboratory.intrinsic+json": {
              "type": "string"
            },
            "text/plain": [
              "'directrix'"
            ]
          },
          "metadata": {
            "tags": []
          }
        },
        {
          "output_type": "display_data",
          "data": {
            "text/latex": "$\\displaystyle Line2D\\left(Point2D\\left(-5 - \\frac{3 \\sqrt{2}}{2}, 2 - \\frac{3 \\sqrt{2}}{2}\\right), Point2D\\left(-5 - 3 \\sqrt{2}, 2\\right)\\right)$",
            "text/plain": [
              "Line2D(Point2D(-5 - 3*sqrt(2)/2, 2 - 3*sqrt(2)/2), Point2D(-5 - 3*sqrt(2), 2))"
            ],
            "image/svg+xml": "<svg xmlns=\"http://www.w3.org/2000/svg\"\n            xmlns:xlink=\"http://www.w3.org/1999/xlink\"\n            width=\"100.0\" height=\"100.0\" viewBox=\"-9.45477272147525 -0.333452377915607 2.54558441227157 2.54558441227157\"\n            preserveAspectRatio=\"xMinYMin meet\">\n            <defs>\n                <marker id=\"markerCircle\" markerWidth=\"8\" markerHeight=\"8\"\n                    refx=\"5\" refy=\"5\" markerUnits=\"strokeWidth\">\n                    <circle cx=\"5\" cy=\"5\" r=\"1.5\" style=\"stroke: none; fill:#000000;\"/>\n                </marker>\n                <marker id=\"markerArrow\" markerWidth=\"13\" markerHeight=\"13\" refx=\"2\" refy=\"4\"\n                       orient=\"auto\" markerUnits=\"strokeWidth\">\n                    <path d=\"M2,2 L2,6 L6,4\" style=\"fill: #000000;\" />\n                </marker>\n                <marker id=\"markerReverseArrow\" markerWidth=\"13\" markerHeight=\"13\" refx=\"6\" refy=\"4\"\n                       orient=\"auto\" markerUnits=\"strokeWidth\">\n                    <path d=\"M6,2 L6,6 L2,4\" style=\"fill: #000000;\" />\n                </marker>\n            </defs><g transform=\"matrix(1,0,0,-1,0,1.87867965644036)\"><path fill-rule=\"evenodd\" fill=\"#66cc99\" stroke=\"#555555\" stroke-width=\"0.0509116882454314\" opacity=\"0.6\" d=\"M -7.12132034355964,-0.121320343559643 L -9.24264068711929,2.00000000000000\" marker-start=\"url(#markerReverseArrow)\" marker-end=\"url(#markerArrow)\"/></g></svg>"
          },
          "metadata": {
            "tags": []
          }
        },
        {
          "output_type": "display_data",
          "data": {
            "application/vnd.google.colaboratory.intrinsic+json": {
              "type": "string"
            },
            "text/plain": [
              "'equation'"
            ]
          },
          "metadata": {
            "tags": []
          }
        },
        {
          "output_type": "display_data",
          "data": {
            "text/latex": "$\\displaystyle 3 \\sqrt{2} \\left(2 - y\\right) - 3 \\sqrt{2} \\left(x + 5\\right) + \\frac{\\left(x - y + 7\\right)^{2}}{2}$",
            "text/plain": [
              "3*sqrt(2)*(2 - y) - 3*sqrt(2)*(x + 5) + (x - y + 7)**2/2"
            ]
          },
          "metadata": {
            "tags": []
          }
        },
        {
          "output_type": "display_data",
          "data": {
            "application/vnd.google.colaboratory.intrinsic+json": {
              "type": "string"
            },
            "text/plain": [
              "'axis symmetry equation'"
            ]
          },
          "metadata": {
            "tags": []
          }
        },
        {
          "output_type": "display_data",
          "data": {
            "text/latex": "$\\displaystyle \\frac{3 \\sqrt{2} \\left(- x + y - 7\\right)}{2}$",
            "text/plain": [
              "3*sqrt(2)*(-x + y - 7)/2"
            ]
          },
          "metadata": {
            "tags": []
          }
        },
        {
          "output_type": "display_data",
          "data": {
            "application/vnd.google.colaboratory.intrinsic+json": {
              "type": "string"
            },
            "text/plain": [
              "'dir equation'"
            ]
          },
          "metadata": {
            "tags": []
          }
        },
        {
          "output_type": "display_data",
          "data": {
            "text/latex": "$\\displaystyle - \\frac{3 \\sqrt{2} x}{2} - \\frac{3 \\sqrt{2} y}{2} - 9 - \\frac{9 \\sqrt{2}}{2}$",
            "text/plain": [
              "-3*sqrt(2)*x/2 - 3*sqrt(2)*y/2 - 9 - 9*sqrt(2)/2"
            ]
          },
          "metadata": {
            "tags": []
          }
        }
      ]
    },
    {
      "cell_type": "code",
      "metadata": {
        "colab": {
          "base_uri": "https://localhost:8080/",
          "height": 297
        },
        "id": "pkYDwv3SSyUM",
        "outputId": "5f73a065-addd-43ac-c607-8fb21138339c"
      },
      "source": [
        "from sympy.abc import x, y\n",
        "eqHyp = parabola.equation()\n",
        "dict_free = {str(a): a for a in eqHyp.free_symbols}\n",
        "s = plot_implicit(parabola.equation(),(dict_free['x'], -10, 10), (dict_free['y'], -5, 10) ,aspect_ratio=(1,1), line_color = 'r',  adaptive=False, show = False)\n",
        "\n",
        "for i, item in enumerate([parabola.ax_sym_equation().simplify(), parabola.dir_equation().simplify()]):\n",
        "  if i<1:\n",
        "    color = 'b'\n",
        "  else:\n",
        "    color = 'g'\n",
        "    \n",
        "  s.extend(\n",
        "      plot_implicit(item, (dict_free['x'], -10, 10), (dict_free['y'], -5, 10),\n",
        "              line_color=color, aspect_ratio=(1, 1), adaptive=False, show = False)\n",
        "  )\n",
        "\n",
        "s.show()"
      ],
      "execution_count": null,
      "outputs": [
        {
          "output_type": "display_data",
          "data": {
            "image/png": "[encoded data removed]",
            "text/plain": [
              "<Figure size 432x288 with 1 Axes>"
            ]
          },
          "metadata": {
            "tags": [],
            "needs_background": "light"
          }
        }
      ]
    },
    {
      "cell_type": "markdown",
      "metadata": {
        "id": "Rb_pKdvMMqgv"
      },
      "source": [
        "### Индивидуальное задание 139\n",
        "Построить параболу, построить другую параболу путем поворота исходной параболы на $\\alpha$. Вывести на экран вершину, угол, фокус, ось симметрии и директрису обеих парабол. \n",
        "\n",
        "Использовать уравнения повернутой параболы, ее оси симметрии и директрисы для построения графиков в одной координатной плоскости. \n",
        "\n",
        "Цвета параболы, оси симметрии, директрисы индивидуальные, название графика Парабола, подписи осей $x$ и $y$.\n",
        "\n",
        "$p = 8$, $\\alpha = \\frac{2 \\pi}{3}$."
      ]
    },
    {
      "cell_type": "code",
      "metadata": {
        "colab": {
          "base_uri": "https://localhost:8080/",
          "height": 254
        },
        "id": "TNovcKg3Mqgv",
        "outputId": "289bcb87-201e-4f09-a9b6-749ea87304b4"
      },
      "source": [
        "parabola = Parabola(8, angle = 2*sympy.pi/3)\n",
        "eqHyp = parabola.equation()\n",
        "dict_free = {str(a): a for a in eqHyp.free_symbols}\n",
        "props = {'vertex': parabola.vertex,\n",
        "         'angle': parabola.angle, 'foci': parabola.foci,\n",
        "         'axis symmetry':parabola.axis_symmetry, 'directrix': parabola.directrix}\n",
        "\n",
        "for key in props.keys():\n",
        "    display(key, props[key])"
      ],
      "execution_count": null,
      "outputs": [
        {
          "output_type": "display_data",
          "data": {
            "application/vnd.google.colaboratory.intrinsic+json": {
              "type": "string"
            },
            "text/plain": [
              "'vertex'"
            ]
          },
          "metadata": {
            "tags": []
          }
        },
        {
          "output_type": "display_data",
          "data": {
            "text/latex": "$\\displaystyle Point2D\\left(0, 0\\right)$",
            "text/plain": [
              "Point2D(0, 0)"
            ]
          },
          "metadata": {
            "tags": []
          }
        },
        {
          "output_type": "display_data",
          "data": {
            "application/vnd.google.colaboratory.intrinsic+json": {
              "type": "string"
            },
            "text/plain": [
              "'angle'"
            ]
          },
          "metadata": {
            "tags": []
          }
        },
        {
          "output_type": "display_data",
          "data": {
            "text/latex": "$\\displaystyle \\frac{2 \\pi}{3}$",
            "text/plain": [
              "2*pi/3"
            ]
          },
          "metadata": {
            "tags": []
          }
        },
        {
          "output_type": "display_data",
          "data": {
            "application/vnd.google.colaboratory.intrinsic+json": {
              "type": "string"
            },
            "text/plain": [
              "'foci'"
            ]
          },
          "metadata": {
            "tags": []
          }
        },
        {
          "output_type": "display_data",
          "data": {
            "text/latex": "$\\displaystyle Point2D\\left(-4, 4 \\sqrt{3}\\right)$",
            "text/plain": [
              "Point2D(-4, 4*sqrt(3))"
            ]
          },
          "metadata": {
            "tags": []
          }
        },
        {
          "output_type": "display_data",
          "data": {
            "application/vnd.google.colaboratory.intrinsic+json": {
              "type": "string"
            },
            "text/plain": [
              "'axis symmetry'"
            ]
          },
          "metadata": {
            "tags": []
          }
        },
        {
          "output_type": "display_data",
          "data": {
            "text/latex": "$\\displaystyle Line2D\\left(Point2D\\left(0, 0\\right), Point2D\\left(-4, 4 \\sqrt{3}\\right)\\right)$",
            "text/plain": [
              "Line2D(Point2D(0, 0), Point2D(-4, 4*sqrt(3)))"
            ],
            "image/svg+xml": "<svg xmlns=\"http://www.w3.org/2000/svg\"\n            xmlns:xlink=\"http://www.w3.org/1999/xlink\"\n            width=\"100.0\" height=\"100.0\" viewBox=\"-4.69282032302755 -0.692820323027551 5.38564064605510 8.31384387633061\"\n            preserveAspectRatio=\"xMinYMin meet\">\n            <defs>\n                <marker id=\"markerCircle\" markerWidth=\"8\" markerHeight=\"8\"\n                    refx=\"5\" refy=\"5\" markerUnits=\"strokeWidth\">\n                    <circle cx=\"5\" cy=\"5\" r=\"1.5\" style=\"stroke: none; fill:#000000;\"/>\n                </marker>\n                <marker id=\"markerArrow\" markerWidth=\"13\" markerHeight=\"13\" refx=\"2\" refy=\"4\"\n                       orient=\"auto\" markerUnits=\"strokeWidth\">\n                    <path d=\"M2,2 L2,6 L6,4\" style=\"fill: #000000;\" />\n                </marker>\n                <marker id=\"markerReverseArrow\" markerWidth=\"13\" markerHeight=\"13\" refx=\"6\" refy=\"4\"\n                       orient=\"auto\" markerUnits=\"strokeWidth\">\n                    <path d=\"M6,2 L6,6 L2,4\" style=\"fill: #000000;\" />\n                </marker>\n            </defs><g transform=\"matrix(1,0,0,-1,0,6.92820323027551)\"><path fill-rule=\"evenodd\" fill=\"#66cc99\" stroke=\"#555555\" stroke-width=\"0.166276877526612\" opacity=\"0.6\" d=\"M 0,0 L -4.00000000000000,6.92820323027551\" marker-start=\"url(#markerReverseArrow)\" marker-end=\"url(#markerArrow)\"/></g></svg>"
          },
          "metadata": {
            "tags": []
          }
        },
        {
          "output_type": "display_data",
          "data": {
            "application/vnd.google.colaboratory.intrinsic+json": {
              "type": "string"
            },
            "text/plain": [
              "'directrix'"
            ]
          },
          "metadata": {
            "tags": []
          }
        },
        {
          "output_type": "display_data",
          "data": {
            "text/latex": "$\\displaystyle Line2D\\left(Point2D\\left(4, - 4 \\sqrt{3}\\right), Point2D\\left(4 - 4 \\sqrt{3}, - 4 \\sqrt{3} - 4\\right)\\right)$",
            "text/plain": [
              "Line2D(Point2D(4, -4*sqrt(3)), Point2D(4 - 4*sqrt(3), -4*sqrt(3) - 4))"
            ],
            "image/svg+xml": "<svg xmlns=\"http://www.w3.org/2000/svg\"\n            xmlns:xlink=\"http://www.w3.org/1999/xlink\"\n            width=\"100.0\" height=\"100.0\" viewBox=\"-3.62102355330306 -11.6210235533031 8.31384387633061 5.38564064605510\"\n            preserveAspectRatio=\"xMinYMin meet\">\n            <defs>\n                <marker id=\"markerCircle\" markerWidth=\"8\" markerHeight=\"8\"\n                    refx=\"5\" refy=\"5\" markerUnits=\"strokeWidth\">\n                    <circle cx=\"5\" cy=\"5\" r=\"1.5\" style=\"stroke: none; fill:#000000;\"/>\n                </marker>\n                <marker id=\"markerArrow\" markerWidth=\"13\" markerHeight=\"13\" refx=\"2\" refy=\"4\"\n                       orient=\"auto\" markerUnits=\"strokeWidth\">\n                    <path d=\"M2,2 L2,6 L6,4\" style=\"fill: #000000;\" />\n                </marker>\n                <marker id=\"markerReverseArrow\" markerWidth=\"13\" markerHeight=\"13\" refx=\"6\" refy=\"4\"\n                       orient=\"auto\" markerUnits=\"strokeWidth\">\n                    <path d=\"M6,2 L6,6 L2,4\" style=\"fill: #000000;\" />\n                </marker>\n            </defs><g transform=\"matrix(1,0,0,-1,0,-17.8564064605510)\"><path fill-rule=\"evenodd\" fill=\"#66cc99\" stroke=\"#555555\" stroke-width=\"0.166276877526612\" opacity=\"0.6\" d=\"M 4.00000000000000,-6.92820323027551 L -2.92820323027551,-10.9282032302755\" marker-start=\"url(#markerReverseArrow)\" marker-end=\"url(#markerArrow)\"/></g></svg>"
          },
          "metadata": {
            "tags": []
          }
        }
      ]
    },
    {
      "cell_type": "code",
      "metadata": {
        "colab": {
          "base_uri": "https://localhost:8080/",
          "height": 367
        },
        "id": "b8MLB9aMWrAW",
        "outputId": "50aaf8da-9dbf-4974-b7f7-75354f3a5dba"
      },
      "source": [
        "\n",
        "rotatedParabola = parabola.rotate(9*sympy.pi/10)\n",
        "props = {'vertex': rotatedParabola.vertex,\n",
        "         'angle': rotatedParabola.angle, 'foci': rotatedParabola.foci,\n",
        "         'axis symmetry':rotatedParabola.axis_symmetry, 'directrix': rotatedParabola.directrix}\n",
        "\n",
        "for key in props.keys():\n",
        "    display(key, props[key])"
      ],
      "execution_count": null,
      "outputs": [
        {
          "output_type": "display_data",
          "data": {
            "application/vnd.google.colaboratory.intrinsic+json": {
              "type": "string"
            },
            "text/plain": [
              "'vertex'"
            ]
          },
          "metadata": {
            "tags": []
          }
        },
        {
          "output_type": "display_data",
          "data": {
            "text/latex": "$\\displaystyle Point2D\\left(0, 0\\right)$",
            "text/plain": [
              "Point2D(0, 0)"
            ]
          },
          "metadata": {
            "tags": []
          }
        },
        {
          "output_type": "display_data",
          "data": {
            "application/vnd.google.colaboratory.intrinsic+json": {
              "type": "string"
            },
            "text/plain": [
              "'angle'"
            ]
          },
          "metadata": {
            "tags": []
          }
        },
        {
          "output_type": "display_data",
          "data": {
            "text/latex": "$\\displaystyle \\frac{47 \\pi}{30}$",
            "text/plain": [
              "47*pi/30"
            ]
          },
          "metadata": {
            "tags": []
          }
        },
        {
          "output_type": "display_data",
          "data": {
            "application/vnd.google.colaboratory.intrinsic+json": {
              "type": "string"
            },
            "text/plain": [
              "'foci'"
            ]
          },
          "metadata": {
            "tags": []
          }
        },
        {
          "output_type": "display_data",
          "data": {
            "text/latex": "$\\displaystyle Point2D\\left(4 \\sqrt{3} \\left(\\frac{1}{4} - \\frac{\\sqrt{5}}{4}\\right) + 4 \\sqrt{\\frac{\\sqrt{5}}{8} + \\frac{5}{8}}, - 4 \\sqrt{3} \\sqrt{\\frac{\\sqrt{5}}{8} + \\frac{5}{8}} - \\sqrt{5} + 1\\right)$",
            "text/plain": [
              "Point2D(4*sqrt(3)*(1/4 - sqrt(5)/4) + 4*sqrt(sqrt(5)/8 + 5/8), -4*sqrt(3)*sqrt(sqrt(5)/8 + 5/8) - sqrt(5) + 1)"
            ]
          },
          "metadata": {
            "tags": []
          }
        },
        {
          "output_type": "display_data",
          "data": {
            "application/vnd.google.colaboratory.intrinsic+json": {
              "type": "string"
            },
            "text/plain": [
              "'axis symmetry'"
            ]
          },
          "metadata": {
            "tags": []
          }
        },
        {
          "output_type": "display_data",
          "data": {
            "text/latex": "$\\displaystyle Line2D\\left(Point2D\\left(0, 0\\right), Point2D\\left(4 \\sqrt{3} \\left(\\frac{1}{4} - \\frac{\\sqrt{5}}{4}\\right) + 4 \\sqrt{\\frac{\\sqrt{5}}{8} + \\frac{5}{8}}, - 4 \\sqrt{3} \\sqrt{\\frac{\\sqrt{5}}{8} + \\frac{5}{8}} - \\sqrt{5} + 1\\right)\\right)$",
            "text/plain": [
              "Line2D(Point2D(0, 0), Point2D(4*sqrt(3)*(1/4 - sqrt(5)/4) + 4*sqrt(sqrt(5)/8 + 5/8), -4*sqrt(3)*sqrt(sqrt(5)/8 + 5/8) - sqrt(5) + 1))"
            ],
            "image/svg+xml": "<svg xmlns=\"http://www.w3.org/2000/svg\"\n            xmlns:xlink=\"http://www.w3.org/1999/xlink\"\n            width=\"100.0\" height=\"100.0\" viewBox=\"-0.782518080587045 -8.60769888645749 3.22832968771616 9.39021696704453\"\n            preserveAspectRatio=\"xMinYMin meet\">\n            <defs>\n                <marker id=\"markerCircle\" markerWidth=\"8\" markerHeight=\"8\"\n                    refx=\"5\" refy=\"5\" markerUnits=\"strokeWidth\">\n                    <circle cx=\"5\" cy=\"5\" r=\"1.5\" style=\"stroke: none; fill:#000000;\"/>\n                </marker>\n                <marker id=\"markerArrow\" markerWidth=\"13\" markerHeight=\"13\" refx=\"2\" refy=\"4\"\n                       orient=\"auto\" markerUnits=\"strokeWidth\">\n                    <path d=\"M2,2 L2,6 L6,4\" style=\"fill: #000000;\" />\n                </marker>\n                <marker id=\"markerReverseArrow\" markerWidth=\"13\" markerHeight=\"13\" refx=\"6\" refy=\"4\"\n                       orient=\"auto\" markerUnits=\"strokeWidth\">\n                    <path d=\"M6,2 L6,6 L2,4\" style=\"fill: #000000;\" />\n                </marker>\n            </defs><g transform=\"matrix(1,0,0,-1,0,-7.82518080587045)\"><path fill-rule=\"evenodd\" fill=\"#66cc99\" stroke=\"#555555\" stroke-width=\"0.187804339340891\" opacity=\"0.6\" d=\"M 0,0 L 1.66329352654207,-7.82518080587045\" marker-start=\"url(#markerReverseArrow)\" marker-end=\"url(#markerArrow)\"/></g></svg>"
          },
          "metadata": {
            "tags": []
          }
        },
        {
          "output_type": "display_data",
          "data": {
            "application/vnd.google.colaboratory.intrinsic+json": {
              "type": "string"
            },
            "text/plain": [
              "'directrix'"
            ]
          },
          "metadata": {
            "tags": []
          }
        },
        {
          "output_type": "display_data",
          "data": {
            "text/latex": "$\\displaystyle Line2D\\left(Point2D\\left(- 4 \\sqrt{\\frac{\\sqrt{5}}{8} + \\frac{5}{8}} - 4 \\sqrt{3} \\left(\\frac{1}{4} - \\frac{\\sqrt{5}}{4}\\right), -1 + \\sqrt{5} + 4 \\sqrt{3} \\sqrt{\\frac{\\sqrt{5}}{8} + \\frac{5}{8}}\\right), Point2D\\left(- \\sqrt{2 \\sqrt{5} + 10} - \\sqrt{3} - 1 + \\sqrt{5} + \\sqrt{15} + \\sqrt{6 \\sqrt{5} + 30}, - \\sqrt{15} - 1 + \\sqrt{3} + \\sqrt{5} + \\sqrt{2 \\sqrt{5} + 10} + \\sqrt{6 \\sqrt{5} + 30}\\right)\\right)$",
            "text/plain": [
              "Line2D(Point2D(-4*sqrt(sqrt(5)/8 + 5/8) - 4*sqrt(3)*(1/4 - sqrt(5)/4), -1 + sqrt(5) + 4*sqrt(3)*sqrt(sqrt(5)/8 + 5/8)), Point2D(-sqrt(2*sqrt(5) + 10) - sqrt(3) - 1 + sqrt(5) + sqrt(15) + sqrt(6*sqrt(5) + 30), -sqrt(15) - 1 + sqrt(3) + sqrt(5) + sqrt(2*sqrt(5) + 10) + sqrt(6*sqrt(5) + 30)))"
            ],
            "image/svg+xml": "<svg xmlns=\"http://www.w3.org/2000/svg\"\n            xmlns:xlink=\"http://www.w3.org/1999/xlink\"\n            width=\"100.0\" height=\"100.0\" viewBox=\"-2.44581160712912 7.04266272528340 9.39021696704453 3.22832968771616\"\n            preserveAspectRatio=\"xMinYMin meet\">\n            <defs>\n                <marker id=\"markerCircle\" markerWidth=\"8\" markerHeight=\"8\"\n                    refx=\"5\" refy=\"5\" markerUnits=\"strokeWidth\">\n                    <circle cx=\"5\" cy=\"5\" r=\"1.5\" style=\"stroke: none; fill:#000000;\"/>\n                </marker>\n                <marker id=\"markerArrow\" markerWidth=\"13\" markerHeight=\"13\" refx=\"2\" refy=\"4\"\n                       orient=\"auto\" markerUnits=\"strokeWidth\">\n                    <path d=\"M2,2 L2,6 L6,4\" style=\"fill: #000000;\" />\n                </marker>\n                <marker id=\"markerReverseArrow\" markerWidth=\"13\" markerHeight=\"13\" refx=\"6\" refy=\"4\"\n                       orient=\"auto\" markerUnits=\"strokeWidth\">\n                    <path d=\"M6,2 L6,6 L2,4\" style=\"fill: #000000;\" />\n                </marker>\n            </defs><g transform=\"matrix(1,0,0,-1,0,17.3136551382830)\"><path fill-rule=\"evenodd\" fill=\"#66cc99\" stroke=\"#555555\" stroke-width=\"0.187804339340891\" opacity=\"0.6\" d=\"M -1.66329352654207,7.82518080587045 L 6.16188727932837,9.48847433241252\" marker-start=\"url(#markerReverseArrow)\" marker-end=\"url(#markerArrow)\"/></g></svg>"
          },
          "metadata": {
            "tags": []
          }
        }
      ]
    },
    {
      "cell_type": "code",
      "metadata": {
        "colab": {
          "base_uri": "https://localhost:8080/",
          "height": 345
        },
        "id": "MoaGP3SbWtnB",
        "outputId": "4b24c8e5-bba1-4f24-8f8f-31108014d06b"
      },
      "source": [
        "p = plot_implicit(rotatedParabola.equation().simplify(),(dict_free['x'], -20, 20), (dict_free['y'], -15, 10) ,\n",
        "                  title = sympy.latex(sympy.Eq(rotatedParabola.equation().simplify(), 0), mode = 'inline') + '\\n',\n",
        "                  xlabel='$x$',ylabel='$y$', \n",
        "                  aspect_ratio=(1,1), line_color = 'm',  adaptive=False, show = False)\n",
        "\n",
        "for i, item in enumerate([rotatedParabola.ax_sym_equation().simplify(), rotatedParabola.dir_equation().simplify()]):\n",
        "  if i<1:\n",
        "    color = 'g'\n",
        "  else:\n",
        "    color = 'k'\n",
        "    \n",
        "  p.extend(\n",
        "      plot_implicit(item, (dict_free['x'], -20, 20), (dict_free['y'], -15, 10),\n",
        "              line_color=color, adaptive=False, show = False)\n",
        "  )\n",
        "\n",
        "p.show()"
      ],
      "execution_count": null,
      "outputs": [
        {
          "output_type": "stream",
          "text": [
            "/usr/local/lib/python3.7/dist-packages/sympy/plotting/plot.py:1406: UserWarning: Tight layout not applied. The left and right margins cannot be made large enough to accommodate all axes decorations. \n",
            "  self.fig.tight_layout()\n"
          ],
          "name": "stderr"
        },
        {
          "output_type": "display_data",
          "data": {
            "image/png": "[encoded data removed]",
            "text/plain": [
              "<Figure size 432x288 with 1 Axes>"
            ]
          },
          "metadata": {
            "tags": [],
            "needs_background": "light"
          }
        }
      ]
    }
  ]
}