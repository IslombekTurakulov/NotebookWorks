{
  "nbformat": 4,
  "nbformat_minor": 0,
  "metadata": {
    "kernelspec": {
      "display_name": "Python 3",
      "language": "python",
      "name": "python3"
    },
    "language_info": {
      "codemirror_mode": {
        "name": "ipython",
        "version": 3
      },
      "file_extension": ".py",
      "mimetype": "text/x-python",
      "name": "python",
      "nbconvert_exporter": "python",
      "pygments_lexer": "ipython3",
      "version": "3.7.3"
    },
    "colab": {
      "name": "TurakulovIslombek_Calculus_15_2020_tasks.ipynb",
      "provenance": [],
      "collapsed_sections": [],
      "include_colab_link": true
    }
  },
  "cells": [
    {
      "cell_type": "markdown",
      "metadata": {
        "id": "view-in-github",
        "colab_type": "text"
      },
      "source": [
        "<a href=\"https://colab.research.google.com/github/IslombekTurakulov/NotebookWorks/blob/main/TurakulovIslombek_Calculus_15_2020_tasks.ipynb\" target=\"_parent\"><img src=\"https://colab.research.google.com/assets/colab-badge.svg\" alt=\"Open In Colab\"/></a>"
      ]
    },
    {
      "cell_type": "code",
      "metadata": {
        "id": "v2eUDfYiSnO8"
      },
      "source": [
        "import sympy\n",
        "from sympy import S, Symbol, symbols, simplify, nonlinsolve, Matrix, diff, factor"
      ],
      "execution_count": null,
      "outputs": []
    },
    {
      "cell_type": "markdown",
      "metadata": {
        "id": "FdURUTfmSnO_"
      },
      "source": [
        "## Занятие 15\n",
        "## Математический анализ\n",
        "## Экстремум функции нескольких переменных \n",
        "### Задание 1\n",
        "Найти точки экстремума:\n",
        "\n",
        "1) $z = x^2 + xy + y^2 - 2x - y$\n",
        "\n",
        "2) $z = x^3y^2(6 - x - y)$, $(x, y > 0)$\n",
        "\n",
        "3) $z = \\frac{8}{x} + \\frac{x}{y} + y$\n",
        "\n",
        "4) $z = \\frac{1 + x - y}{\\sqrt{1 + x^2 + y^2}}$\n",
        "###### Указание.\n",
        "Вначале найти стационарные точки. Составить определитель из вторых производных в произвольной точке. Подставляя найденные (вещественные) стационарные точки, решить вопрос о наличии экстремума."
      ]
    },
    {
      "cell_type": "code",
      "metadata": {
        "colab": {
          "base_uri": "https://localhost:8080/",
          "height": 222
        },
        "id": "2fVR-_c1SnPA",
        "outputId": "2c4692e7-8202-4988-fab7-2ee1ff3b9227"
      },
      "source": [
        "x, y = symbols('x y', positive = True)\n",
        "z1 = x**2 + x*y + y**2 - 2*x - y\n",
        "z2 = x**3*y**2*(6-x-y)\n",
        "z3 = 8/x + x/y + y\n",
        "z4 = (1 + x - y)/(1 + x**2+y**2)**S.Half\n",
        "\n",
        "#stat_points = []\n",
        "#stat_points.append(nonlinsolve([z4.diff(x), z4.diff(y)], [x, y]))\n",
        "#stat_points.append(nonlinsolve([z1.diff(x), z1.diff(y)], [x, y]))\n",
        "#stat_points.append(nonlinsolve([z2.diff(x), z2.diff(y)], [x, y]))\n",
        "#stat_points.append(nonlinsolve([z3.diff(x), z3.diff(y)], [x, y]))\n",
        "\n",
        "for k in [z1, z2, z3, z4]:\n",
        "  stat_points = nonlinsolve([k.diff(x), k.diff(y)], [x, y])\n",
        "  Delta = Matrix(\n",
        "      [[k.diff(x, 2), k.diff(x, y)], \n",
        "       [k.diff(x, y), k.diff(y, 2)]\n",
        "       ]).det()\n",
        "  for item in stat_points:\n",
        "    x0, y0 = tuple(item)\n",
        "    if x0.is_real and y0.is_real:\n",
        "      if Delta.subs({x: x0, y: y0}) > 0:\n",
        "        A = k.diff(x, 2).subs({x: x0, y: y0})\n",
        "        B = k.diff(y, 2).subs({x: x0, y: y0})\n",
        "        if A > 0 or B > 0:\n",
        "          display('minimum')\n",
        "        elif A < 0 or B<0:\n",
        "          display('maximum')\n",
        "        display(k, tuple(item))"
      ],
      "execution_count": null,
      "outputs": [
        {
          "output_type": "display_data",
          "data": {
            "application/vnd.google.colaboratory.intrinsic+json": {
              "type": "string"
            },
            "text/plain": [
              "'minimum'"
            ]
          },
          "metadata": {
            "tags": []
          }
        },
        {
          "output_type": "display_data",
          "data": {
            "text/latex": "$\\displaystyle x^{2} + x y - 2 x + y^{2} - y$",
            "text/plain": [
              "x**2 + x*y - 2*x + y**2 - y"
            ]
          },
          "metadata": {
            "tags": []
          }
        },
        {
          "output_type": "display_data",
          "data": {
            "text/plain": [
              "(1, 0)"
            ]
          },
          "metadata": {
            "tags": []
          }
        },
        {
          "output_type": "display_data",
          "data": {
            "application/vnd.google.colaboratory.intrinsic+json": {
              "type": "string"
            },
            "text/plain": [
              "'minimum'"
            ]
          },
          "metadata": {
            "tags": []
          }
        },
        {
          "output_type": "display_data",
          "data": {
            "text/latex": "$\\displaystyle \\frac{x}{y} + y + \\frac{8}{x}$",
            "text/plain": [
              "x/y + y + 8/x"
            ]
          },
          "metadata": {
            "tags": []
          }
        },
        {
          "output_type": "display_data",
          "data": {
            "text/plain": [
              "(4, 2)"
            ]
          },
          "metadata": {
            "tags": []
          }
        },
        {
          "output_type": "display_data",
          "data": {
            "application/vnd.google.colaboratory.intrinsic+json": {
              "type": "string"
            },
            "text/plain": [
              "'maximum'"
            ]
          },
          "metadata": {
            "tags": []
          }
        },
        {
          "output_type": "display_data",
          "data": {
            "text/latex": "$\\displaystyle \\frac{x - y + 1}{\\sqrt{x^{2} + y^{2} + 1}}$",
            "text/plain": [
              "(x - y + 1)/sqrt(x**2 + y**2 + 1)"
            ]
          },
          "metadata": {
            "tags": []
          }
        },
        {
          "output_type": "display_data",
          "data": {
            "text/plain": [
              "(1, -1)"
            ]
          },
          "metadata": {
            "tags": []
          }
        }
      ]
    },
    {
      "cell_type": "markdown",
      "metadata": {
        "id": "LP2mkvgSSnPA"
      },
      "source": [
        "### Задание 2.\n",
        "С помощью метода Лагранжа найти условный экстремум функции\n",
        "$z = x + 2y$ при условии $x^2 + y^2 = 5$."
      ]
    },
    {
      "cell_type": "code",
      "metadata": {
        "colab": {
          "base_uri": "https://localhost:8080/",
          "height": 121
        },
        "id": "RoVEgi6USnPB",
        "outputId": "95dd2196-47b1-4fa6-91d6-a9fc1914bc70"
      },
      "source": [
        "from sympy.abc import x, y, lamda\n",
        "varrs = [x, y, lamda]\n",
        "f = x+2*y\n",
        "resreiction = x**2 + y**2 - 5\n",
        "L = f + lamda*resreiction\n",
        "stat_points = nonlinsolve([L.diff(var) for var in varrs], varrs)\n",
        "display(stat_points, *varrs)"
      ],
      "execution_count": null,
      "outputs": [
        {
          "output_type": "display_data",
          "data": {
            "text/latex": "$\\displaystyle \\left\\{\\left( -1, \\  -2, \\  \\frac{1}{2}\\right), \\left( 1, \\  2, \\  - \\frac{1}{2}\\right)\\right\\}$",
            "text/plain": [
              "FiniteSet((-1, -2, 1/2), (1, 2, -1/2))"
            ]
          },
          "metadata": {
            "tags": []
          }
        },
        {
          "output_type": "display_data",
          "data": {
            "text/latex": "$\\displaystyle x$",
            "text/plain": [
              "x"
            ]
          },
          "metadata": {
            "tags": []
          }
        },
        {
          "output_type": "display_data",
          "data": {
            "text/latex": "$\\displaystyle y$",
            "text/plain": [
              "y"
            ]
          },
          "metadata": {
            "tags": []
          }
        },
        {
          "output_type": "display_data",
          "data": {
            "text/latex": "$\\displaystyle \\lambda$",
            "text/plain": [
              "lamda"
            ]
          },
          "metadata": {
            "tags": []
          }
        }
      ]
    },
    {
      "cell_type": "code",
      "metadata": {
        "colab": {
          "base_uri": "https://localhost:8080/",
          "height": 38
        },
        "id": "c94t-ekTdzcl",
        "outputId": "b28a76d5-4401-4706-b51c-9e002bd1eb6f"
      },
      "source": [
        "dx, dy, dx2, dy2 = symbols('dx dy dx^2 dy^2')\n",
        "d2L = L.diff(x, 2)*dx2 + 2*L.diff(x, y)*dx*dy + L.diff(y, 2)*dy2\n",
        "factor(d2L)"
      ],
      "execution_count": null,
      "outputs": [
        {
          "output_type": "execute_result",
          "data": {
            "text/latex": "$\\displaystyle 2 \\lambda \\left(dx^{2} + dy^{2}\\right)$",
            "text/plain": [
              "2*lamda*(dx^2 + dy^2)"
            ]
          },
          "metadata": {
            "tags": []
          },
          "execution_count": 17
        }
      ]
    },
    {
      "cell_type": "code",
      "metadata": {
        "colab": {
          "base_uri": "https://localhost:8080/",
          "height": 99
        },
        "id": "sbG4iOTkd1ZH",
        "outputId": "b577edf2-981f-4a79-b18a-456ee17bce09"
      },
      "source": [
        "ff = Symbol('f')\n",
        "for point in stat_points:\n",
        "  display(point[:-1], sympy.Eq(ff, f.subs({var:point[j] for j, var in enumerate(varrs)})))"
      ],
      "execution_count": null,
      "outputs": [
        {
          "output_type": "display_data",
          "data": {
            "text/latex": "$\\displaystyle \\left( -1, \\  -2\\right)$",
            "text/plain": [
              "(-1, -2)"
            ]
          },
          "metadata": {
            "tags": []
          }
        },
        {
          "output_type": "display_data",
          "data": {
            "text/latex": "$\\displaystyle f = -5$",
            "text/plain": [
              "Eq(f, -5)"
            ]
          },
          "metadata": {
            "tags": []
          }
        },
        {
          "output_type": "display_data",
          "data": {
            "text/latex": "$\\displaystyle \\left( 1, \\  2\\right)$",
            "text/plain": [
              "(1, 2)"
            ]
          },
          "metadata": {
            "tags": []
          }
        },
        {
          "output_type": "display_data",
          "data": {
            "text/latex": "$\\displaystyle f = 5$",
            "text/plain": [
              "Eq(f, 5)"
            ]
          },
          "metadata": {
            "tags": []
          }
        }
      ]
    },
    {
      "cell_type": "markdown",
      "metadata": {
        "id": "-5TDl_VESnPB"
      },
      "source": [
        "### Задание 3.\n",
        "С помощью метода Лагранжа найти условный экстремум функции\n",
        "$z=x^2+y^2$ при условии $\\frac{x}{2}+\\frac{y}{3}=1$."
      ]
    },
    {
      "cell_type": "code",
      "metadata": {
        "colab": {
          "base_uri": "https://localhost:8080/",
          "height": 121
        },
        "id": "bfKROThtSnPB",
        "outputId": "94ca97b0-1361-42fd-adf1-ad472df77311"
      },
      "source": [
        "from sympy.abc import x, y, lamda\n",
        "varrs = [x, y, lamda]\n",
        "f = x**2 + y**2\n",
        "restriction = x/2 + y/3 - 1\n",
        "L = f + lamda*restriction\n",
        "stat_points = nonlinsolve([L.diff(var)for var in varrs], varrs)\n",
        "display(stat_points, *varrs)"
      ],
      "execution_count": null,
      "outputs": [
        {
          "output_type": "display_data",
          "data": {
            "text/latex": "$\\displaystyle \\left\\{\\left( \\frac{18}{13}, \\  \\frac{12}{13}, \\  - \\frac{72}{13}\\right)\\right\\}$",
            "text/plain": [
              "FiniteSet((18/13, 12/13, -72/13))"
            ]
          },
          "metadata": {
            "tags": []
          }
        },
        {
          "output_type": "display_data",
          "data": {
            "text/latex": "$\\displaystyle x$",
            "text/plain": [
              "x"
            ]
          },
          "metadata": {
            "tags": []
          }
        },
        {
          "output_type": "display_data",
          "data": {
            "text/latex": "$\\displaystyle y$",
            "text/plain": [
              "y"
            ]
          },
          "metadata": {
            "tags": []
          }
        },
        {
          "output_type": "display_data",
          "data": {
            "text/latex": "$\\displaystyle \\lambda$",
            "text/plain": [
              "lamda"
            ]
          },
          "metadata": {
            "tags": []
          }
        }
      ]
    },
    {
      "cell_type": "code",
      "metadata": {
        "colab": {
          "base_uri": "https://localhost:8080/",
          "height": 38
        },
        "id": "DKfhCJjEd_H9",
        "outputId": "6d463c23-a65c-4b75-b816-3370e166d149"
      },
      "source": [
        "dx, dy, dx2, dy2 = symbols('dx dy dx^2 dy^2')\n",
        "d2L = L.diff(x, 2)*dx2 + 2*L.diff(x, y)*dx*dy + L.diff(y, 2)*dy2\n",
        "factor(d2L)"
      ],
      "execution_count": null,
      "outputs": [
        {
          "output_type": "execute_result",
          "data": {
            "text/latex": "$\\displaystyle 2 \\left(dx^{2} + dy^{2}\\right)$",
            "text/plain": [
              "2*(dx^2 + dy^2)"
            ]
          },
          "metadata": {
            "tags": []
          },
          "execution_count": 22
        }
      ]
    },
    {
      "cell_type": "code",
      "metadata": {
        "colab": {
          "base_uri": "https://localhost:8080/",
          "height": 92
        },
        "id": "SK-dZ3l8eBtr",
        "outputId": "29204ac5-3e47-47d8-8440-e805b17ba28d"
      },
      "source": [
        "ff = Symbol('f')\n",
        "for point in stat_points:\n",
        "  display(point[:-1], sympy.Eq(ff, f.subs({var:point[j] for j, var in enumerate(varrs)})))"
      ],
      "execution_count": null,
      "outputs": [
        {
          "output_type": "display_data",
          "data": {
            "text/latex": "$\\displaystyle \\left( \\frac{18}{13}, \\  \\frac{12}{13}\\right)$",
            "text/plain": [
              "(18/13, 12/13)"
            ]
          },
          "metadata": {
            "tags": []
          }
        },
        {
          "output_type": "display_data",
          "data": {
            "text/latex": "$\\displaystyle f = \\frac{36}{13}$",
            "text/plain": [
              "Eq(f, 36/13)"
            ]
          },
          "metadata": {
            "tags": []
          }
        }
      ]
    },
    {
      "cell_type": "markdown",
      "metadata": {
        "id": "S3RwlXwDSnPC"
      },
      "source": [
        "### Задание 4.\n",
        "С помощью метода Лагранжа найти экстремум функции $u = x - 2y + 2z$ при условии $x^2 + y^2 + z^2 = 9$."
      ]
    },
    {
      "cell_type": "code",
      "metadata": {
        "colab": {
          "base_uri": "https://localhost:8080/",
          "height": 58
        },
        "id": "zjoW47aiSnPC",
        "outputId": "ef34a8d9-8779-463a-efca-f44d1f4b1576"
      },
      "source": [
        "from sympy.abc import x, y, z, lamda\n",
        "varrs = [x, y, z, lamda]\n",
        "u = x - 2*y + 2*z\n",
        "resreiction = x**2 + y**2 + z**2 - 9\n",
        "L = u + lamda*resreiction\n",
        "stat_points = nonlinsolve([L.diff(var) for var in varrs], varrs)\n",
        "display(stat_points)"
      ],
      "execution_count": null,
      "outputs": [
        {
          "output_type": "display_data",
          "data": {
            "text/latex": "$\\displaystyle \\left\\{\\left( -1, \\  2, \\  -2, \\  \\frac{1}{2}\\right), \\left( 1, \\  -2, \\  2, \\  - \\frac{1}{2}\\right)\\right\\}$",
            "text/plain": [
              "FiniteSet((-1, 2, -2, 1/2), (1, -2, 2, -1/2))"
            ]
          },
          "metadata": {
            "tags": []
          }
        }
      ]
    },
    {
      "cell_type": "code",
      "metadata": {
        "colab": {
          "base_uri": "https://localhost:8080/",
          "height": 38
        },
        "id": "2HlYqcmbezSQ",
        "outputId": "36372c0c-c861-4f60-cedc-bf0e8fd64ffe"
      },
      "source": [
        "dx, dy, dz, dx2, dy2, dz2 = symbols('dx dy dz dx^2 dy^2 dz^2')\n",
        "d2L = 0\n",
        "diffs = {x:(dx, dx2), y: (dy, dy2), z: (dz, dz2)}\n",
        "for i, var in enumerate(varrs[:-1]):\n",
        "  d2L += L.diff(var, 2)*diffs[var][1]\n",
        "  for j in range(i + 1, 3):\n",
        "    d2L+=2*L.diff(var, varrs[j])*diffs[var][0]*diffs[varrs[j]][0]\n",
        "display(d2L)"
      ],
      "execution_count": null,
      "outputs": [
        {
          "output_type": "display_data",
          "data": {
            "text/latex": "$\\displaystyle 2 dx^{2} \\lambda + 2 dy^{2} \\lambda + 2 dz^{2} \\lambda$",
            "text/plain": [
              "2*dx^2*lamda + 2*dy^2*lamda + 2*dz^2*lamda"
            ]
          },
          "metadata": {
            "tags": []
          }
        }
      ]
    },
    {
      "cell_type": "code",
      "metadata": {
        "colab": {
          "base_uri": "https://localhost:8080/",
          "height": 59
        },
        "id": "-scah1mje1EC",
        "outputId": "a524a0e6-4210-4388-dbab-a520dc3fdee5"
      },
      "source": [
        "L2_points = [d2L.subs(lamda, lval) for lval in [S(1)/2, -S(1)/2]]\n",
        "display(*L2_points)"
      ],
      "execution_count": null,
      "outputs": [
        {
          "output_type": "display_data",
          "data": {
            "text/latex": "$\\displaystyle dx^{2} + dy^{2} + dz^{2}$",
            "text/plain": [
              "dx^2 + dy^2 + dz^2"
            ]
          },
          "metadata": {
            "tags": []
          }
        },
        {
          "output_type": "display_data",
          "data": {
            "text/latex": "$\\displaystyle - dx^{2} - dy^{2} - dz^{2}$",
            "text/plain": [
              "-dx^2 - dy^2 - dz^2"
            ]
          },
          "metadata": {
            "tags": []
          }
        }
      ]
    },
    {
      "cell_type": "code",
      "metadata": {
        "colab": {
          "base_uri": "https://localhost:8080/",
          "height": 99
        },
        "id": "xflJMD-ye9fr",
        "outputId": "af85e471-81e6-4cd5-feb9-0f9258929ecf"
      },
      "source": [
        "uu = Symbol('u')\n",
        "for point in stat_points:\n",
        "  display(point[:-1], sympy.Eq(uu, u.subs({var:point[j] for j, var in enumerate(varrs)})))"
      ],
      "execution_count": null,
      "outputs": [
        {
          "output_type": "display_data",
          "data": {
            "text/latex": "$\\displaystyle \\left( -1, \\  2, \\  -2\\right)$",
            "text/plain": [
              "(-1, 2, -2)"
            ]
          },
          "metadata": {
            "tags": []
          }
        },
        {
          "output_type": "display_data",
          "data": {
            "text/latex": "$\\displaystyle u = -9$",
            "text/plain": [
              "Eq(u, -9)"
            ]
          },
          "metadata": {
            "tags": []
          }
        },
        {
          "output_type": "display_data",
          "data": {
            "text/latex": "$\\displaystyle \\left( 1, \\  -2, \\  2\\right)$",
            "text/plain": [
              "(1, -2, 2)"
            ]
          },
          "metadata": {
            "tags": []
          }
        },
        {
          "output_type": "display_data",
          "data": {
            "text/latex": "$\\displaystyle u = 9$",
            "text/plain": [
              "Eq(u, 9)"
            ]
          },
          "metadata": {
            "tags": []
          }
        }
      ]
    },
    {
      "cell_type": "markdown",
      "metadata": {
        "id": "roklW3N0e8ru"
      },
      "source": [
        ""
      ]
    },
    {
      "cell_type": "markdown",
      "metadata": {
        "id": "s4wzosvISnPC"
      },
      "source": [
        "### Индивидуальное задание 139\n",
        "Найти точки экстремума $u = x^2 + y^2 + z^2 - xy + x - 2z$."
      ]
    },
    {
      "cell_type": "code",
      "metadata": {
        "colab": {
          "base_uri": "https://localhost:8080/",
          "height": 58
        },
        "id": "vI-dFKVOSnPD",
        "outputId": "6bcd0075-52fd-4c54-8085-fe1e78942bd6"
      },
      "source": [
        "x, y, z = symbols('x y z', positive = True)\n",
        "varrs = [x, y, z]\n",
        "func = -4*x**2 + 2*x*y + 3*x*z + 5*x - y**2 - 2*y*z - 4*y + z**2 + z\n",
        "stat_points = nonlinsolve([func.diff(var) for var in varrs], varrs)\n",
        "display(*stat_points)\n",
        "def Delta(u, x, y, z):\n",
        "  return Matrix([[u.diff(x, 2), u.diff(x, y), u.diff(x, z)], \n",
        "      [u.diff(y, x), u.diff(y, 2), u.diff(y, z)],\n",
        "      [u.diff(z, x), u.diff(z, y), u.diff(z,2)],]).det()"
      ],
      "execution_count": null,
      "outputs": [
        {
          "output_type": "display_data",
          "data": {
            "text/latex": "$\\displaystyle \\left( - \\frac{1}{25}, \\  - \\frac{4}{5}, \\  - \\frac{31}{25}\\right)$",
            "text/plain": [
              "(-1/25, -4/5, -31/25)"
            ]
          },
          "metadata": {
            "tags": []
          }
        }
      ]
    },
    {
      "cell_type": "code",
      "metadata": {
        "colab": {
          "base_uri": "https://localhost:8080/",
          "height": 76
        },
        "id": "wxE3BjYyfadY",
        "outputId": "5384f796-3508-4ef0-ee70-ca3035217504"
      },
      "source": [
        "for point in stat_points:\n",
        "  x0, y0, z0 = point\n",
        "  if x0.is_real and y0.is_real and z0.is_real:\n",
        "    if Delta(func, x, y, z).subs({x: x0, y: y0, z: z0}) > 0:\n",
        "      A = func.diff(x, 2).subs({x: x0, y: y0, z: z0})\n",
        "      B = func.diff(y, 2).subs({x: x0, y: y0, z: z0}) \n",
        "      C = func.diff(z, 2).subs({x: x0, y: y0, z: z0})\n",
        "      if A > 0 or B > 0 or C > 0:\n",
        "        display('minimum', point)\n",
        "      elif A < 0 or B < 0 or C < 0:\n",
        "        display('maximum', point) "
      ],
      "execution_count": null,
      "outputs": [
        {
          "output_type": "display_data",
          "data": {
            "application/vnd.google.colaboratory.intrinsic+json": {
              "type": "string"
            },
            "text/plain": [
              "'minimum'"
            ]
          },
          "metadata": {
            "tags": []
          }
        },
        {
          "output_type": "display_data",
          "data": {
            "text/latex": "$\\displaystyle \\left( - \\frac{1}{25}, \\  - \\frac{4}{5}, \\  - \\frac{31}{25}\\right)$",
            "text/plain": [
              "(-1/25, -4/5, -31/25)"
            ]
          },
          "metadata": {
            "tags": []
          }
        }
      ]
    }
  ]
}