{
  "nbformat": 4,
  "nbformat_minor": 0,
  "metadata": {
    "kernelspec": {
      "display_name": "Python 3",
      "language": "python",
      "name": "python3"
    },
    "language_info": {
      "codemirror_mode": {
        "name": "ipython",
        "version": 3
      },
      "file_extension": ".py",
      "mimetype": "text/x-python",
      "name": "python",
      "nbconvert_exporter": "python",
      "pygments_lexer": "ipython3",
      "version": "3.7.3"
    },
    "colab": {
      "name": "TurakulovIslombek_Calculus_13_tasks.ipynb",
      "provenance": [],
      "collapsed_sections": [],
      "include_colab_link": true
    }
  },
  "cells": [
    {
      "cell_type": "markdown",
      "metadata": {
        "id": "view-in-github",
        "colab_type": "text"
      },
      "source": [
        "<a href=\"https://colab.research.google.com/github/IslombekTurakulov/NotebookWorks/blob/main/TurakulovIslombek_Calculus_13_tasks.ipynb\" target=\"_parent\"><img src=\"https://colab.research.google.com/assets/colab-badge.svg\" alt=\"Open In Colab\"/></a>"
      ]
    },
    {
      "cell_type": "code",
      "metadata": {
        "id": "HgPF8Mq7LayA"
      },
      "source": [
        "import numpy as np\n",
        "import sympy\n",
        "from sympy import S, Symbol, symbols, simplify, solve, solveset, diff, plot, plot_parametric, plot_implicit, latex, Integral\n",
        "from sympy import sin as Sin\n",
        "from sympy import cos as Cos\n",
        "from sympy import exp as Exp\n",
        "from sympy import log as Log\n",
        "from sympy import pi as Pi\n",
        "import matplotlib.pyplot as plt\n",
        "%matplotlib inline"
      ],
      "execution_count": null,
      "outputs": []
    },
    {
      "cell_type": "markdown",
      "metadata": {
        "id": "OkNA5rcXLayH"
      },
      "source": [
        "## Занятие 13\n",
        "## Математический анализ\n",
        "## Применение интегралов для вычисления площади поверхности тела вращения\n",
        "### Задание 1.\n",
        "Вычислить площадь поверхности, которая образуется в результате вращения $y = \\sqrt{x}$ вокруг оси OX при $x$ от 0 до 1."
      ]
    },
    {
      "cell_type": "code",
      "metadata": {
        "colab": {
          "base_uri": "https://localhost:8080/",
          "height": 314
        },
        "id": "lE9ETT5WLayI",
        "outputId": "33f25342-bbb2-4525-99b3-0acb0891ae53"
      },
      "source": [
        "x = Symbol('x', positive=True)\n",
        "y = Symbol('y')\n",
        "Eq1 = sympy.Eq(y, x**(S(1)/2))\n",
        "plot_implicit(Eq1, (x, 0, 4), (y, -1, 1))"
      ],
      "execution_count": null,
      "outputs": [
        {
          "output_type": "display_data",
          "data": {
            "image/png": "[encoded data removed]",
            "text/plain": [
              "<Figure size 432x288 with 1 Axes>"
            ]
          },
          "metadata": {
            "tags": [],
            "needs_background": "light"
          }
        },
        {
          "output_type": "execute_result",
          "data": {
            "text/plain": [
              "<sympy.plotting.plot.Plot at 0x7f99781520d0>"
            ]
          },
          "metadata": {
            "tags": []
          },
          "execution_count": 13
        }
      ]
    },
    {
      "cell_type": "code",
      "metadata": {
        "colab": {
          "base_uri": "https://localhost:8080/",
          "height": 130
        },
        "id": "nnBpeGHqNOFU",
        "outputId": "e1a3fece-6a51-4030-b563-2234705839b0"
      },
      "source": [
        "y1 = solve(Eq1, y)[0]\n",
        "S_OX1 = 2*Pi*Integral(y1*(1 + y1.diff(x)**2)**S.Half, (x, 0, 1))\n",
        "res = S_OX1.doit()\n",
        "display(S_OX1, res)"
      ],
      "execution_count": null,
      "outputs": [
        {
          "output_type": "display_data",
          "data": {
            "text/latex": "$\\displaystyle 2 \\pi \\int\\limits_{0}^{1} \\sqrt{x} \\sqrt{1 + \\frac{1}{4 x}}\\, dx$",
            "text/plain": [
              "2*pi*Integral(sqrt(x)*sqrt(1 + 1/(4*x)), (x, 0, 1))"
            ]
          },
          "metadata": {
            "tags": []
          }
        },
        {
          "output_type": "display_data",
          "data": {
            "text/latex": "$\\displaystyle 2 \\pi \\left(- \\frac{1}{12} + \\frac{5 \\sqrt{5}}{12}\\right)$",
            "text/plain": [
              "2*pi*(-1/12 + 5*sqrt(5)/12)"
            ]
          },
          "metadata": {
            "tags": []
          }
        }
      ]
    },
    {
      "cell_type": "code",
      "metadata": {
        "colab": {
          "base_uri": "https://localhost:8080/",
          "height": 57
        },
        "id": "prGxzX4fNSh4",
        "outputId": "772f9749-04f1-4ea2-bd16-5173d06400d9"
      },
      "source": [
        "res.simplify()"
      ],
      "execution_count": null,
      "outputs": [
        {
          "output_type": "execute_result",
          "data": {
            "text/latex": "$\\displaystyle \\frac{\\pi \\left(-1 + 5 \\sqrt{5}\\right)}{6}$",
            "text/plain": [
              "pi*(-1 + 5*sqrt(5))/6"
            ]
          },
          "metadata": {
            "tags": []
          },
          "execution_count": 16
        }
      ]
    },
    {
      "cell_type": "markdown",
      "metadata": {
        "id": "BMcwvOZkLayI"
      },
      "source": [
        "###  Задание 2.\n",
        "Вычислить площадь поверхности веретена, которое образуется в результате вращения одной полуволны синусоиды $y = \\sin x$ вокруг оси OX.\n",
        "#### Указание.\n",
        "\n",
        "Для вычисления интеграла воспользоваться заменой переменных $t = \\cos(x)$, для проведения замены пользоваться методом transform класса Integral. Также воспользоваться simplify при необходимости."
      ]
    },
    {
      "cell_type": "code",
      "metadata": {
        "id": "HkQVnfDWLayJ",
        "colab": {
          "base_uri": "https://localhost:8080/",
          "height": 314
        },
        "outputId": "57a7b329-920c-4529-886b-824f684a599c"
      },
      "source": [
        "x = Symbol('x', positive=True)\n",
        "y = Symbol('y')\n",
        "t = Symbol('t', positive=True)\n",
        "Eq1 = sympy.Eq(y, Sin(x))\n",
        "plot_implicit(Eq1, (x, 0, Pi/2), (y, -1, 1), line_color='magenta', mode='inline')"
      ],
      "execution_count": null,
      "outputs": [
        {
          "output_type": "display_data",
          "data": {
            "image/png": "[encoded data removed]",
            "text/plain": [
              "<Figure size 432x288 with 1 Axes>"
            ]
          },
          "metadata": {
            "tags": [],
            "needs_background": "light"
          }
        },
        {
          "output_type": "execute_result",
          "data": {
            "text/plain": [
              "<sympy.plotting.plot.Plot at 0x7f996e665410>"
            ]
          },
          "metadata": {
            "tags": []
          },
          "execution_count": 104
        }
      ]
    },
    {
      "cell_type": "code",
      "metadata": {
        "colab": {
          "base_uri": "https://localhost:8080/",
          "height": 132
        },
        "id": "x_9s5cVISMBz",
        "outputId": "2d125700-9fcb-4e38-c8e1-dd1486ced277"
      },
      "source": [
        "y1 = solve(Eq1, y)[0]\n",
        "S_OX1 = Integral(y1*(1 + y1.diff(x)**2)**S.Half, (x, 0, Pi))\n",
        "S_OX1 = (S_OX1.transform(Cos(x), t)).simplify()\n",
        "res1 = (2*Pi*S_OX1.doit()).simplify()\n",
        "display(S_OX1, res1)"
      ],
      "execution_count": null,
      "outputs": [
        {
          "output_type": "display_data",
          "data": {
            "text/latex": "$\\displaystyle \\int\\limits_{-1}^{1} \\sqrt{t^{2} + 1}\\, dt$",
            "text/plain": [
              "Integral(sqrt(t**2 + 1), (t, -1, 1))"
            ]
          },
          "metadata": {
            "tags": []
          }
        },
        {
          "output_type": "display_data",
          "data": {
            "text/latex": "$\\displaystyle \\pi \\left(\\log{\\left(\\frac{1 + \\sqrt{2}}{-1 + \\sqrt{2}} \\right)} + 2 \\sqrt{2}\\right)$",
            "text/plain": [
              "pi*(log((1 + sqrt(2))/(-1 + sqrt(2))) + 2*sqrt(2))"
            ]
          },
          "metadata": {
            "tags": []
          }
        }
      ]
    },
    {
      "cell_type": "markdown",
      "metadata": {
        "id": "J8bRYejRLayJ"
      },
      "source": [
        "###  Задание 3.\n",
        "Вычислить площадь поверхности образованной вращением вокруг ОХ кардиоиды \n",
        "$$\n",
        "\\left\\{\n",
        "\\begin{matrix}\n",
        "x=a(2\\cos t-\\cos 2t)\\\\\n",
        "y=a(2\\sin t-\\sin 2t)\n",
        "\\end{matrix}\n",
        "\\right.\n",
        "$$\n",
        "Для облегчения расчетов упростить подынтегральную функцию с помощью simplify."
      ]
    },
    {
      "cell_type": "code",
      "metadata": {
        "colab": {
          "base_uri": "https://localhost:8080/",
          "height": 77
        },
        "id": "sBgckwuQLayJ",
        "outputId": "ae8012fe-6cbb-4afc-c9db-2a80488528c5"
      },
      "source": [
        "t = Symbol('t')\n",
        "a = Symbol('a', positive=True)\n",
        "x = a*(2*Cos(t) - Cos(2*t))\n",
        "y = a*(2*Sin(t) - Sin(2*t))\n",
        "S1 = Integral(2*Pi*((y*(x.diff(t)**2 + y.diff(t)**2)**S.Half)).simplify(), (t, 0, Pi))\n",
        "display(S1)"
      ],
      "execution_count": null,
      "outputs": [
        {
          "output_type": "display_data",
          "data": {
            "text/latex": "$\\displaystyle \\int\\limits_{0}^{\\pi} 4 \\pi a^{2} \\sqrt{2 - 2 \\cos{\\left(t \\right)}} \\left(2 \\sin{\\left(t \\right)} - \\sin{\\left(2 t \\right)}\\right)\\, dt$",
            "text/plain": [
              "Integral(4*pi*a**2*sqrt(2 - 2*cos(t))*(2*sin(t) - sin(2*t)), (t, 0, pi))"
            ]
          },
          "metadata": {
            "tags": []
          }
        }
      ]
    },
    {
      "cell_type": "code",
      "metadata": {
        "colab": {
          "base_uri": "https://localhost:8080/",
          "height": 117
        },
        "id": "_DmIM4ZoMe5j",
        "outputId": "a549930c-3c40-41e3-8de1-d709beed3f27"
      },
      "source": [
        "S2 = S1.function.replace((2 - 2*Cos(t))**S.Half, 2*Sin(t/2))\n",
        "display(S2, sympy.Eq(S1, S2.integrate((t, 0, Pi))))"
      ],
      "execution_count": null,
      "outputs": [
        {
          "output_type": "display_data",
          "data": {
            "text/latex": "$\\displaystyle 8 \\pi a^{2} \\left(2 \\sin{\\left(t \\right)} - \\sin{\\left(2 t \\right)}\\right) \\sin{\\left(\\frac{t}{2} \\right)}$",
            "text/plain": [
              "8*pi*a**2*(2*sin(t) - sin(2*t))*sin(t/2)"
            ]
          },
          "metadata": {
            "tags": []
          }
        },
        {
          "output_type": "display_data",
          "data": {
            "text/latex": "$\\displaystyle \\int\\limits_{0}^{\\pi} 4 \\pi a^{2} \\sqrt{2 - 2 \\cos{\\left(t \\right)}} \\left(2 \\sin{\\left(t \\right)} - \\sin{\\left(2 t \\right)}\\right)\\, dt = \\frac{128 \\pi a^{2}}{5}$",
            "text/plain": [
              "Eq(Integral(4*pi*a**2*sqrt(2 - 2*cos(t))*(2*sin(t) - sin(2*t)), (t, 0, pi)), 128*pi*a**2/5)"
            ]
          },
          "metadata": {
            "tags": []
          }
        }
      ]
    },
    {
      "cell_type": "markdown",
      "metadata": {
        "id": "R0YvUB-nLayJ"
      },
      "source": [
        "### Задание 4.\n",
        "Вычислить площадь поверхности образованной вращением лемнискаты $r^2=a^2\\cos2\\phi$ вокруг полярной оси.\n",
        "\n",
        "#### Указание.\n",
        "Построить график, определить пределы интегрирования.\n",
        "Упростить подынтегральную функцию с помощью simplify, затем с помощью display вывести полученный интерал. Замечая, что подынтегральное выражение можно упростить, если сократить, не обращать внимание, что $\\cos(2\\phi) = 0$ в $\\pi/4$, вручную составить интеграл для окончательного расчета. "
      ]
    },
    {
      "cell_type": "code",
      "metadata": {
        "id": "PB1u39JsLayK",
        "colab": {
          "base_uri": "https://localhost:8080/",
          "height": 304
        },
        "outputId": "39182951-a7c8-4c4c-e79c-7d865bf28b46"
      },
      "source": [
        "phi = Symbol('phi')\n",
        "a = Symbol('a', positive=True)\n",
        "\n",
        "Phi = np.linspace(0, np.pi/4, 256)\n",
        "r = (np.cos(2*Phi))**S.Half\n",
        "plt.polar(Phi, r, color='magenta', lw=3)"
      ],
      "execution_count": null,
      "outputs": [
        {
          "output_type": "execute_result",
          "data": {
            "text/plain": [
              "[<matplotlib.lines.Line2D at 0x7f9961c58890>]"
            ]
          },
          "metadata": {
            "tags": []
          },
          "execution_count": 91
        },
        {
          "output_type": "display_data",
          "data": {
            "image/png": "[encoded data removed]",
            "text/plain": [
              "<Figure size 432x288 with 1 Axes>"
            ]
          },
          "metadata": {
            "tags": [],
            "needs_background": "light"
          }
        }
      ]
    },
    {
      "cell_type": "code",
      "metadata": {
        "colab": {
          "base_uri": "https://localhost:8080/",
          "height": 82
        },
        "id": "mGS6GbB1Zv3V",
        "outputId": "63043247-3f52-47b2-add3-f50e7530e696"
      },
      "source": [
        "r = a*Cos(2*phi)**S.Half\n",
        "S1 = Integral(simplify(4*Pi*r*Sin(phi)*(r**2 + r.diff(phi)**2)**S.Half), (phi, 0, Pi/4))\n",
        "S1"
      ],
      "execution_count": null,
      "outputs": [
        {
          "output_type": "execute_result",
          "data": {
            "text/latex": "$\\displaystyle \\int\\limits_{0}^{\\frac{\\pi}{4}} 4 \\pi a^{2} \\sqrt{\\frac{1}{\\cos{\\left(2 \\phi \\right)}}} \\sin{\\left(\\phi \\right)} \\sqrt{\\cos{\\left(2 \\phi \\right)}}\\, d\\phi$",
            "text/plain": [
              "Integral(4*pi*a**2*sqrt(1/cos(2*phi))*sin(phi)*sqrt(cos(2*phi)), (phi, 0, pi/4))"
            ]
          },
          "metadata": {
            "tags": []
          },
          "execution_count": 92
        }
      ]
    },
    {
      "cell_type": "code",
      "metadata": {
        "colab": {
          "base_uri": "https://localhost:8080/",
          "height": 34
        },
        "id": "8Asu8QnVaFyw",
        "outputId": "35bb066c-8bdb-4ff2-f398-5f326d91ba94"
      },
      "source": [
        "S2 = Integral(simplify(4*Pi*a**2*Sin(phi)), (phi, 0, Pi/4))\n",
        "display((S2.doit()).simplify)"
      ],
      "execution_count": null,
      "outputs": [
        {
          "output_type": "display_data",
          "data": {
            "text/plain": [
              "<bound method Basic.simplify of -2*sqrt(2)*pi*a**2 + 4*pi*a**2>"
            ]
          },
          "metadata": {
            "tags": []
          }
        }
      ]
    },
    {
      "cell_type": "markdown",
      "metadata": {
        "id": "wE6EiKkILayK"
      },
      "source": [
        "### Индивидуальное задание \n",
        "Найти площадь поверхности, образованной вращением $y = f(x)$ около оси OX.\n",
        "\n",
        "Вариант 139\n",
        "\n",
        "$y=cos({x}/{5})   x= 0, x = pi/2$"
      ]
    },
    {
      "cell_type": "code",
      "metadata": {
        "id": "1HqAPXFeLayK",
        "colab": {
          "base_uri": "https://localhost:8080/",
          "height": 488
        },
        "outputId": "77e83771-2281-4bc3-9240-4f22f56fbded"
      },
      "source": [
        "x = Symbol('x', positive = True)\n",
        "y = Symbol('y')\n",
        "Eq1 = sympy.Eq(y, Cos(x/5))\n",
        "plot_implicit(Eq1, (x, 0, 6), (y, -0.5, 1.5))\n",
        "\n",
        "y1 = solve(Eq1, y)[0]\n",
        "S_OX1 = Integral(y1*(1 + y1.diff(x)**2)**S.Half, (x, 0, Pi/2)).simplify()\n",
        "print('\\n')\n",
        "display(y1, 2*Pi*S_OX1)\n",
        "\n",
        "t = Symbol('t', positive = True)\n",
        "S_OX1 = S_OX1.transform(Sin(x/5), t).simplify()\n",
        "\n",
        "display((2*Pi*S_OX1.doit()).simplify())"
      ],
      "execution_count": 117,
      "outputs": [
        {
          "output_type": "display_data",
          "data": {
            "image/png": "[encoded data removed]",
            "text/plain": [
              "<Figure size 432x288 with 1 Axes>"
            ]
          },
          "metadata": {
            "tags": [],
            "needs_background": "light"
          }
        },
        {
          "output_type": "stream",
          "text": [
            "\n",
            "\n"
          ],
          "name": "stdout"
        },
        {
          "output_type": "display_data",
          "data": {
            "text/latex": "$\\displaystyle \\cos{\\left(\\frac{x}{5} \\right)}$",
            "text/plain": [
              "cos(x/5)"
            ]
          },
          "metadata": {
            "tags": []
          }
        },
        {
          "output_type": "display_data",
          "data": {
            "text/latex": "$\\displaystyle 2 \\pi \\int\\limits_{0}^{\\frac{\\pi}{2}} \\frac{\\sqrt{\\sin^{2}{\\left(\\frac{x}{5} \\right)} + 25} \\cos{\\left(\\frac{x}{5} \\right)}}{5}\\, dx$",
            "text/plain": [
              "2*pi*Integral(sqrt(sin(x/5)**2 + 25)*cos(x/5)/5, (x, 0, pi/2))"
            ]
          },
          "metadata": {
            "tags": []
          }
        },
        {
          "output_type": "display_data",
          "data": {
            "text/latex": "$\\displaystyle - \\frac{\\pi \\left(\\left(1 - \\sqrt{5}\\right) \\sqrt{\\left(1 - \\sqrt{5}\\right)^{2} + 400} + 400 \\operatorname{asinh}{\\left(\\frac{1}{20} - \\frac{\\sqrt{5}}{20} \\right)}\\right)}{16}$",
            "text/plain": [
              "-pi*((1 - sqrt(5))*sqrt((1 - sqrt(5))**2 + 400) + 400*asinh(1/20 - sqrt(5)/20))/16"
            ]
          },
          "metadata": {
            "tags": []
          }
        }
      ]
    }
  ]
}