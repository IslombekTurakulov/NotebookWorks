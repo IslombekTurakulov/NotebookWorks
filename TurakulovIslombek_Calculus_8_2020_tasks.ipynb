{
  "nbformat": 4,
  "nbformat_minor": 0,
  "metadata": {
    "kernelspec": {
      "display_name": "Python 3",
      "language": "python",
      "name": "python3"
    },
    "language_info": {
      "codemirror_mode": {
        "name": "ipython",
        "version": 3
      },
      "file_extension": ".py",
      "mimetype": "text/x-python",
      "name": "python",
      "nbconvert_exporter": "python",
      "pygments_lexer": "ipython3",
      "version": "3.7.3"
    },
    "colab": {
      "name": "TurakulovIslombek_Calculus_8_2020_tasks.ipynb",
      "provenance": [],
      "collapsed_sections": [],
      "include_colab_link": true
    }
  },
  "cells": [
    {
      "cell_type": "markdown",
      "metadata": {
        "id": "view-in-github",
        "colab_type": "text"
      },
      "source": [
        "<a href=\"https://colab.research.google.com/github/IslombekTurakulov/NotebookWorks/blob/main/TurakulovIslombek_Calculus_8_2020_tasks.ipynb\" target=\"_parent\"><img src=\"https://colab.research.google.com/assets/colab-badge.svg\" alt=\"Open In Colab\"/></a>"
      ]
    },
    {
      "cell_type": "code",
      "metadata": {
        "id": "eUdLqIyb1yue"
      },
      "source": [
        "import numpy as np\n",
        "import matplotlib.pyplot as plt\n",
        "import sympy\n",
        "from sympy import Symbol, diff, solve, nsolve, solveset, latex, S, simplify, fraction, Union, Interval, intersection, limit\n",
        "from sympy.calculus.util import continuous_domain, maximum, minimum\n",
        "from sympy.functions import exp\n",
        "from sympy import sin as Sin\n",
        "from sympy import cos as Cos\n",
        "from sympy import pi as Pi\n",
        "%matplotlib inline"
      ],
      "execution_count": 3,
      "outputs": []
    },
    {
      "cell_type": "markdown",
      "metadata": {
        "id": "-dUM-wQ-1yug"
      },
      "source": [
        "## Занятие 8\n",
        "## Математический анализ\n",
        "## Дифференцирование функции, заданной параметрически\n",
        "Пусть зависимость $y$ от $x$ задана параметрически:\n",
        "$$\n",
        "\\left\\{\n",
        "\\begin{matrix}\n",
        "x = \\varphi(t)\\\\\n",
        "y = \\psi(t)\n",
        "\\end{matrix}\n",
        "\\right.\n",
        "$$\n",
        "тогда производная $y$ по $x$  находится по формуле\n",
        "$$\n",
        "y'_x = \\frac{y'_t}{x'_t} = \\frac{\\psi'_t}{\\varphi'_t}\n",
        "$$\n",
        "Вторая производная:\n",
        "$$\n",
        "y''_{xx} = \\frac{x'_t y''_{tt}-x''_{tt}y'_t}{(x'_t)^3}  = \\frac{\\varphi'_t \\psi''_{tt}-\\varphi''_{tt}\\psi'_t}{(\\varphi'_t)^3}\n",
        "$$\n",
        "### Задание 1\n",
        "Найти производные 1 и 2 порядка функции \n",
        "$$\n",
        "\\left\\{\n",
        "\\begin{matrix}\n",
        "x = \\sin(t) - t\\cos(t)\\\\\n",
        "y = \\cos(t) + t\\sin(t)\n",
        "\\end{matrix}\n",
        "\\right.\n",
        "$$"
      ]
    },
    {
      "cell_type": "code",
      "metadata": {
        "colab": {
          "base_uri": "https://localhost:8080/",
          "height": 98
        },
        "id": "soOVAPxj1yuh",
        "outputId": "4df4d4ab-bd26-47c8-9b63-068229d1486d"
      },
      "source": [
        "t = Symbol('t')\r\n",
        "x = Sin(t) - t*Cos(t)\r\n",
        "y = Cos(t) + t*Sin(t)\r\n",
        "\r\n",
        "dx = diff(x, t)\r\n",
        "dy = diff(y, t)\r\n",
        "dy_x = dy/dx\r\n",
        "\r\n",
        "dy2_xx = (dx*diff(y, t, 2) - diff(x, t, 2)*dy)/dx**3\r\n",
        "display(dy_x, dy2_xx)"
      ],
      "execution_count": null,
      "outputs": [
        {
          "output_type": "display_data",
          "data": {
            "text/latex": "$\\displaystyle \\frac{\\cos{\\left(t \\right)}}{\\sin{\\left(t \\right)}}$",
            "text/plain": [
              "cos(t)/sin(t)"
            ]
          },
          "metadata": {
            "tags": []
          }
        },
        {
          "output_type": "display_data",
          "data": {
            "text/latex": "$\\displaystyle \\frac{t \\left(- t \\sin{\\left(t \\right)} + \\cos{\\left(t \\right)}\\right) \\sin{\\left(t \\right)} - t \\left(t \\cos{\\left(t \\right)} + \\sin{\\left(t \\right)}\\right) \\cos{\\left(t \\right)}}{t^{3} \\sin^{3}{\\left(t \\right)}}$",
            "text/plain": [
              "(t*(-t*sin(t) + cos(t))*sin(t) - t*(t*cos(t) + sin(t))*cos(t))/(t**3*sin(t)**3)"
            ]
          },
          "metadata": {
            "tags": []
          }
        }
      ]
    },
    {
      "cell_type": "code",
      "metadata": {
        "colab": {
          "base_uri": "https://localhost:8080/",
          "height": 56
        },
        "id": "Pos2Qume2dK_",
        "outputId": "c198228e-acc2-4620-856a-ad8d48b241e8"
      },
      "source": [
        "dy2_xx = simplify(dy2_xx)\r\n",
        "display(dy2_xx)"
      ],
      "execution_count": null,
      "outputs": [
        {
          "output_type": "display_data",
          "data": {
            "text/latex": "$\\displaystyle - \\frac{1}{t \\sin^{3}{\\left(t \\right)}}$",
            "text/plain": [
              "-1/(t*sin(t)**3)"
            ]
          },
          "metadata": {
            "tags": []
          }
        }
      ]
    },
    {
      "cell_type": "markdown",
      "metadata": {
        "id": "GScXr5c11yuh"
      },
      "source": [
        "### Задание 2.\n",
        "Найти нули производных первого и второго порядка, а также точки, в которых эти производные не существуют, для функции\n",
        "$$\n",
        "\\left\\{\n",
        "\\begin{matrix}\n",
        "x = t^2 - 2t\\\\\n",
        "y = t^2 + 2t\n",
        "\\end{matrix}\n",
        "\\right.\n",
        "$$"
      ]
    },
    {
      "cell_type": "code",
      "metadata": {
        "colab": {
          "base_uri": "https://localhost:8080/",
          "height": 171
        },
        "id": "gTpm-hx91yuh",
        "outputId": "0266d385-bad8-40e4-f663-7b3597d146f4"
      },
      "source": [
        "t = Symbol('t')\r\n",
        "x = t*t - 2*t\r\n",
        "y = t*t + 2*t\r\n",
        "\r\n",
        "dx = diff(x, t)\r\n",
        "dy = diff(y, t)\r\n",
        "dy_x = dy/dx\r\n",
        "\r\n",
        "dy2_xx = (dx*diff(y, t, 2) - diff(x, t, 2)*dy)/dx**3\r\n",
        "dy_x_num, dy_x_den = fraction(dy_x)\r\n",
        "dy_x_num_nul = solveset(dy_x_num)\r\n",
        "dy_x_den_nul = solveset(dy_x_den)\r\n",
        "display('Первая производная, нули числителя:', dy_x_num_nul, 'нули знаменателя:', dy_x_den_nul)\r\n",
        "\r\n",
        "dy2_xx_num,dy2_xx_den = fraction(dy2_xx)\r\n",
        "dy2_xx_num_nul = solveset(dy2_xx_num)\r\n",
        "dy2_xx_den_nul = solveset(dy2_xx_den)\r\n",
        "dy2_xx_points = list((dy2_xx_num_nul.union(dy2_xx_den_nul)).intersect(Interval.Ropen(0, 2*Pi)))\r\n",
        "display('Вторая производная, нули числителя:', dy2_xx_num_nul, 'нули знаменателя:', dy2_xx_den_nul)"
      ],
      "execution_count": null,
      "outputs": [
        {
          "output_type": "display_data",
          "data": {
            "application/vnd.google.colaboratory.intrinsic+json": {
              "type": "string"
            },
            "text/plain": [
              "'Первая производная, нули числителя:'"
            ]
          },
          "metadata": {
            "tags": []
          }
        },
        {
          "output_type": "display_data",
          "data": {
            "text/latex": "$\\displaystyle \\left\\{-1\\right\\}$",
            "text/plain": [
              "FiniteSet(-1)"
            ]
          },
          "metadata": {
            "tags": []
          }
        },
        {
          "output_type": "display_data",
          "data": {
            "application/vnd.google.colaboratory.intrinsic+json": {
              "type": "string"
            },
            "text/plain": [
              "'нули знаменателя:'"
            ]
          },
          "metadata": {
            "tags": []
          }
        },
        {
          "output_type": "display_data",
          "data": {
            "text/latex": "$\\displaystyle \\left\\{1\\right\\}$",
            "text/plain": [
              "FiniteSet(1)"
            ]
          },
          "metadata": {
            "tags": []
          }
        },
        {
          "output_type": "display_data",
          "data": {
            "application/vnd.google.colaboratory.intrinsic+json": {
              "type": "string"
            },
            "text/plain": [
              "'Вторая производная, нули числителя:'"
            ]
          },
          "metadata": {
            "tags": []
          }
        },
        {
          "output_type": "display_data",
          "data": {
            "text/latex": "$\\displaystyle \\emptyset$",
            "text/plain": [
              "EmptySet"
            ]
          },
          "metadata": {
            "tags": []
          }
        },
        {
          "output_type": "display_data",
          "data": {
            "application/vnd.google.colaboratory.intrinsic+json": {
              "type": "string"
            },
            "text/plain": [
              "'нули знаменателя:'"
            ]
          },
          "metadata": {
            "tags": []
          }
        },
        {
          "output_type": "display_data",
          "data": {
            "text/latex": "$\\displaystyle \\left\\{1\\right\\}$",
            "text/plain": [
              "FiniteSet(1)"
            ]
          },
          "metadata": {
            "tags": []
          }
        }
      ]
    },
    {
      "cell_type": "markdown",
      "metadata": {
        "id": "FxWLiTCt1yui"
      },
      "source": [
        "### Задание 3. \n",
        "Найти точки экстремума и точки перегиба функции Задания 2."
      ]
    },
    {
      "cell_type": "code",
      "metadata": {
        "colab": {
          "base_uri": "https://localhost:8080/",
          "height": 36
        },
        "id": "URUqO6HX1yui",
        "outputId": "0993fd08-1a69-45d4-d6af-3f185c28d950"
      },
      "source": [
        "crit_points = Union(dy_x_num_nul, dy_x_den_nul)\r\n",
        "crit_points"
      ],
      "execution_count": null,
      "outputs": [
        {
          "output_type": "execute_result",
          "data": {
            "text/latex": "$\\displaystyle \\left\\{-1, 1\\right\\}$",
            "text/plain": [
              "FiniteSet(-1, 1)"
            ]
          },
          "metadata": {
            "tags": []
          },
          "execution_count": 54
        }
      ]
    },
    {
      "cell_type": "code",
      "metadata": {
        "colab": {
          "base_uri": "https://localhost:8080/",
          "height": 36
        },
        "id": "6efZBQDd5Oi3",
        "outputId": "64395587-e34f-4261-cb5c-2ec55b4bbdc7"
      },
      "source": [
        "crit_points_interval = crit_points.intersection(Interval.Ropen(-1, 1))\r\n",
        "crit_points_interval"
      ],
      "execution_count": null,
      "outputs": [
        {
          "output_type": "execute_result",
          "data": {
            "text/latex": "$\\displaystyle \\left\\{-1\\right\\}$",
            "text/plain": [
              "FiniteSet(-1)"
            ]
          },
          "metadata": {
            "tags": []
          },
          "execution_count": 114
        }
      ]
    },
    {
      "cell_type": "code",
      "metadata": {
        "colab": {
          "base_uri": "https://localhost:8080/"
        },
        "id": "GDh2vuDA5UmB",
        "outputId": "57350de9-d434-4565-f8d5-ae79ce8b27cd"
      },
      "source": [
        "crit_points_interval = list(crit_points_interval)\r\n",
        "crit_points_interval.sort()\r\n",
        "crit_points_interval"
      ],
      "execution_count": null,
      "outputs": [
        {
          "output_type": "execute_result",
          "data": {
            "text/plain": [
              "[-1]"
            ]
          },
          "metadata": {
            "tags": []
          },
          "execution_count": 115
        }
      ]
    },
    {
      "cell_type": "code",
      "metadata": {
        "colab": {
          "base_uri": "https://localhost:8080/"
        },
        "id": "M3hlbOp85bA9",
        "outputId": "7ba4305e-115f-4b03-e9dc-e0b11545b5fb"
      },
      "source": [
        "points = [-1] + [(item + crit_points_interval[i + 1])/2 for i, item in enumerate(crit_points_interval[:-1])] + [1]\r\n",
        "points"
      ],
      "execution_count": null,
      "outputs": [
        {
          "output_type": "execute_result",
          "data": {
            "text/plain": [
              "[-1, 1]"
            ]
          },
          "metadata": {
            "tags": []
          },
          "execution_count": 116
        }
      ]
    },
    {
      "cell_type": "code",
      "metadata": {
        "colab": {
          "base_uri": "https://localhost:8080/",
          "height": 88
        },
        "id": "1a8x4bVx52Hc",
        "outputId": "09be44ea-0138-41e2-dce7-d336c6a338c4"
      },
      "source": [
        "max_arr=[]\r\n",
        "min_arr=[]\r\n",
        "for i, item in enumerate(crit_points_interval):\r\n",
        "    x_left = float(x.subs(t, points[i]))\r\n",
        "    x_right = float(x.subs(t, points[i + 1]))\r\n",
        "    if x_left < x_right:\r\n",
        "        min_arr.append(item)\r\n",
        "    elif x_left > x_right:\r\n",
        "        max_arr.append(item)\r\n",
        "\r\n",
        "display('максимум', max_arr, 'минимум', min_arr)"
      ],
      "execution_count": null,
      "outputs": [
        {
          "output_type": "display_data",
          "data": {
            "application/vnd.google.colaboratory.intrinsic+json": {
              "type": "string"
            },
            "text/plain": [
              "'максимум'"
            ]
          },
          "metadata": {
            "tags": []
          }
        },
        {
          "output_type": "display_data",
          "data": {
            "text/plain": [
              "[-1]"
            ]
          },
          "metadata": {
            "tags": []
          }
        },
        {
          "output_type": "display_data",
          "data": {
            "application/vnd.google.colaboratory.intrinsic+json": {
              "type": "string"
            },
            "text/plain": [
              "'минимум'"
            ]
          },
          "metadata": {
            "tags": []
          }
        },
        {
          "output_type": "display_data",
          "data": {
            "text/plain": [
              "[-1]"
            ]
          },
          "metadata": {
            "tags": []
          }
        }
      ]
    },
    {
      "cell_type": "markdown",
      "metadata": {
        "id": "-cfQBZQu1yui"
      },
      "source": [
        "### Задание 4. Точки перегиба\n",
        "Найти точки перегиба функции, график строить не нужно. \n",
        "$$\n",
        "\\left\\{\n",
        "\\begin{matrix}\n",
        "x = e^t\\\\\n",
        "y = te^{2t}\n",
        "\\end{matrix}\n",
        "\\right.\n",
        "$$"
      ]
    },
    {
      "cell_type": "code",
      "metadata": {
        "colab": {
          "base_uri": "https://localhost:8080/",
          "height": 98
        },
        "id": "wQY5Zg5G1yuj",
        "outputId": "6a7c6505-8bee-46d1-ac82-c8b1011ff961"
      },
      "source": [
        "from sympy.abc import t\r\n",
        "x = sympy.exp(t)\r\n",
        "y = t*sympy.exp(2*t)\r\n",
        "dx = diff(x, t)\r\n",
        "dy = diff(y, t)\r\n",
        "dy_x = dy/dx\r\n",
        "dy2_xx = simplify((dx*diff(y, t, 2) - diff(x, t, 2)*dy)/dx**3)\r\n",
        "display(dy2_xx)\r\n",
        "dy2_xx_num, dy2_xx_den = fraction(dy2_xx)\r\n",
        "dy2_xx_num_nul = solveset(dy2_xx_num)\r\n",
        "dy2_xx_den_nul = solveset(dy2_xx_den)\r\n",
        "display(dy2_xx_num_nul, dy2_xx_den_nul)"
      ],
      "execution_count": null,
      "outputs": [
        {
          "output_type": "display_data",
          "data": {
            "text/latex": "$\\displaystyle 2 t + 3$",
            "text/plain": [
              "2*t + 3"
            ]
          },
          "metadata": {
            "tags": []
          }
        },
        {
          "output_type": "display_data",
          "data": {
            "text/latex": "$\\displaystyle \\left\\{- \\frac{3}{2}\\right\\}$",
            "text/plain": [
              "FiniteSet(-3/2)"
            ]
          },
          "metadata": {
            "tags": []
          }
        },
        {
          "output_type": "display_data",
          "data": {
            "text/latex": "$\\displaystyle \\emptyset$",
            "text/plain": [
              "EmptySet"
            ]
          },
          "metadata": {
            "tags": []
          }
        }
      ]
    },
    {
      "cell_type": "code",
      "metadata": {
        "id": "Q3NWZxUI7Dk0"
      },
      "source": [
        ""
      ],
      "execution_count": null,
      "outputs": []
    },
    {
      "cell_type": "markdown",
      "metadata": {
        "id": "ByiLZfIw1yuj"
      },
      "source": [
        "## Асимптоты параметрически заданной функции\n",
        "Пусть зависимость $y$ от $x$ задана параметрически:\n",
        "$$\n",
        "\\left\\{\n",
        "\\begin{matrix}\n",
        "x = \\varphi(t)\\\\\n",
        "y = \\psi(t)\n",
        "\\end{matrix}\n",
        "\\right.\n",
        "$$\n",
        "Сначала нужно определить, нет ли таких значений параметра $t$, при которых одна из функций $\\varphi(t)$ или $\\psi(t)$ обращается в бесконечность, а другая остается конечной. При $\\varphi(t_0) = \\infty$, а $\\psi(t_0) = c$ кривая имеет горизонтальную асимптоту  $y = c$. При  $\\psi(t_0) = \\infty$, а $\\varphi(t_0) = c$ кривая имеет вертикальную асимптоту $x = c$. \n",
        "\n",
        "Если $\\varphi(t_0) = \\psi(t_0) = \\infty$ и \n",
        "$$\n",
        "\\lim_{t\\to t_0} \\frac{\\psi(t)}{\\varphi(t)} = k;\\qquad \\lim_{t\\to t_0} [\\psi(t) - k\\varphi(t)] = b,\n",
        "$$\n",
        "то   кривая имеет наклонную асимптоту  $y = kx + b$. \n",
        "\n",
        "### Индивидуальное задание.\n",
        "Найти асимптоты параметрически заданной функции и изобразить на графике функцию и ее асимптоты.\n",
        "\n",
        "\n",
        "\n",
        "Вариант 140\n",
        "\n",
        "$x = 6 e^{t} + 6 e^{- t}$\n",
        "\n",
        "$y = 7 e^{t} - 7 e^{- t}$\n",
        "\n"
      ]
    },
    {
      "cell_type": "code",
      "metadata": {
        "id": "virekKQN1yuj",
        "colab": {
          "base_uri": "https://localhost:8080/",
          "height": 401
        },
        "outputId": "cd74af53-9606-4c0c-f6c0-747d9fe0129e"
      },
      "source": [
        "t = Symbol('t')\r\n",
        "x = 6*sympy.exp(t) + 6*sympy.exp(-t)\r\n",
        "y = 7*sympy.exp(t) - 7*sympy.exp(-t)\r\n",
        "display('t -> 0', limit(x, t, 0), (y, t, 0))\r\n",
        "display('t -> +oo', limit(x, t, +sympy.oo), limit(y, t, +sympy.oo))\r\n",
        "\r\n",
        "T1 = np.linspace(-10, 10, 100)\r\n",
        "T2 = np.linspace(-10, 10, 100)\r\n",
        "for T in [T1, T2]:\r\n",
        " plt.plot(6*np.exp(T) + 6*np.exp(-T), 7*np.exp(T) - 7*np.exp(-T), color='magenta')\r\n",
        "plt.axhline(y=1, color='black', linestyle='--')\r\n",
        "plt.axvline(x=4, color='red', linestyle='--')\r\n",
        "plt.ylim(-100, 100)\r\n",
        "plt.xlim(-2, 30)"
      ],
      "execution_count": 4,
      "outputs": [
        {
          "output_type": "display_data",
          "data": {
            "application/vnd.google.colaboratory.intrinsic+json": {
              "type": "string"
            },
            "text/plain": [
              "'t -> 0'"
            ]
          },
          "metadata": {
            "tags": []
          }
        },
        {
          "output_type": "display_data",
          "data": {
            "text/latex": "$\\displaystyle 12$",
            "text/plain": [
              "12"
            ]
          },
          "metadata": {
            "tags": []
          }
        },
        {
          "output_type": "display_data",
          "data": {
            "text/plain": [
              "(7*exp(t) - 7*exp(-t), t, 0)"
            ]
          },
          "metadata": {
            "tags": []
          }
        },
        {
          "output_type": "display_data",
          "data": {
            "application/vnd.google.colaboratory.intrinsic+json": {
              "type": "string"
            },
            "text/plain": [
              "'t -> +oo'"
            ]
          },
          "metadata": {
            "tags": []
          }
        },
        {
          "output_type": "display_data",
          "data": {
            "text/latex": "$\\displaystyle \\infty$",
            "text/plain": [
              "oo"
            ]
          },
          "metadata": {
            "tags": []
          }
        },
        {
          "output_type": "display_data",
          "data": {
            "text/latex": "$\\displaystyle \\infty$",
            "text/plain": [
              "oo"
            ]
          },
          "metadata": {
            "tags": []
          }
        },
        {
          "output_type": "execute_result",
          "data": {
            "text/plain": [
              "(-2.0, 30.0)"
            ]
          },
          "metadata": {
            "tags": []
          },
          "execution_count": 4
        },
        {
          "output_type": "display_data",
          "data": {
            "image/png": "[encoded data removed]",
            "text/plain": [
              "<Figure size 432x288 with 1 Axes>"
            ]
          },
          "metadata": {
            "tags": [],
            "needs_background": "light"
          }
        }
      ]
    }
  ]
}