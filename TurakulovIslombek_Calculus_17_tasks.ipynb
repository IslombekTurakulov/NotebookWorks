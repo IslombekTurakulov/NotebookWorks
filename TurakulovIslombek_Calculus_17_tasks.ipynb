{
  "nbformat": 4,
  "nbformat_minor": 0,
  "metadata": {
    "kernelspec": {
      "display_name": "Python 3",
      "language": "python",
      "name": "python3"
    },
    "language_info": {
      "codemirror_mode": {
        "name": "ipython",
        "version": 3
      },
      "file_extension": ".py",
      "mimetype": "text/x-python",
      "name": "python",
      "nbconvert_exporter": "python",
      "pygments_lexer": "ipython3",
      "version": "3.7.3"
    },
    "colab": {
      "name": "TurakulovIslombek_Calculus_17_tasks.ipynb",
      "provenance": [],
      "collapsed_sections": [],
      "include_colab_link": true
    }
  },
  "cells": [
    {
      "cell_type": "markdown",
      "metadata": {
        "id": "view-in-github",
        "colab_type": "text"
      },
      "source": [
        "<a href=\"https://colab.research.google.com/github/IslombekTurakulov/NotebookWorks/blob/main/TurakulovIslombek_Calculus_17_tasks.ipynb\" target=\"_parent\"><img src=\"https://colab.research.google.com/assets/colab-badge.svg\" alt=\"Open In Colab\"/></a>"
      ]
    },
    {
      "cell_type": "code",
      "metadata": {
        "id": "kT4qBmncfemR"
      },
      "source": [
        "import numpy as np\n",
        "import sympy\n",
        "from sympy import S, Symbol, symbols, Function, dsolve, solveset, plot_implicit, integrate, diff, plot\n",
        "from sympy import sin as Sin\n",
        "from sympy import cos as Cos\n",
        "from sympy import exp as Exp\n",
        "from sympy import log as Log\n",
        "from sympy import pi as Pi\n",
        "import matplotlib.pyplot as plt\n",
        "%matplotlib inline"
      ],
      "execution_count": 2,
      "outputs": []
    },
    {
      "cell_type": "markdown",
      "metadata": {
        "id": "iYWP_pNsfemW"
      },
      "source": [
        "## Занятие 17\n",
        "## Математический анализ\n",
        "## Линейные ОДУ второго порядка с постоянными коэффициентами\n",
        "## Задание № 1\n",
        "Решить аналитически ОДУ с разделяющимися переменными\n",
        "$$\n",
        "y'=\\ln(x+2)e^{2-y}.\n",
        "$$\n",
        "Найти общий интеграл. "
      ]
    },
    {
      "cell_type": "code",
      "metadata": {
        "colab": {
          "base_uri": "https://localhost:8080/",
          "height": 38
        },
        "id": "XoMxhcTcfemX",
        "outputId": "ab911073-e068-4557-ea1c-3114a3a6bf91"
      },
      "source": [
        "x, y, C = symbols('x y C', real=True)\n",
        "ODE = sympy.Eq(integrate(Exp(2 - y), y), integrate(Log(x + 2), x) + C)\n",
        "display(ODE)"
      ],
      "execution_count": 3,
      "outputs": [
        {
          "output_type": "display_data",
          "data": {
            "text/latex": "$\\displaystyle - e^{2 - y} = C + x \\log{\\left(x + 2 \\right)} - x + 2 \\log{\\left(x + 2 \\right)}$",
            "text/plain": [
              "Eq(-exp(2 - y), C + x*log(x + 2) - x + 2*log(x + 2))"
            ]
          },
          "metadata": {
            "tags": []
          }
        }
      ]
    },
    {
      "cell_type": "markdown",
      "metadata": {
        "id": "fOM1NlVSfemX"
      },
      "source": [
        "## Задание № 2\n",
        "Решить аналитически задачу Коши\n",
        "$$\n",
        "y^3y'=\\frac{1}{1+x^2},\\qquad y(0)=1.\n",
        "$$\n",
        "Найти общий интеграл, учесть начальное условие. \n",
        "Построить график $y$, пользуясь plot_implicit."
      ]
    },
    {
      "cell_type": "code",
      "metadata": {
        "colab": {
          "base_uri": "https://localhost:8080/",
          "height": 54
        },
        "id": "2i1vtg0kfemX",
        "outputId": "4e9049ed-5b92-42e4-a824-081315ce4807"
      },
      "source": [
        "x, y, C = symbols('x y C', real = True)\n",
        "ODE = sympy.Eq(integrate(y**3, y), integrate(1/(1 + x**2), x) + C)\n",
        "display(ODE)"
      ],
      "execution_count": 4,
      "outputs": [
        {
          "output_type": "display_data",
          "data": {
            "text/latex": "$\\displaystyle \\frac{y^{4}}{4} = C + \\operatorname{atan}{\\left(x \\right)}$",
            "text/plain": [
              "Eq(y**4/4, C + atan(x))"
            ]
          },
          "metadata": {
            "tags": []
          }
        }
      ]
    },
    {
      "cell_type": "code",
      "metadata": {
        "colab": {
          "base_uri": "https://localhost:8080/",
          "height": 58
        },
        "id": "H04AE_6_jPtI",
        "outputId": "2a793a71-ba94-4acd-aa65-970078aefee5"
      },
      "source": [
        "x0y0 = {x: 0, y: 1}\n",
        "Cval = solveset(sympy.Eq(ODE.lhs.subs(x0y0), ODE.rhs.subs(x0y0)), C)\n",
        "Cval"
      ],
      "execution_count": 5,
      "outputs": [
        {
          "output_type": "execute_result",
          "data": {
            "text/latex": "$\\displaystyle \\left\\{\\frac{1}{4}\\right\\}$",
            "text/plain": [
              "FiniteSet(1/4)"
            ]
          },
          "metadata": {
            "tags": []
          },
          "execution_count": 5
        }
      ]
    },
    {
      "cell_type": "code",
      "metadata": {
        "colab": {
          "base_uri": "https://localhost:8080/",
          "height": 314
        },
        "id": "CtSHwZwWjXMi",
        "outputId": "f3c25571-2d79-4524-a31e-7e5b0935c28f"
      },
      "source": [
        "plot_implicit(sympy.Eq(ODE.lhs, ODE.rhs.subs(C, *Cval)),(x, -1, 5), (y, -2, 2), linewidth=2)"
      ],
      "execution_count": 6,
      "outputs": [
        {
          "output_type": "display_data",
          "data": {
            "image/png": "[encoded data removed]",
            "text/plain": [
              "<Figure size 432x288 with 1 Axes>"
            ]
          },
          "metadata": {
            "tags": [],
            "needs_background": "light"
          }
        },
        {
          "output_type": "execute_result",
          "data": {
            "text/plain": [
              "<sympy.plotting.plot.Plot at 0x7f97afa730d0>"
            ]
          },
          "metadata": {
            "tags": []
          },
          "execution_count": 6
        }
      ]
    },
    {
      "cell_type": "markdown",
      "metadata": {
        "id": "rpXLVTh7femY"
      },
      "source": [
        "## Индивидуальное задание № 139\n",
        "Решить задачу Коши аналитически, методом Эйлера и методом Рунге-Кутты. Построить в одной координатной плоскости графики точного и приближенных решений.\n",
        "\n",
        "$\\frac{d}{dx}y(x) = -8\\sqrt{x}y(x)-3\\sqrt{x} \\underbrace{\\implies}_{y(x) = y} $ $\\frac{d}{dx}y = -8\\sqrt{x}y-3\\sqrt{x}$         \n",
        "$\\ y(0)=3 $"
      ]
    },
    {
      "cell_type": "markdown",
      "metadata": {
        "id": "Q1kg61yxusbz"
      },
      "source": [
        "Упростим задачу:\n",
        "\n",
        "$\\frac{dy}{dx} = \\sqrt{x}(-8y-3)$\n",
        "\n",
        "Умножаем на ${dx}$\n",
        "\n",
        "${dy}= \\sqrt{x}(-8y-3){dx}$\n",
        "\n",
        "Делим на $-8y-3$\n",
        "\n",
        "$\\frac{dy}{-8y-3}= \\sqrt{x}{dx}$\n",
        "\n",
        "Решим задачу с разделяющимися переменными"
      ]
    },
    {
      "cell_type": "markdown",
      "metadata": {
        "id": "UEv8DszudNdQ"
      },
      "source": [
        "__1. Решим задачу Коши аналитически__"
      ]
    },
    {
      "cell_type": "code",
      "metadata": {
        "colab": {
          "base_uri": "https://localhost:8080/",
          "height": 57
        },
        "id": "2Lz3Kb0tfemY",
        "outputId": "08bb9195-e782-42e4-9204-e8dacdd73702"
      },
      "source": [
        "x, y, C = symbols('x y C', real = True)\n",
        "ODE = sympy.Eq(integrate(1/(-3-8*y), y), integrate(x**(S.Half), x) + C)\n",
        "display(ODE)"
      ],
      "execution_count": 7,
      "outputs": [
        {
          "output_type": "display_data",
          "data": {
            "text/latex": "$\\displaystyle - \\frac{\\log{\\left(8 y + 3 \\right)}}{8} = C + \\frac{2 x^{\\frac{3}{2}}}{3}$",
            "text/plain": [
              "Eq(-log(8*y + 3)/8, C + 2*x**(3/2)/3)"
            ]
          },
          "metadata": {
            "tags": []
          }
        }
      ]
    },
    {
      "cell_type": "code",
      "metadata": {
        "colab": {
          "base_uri": "https://localhost:8080/",
          "height": 58
        },
        "id": "4Trf_24HqkS3",
        "outputId": "f81d749e-a2be-4142-9dba-6a161ed9556e"
      },
      "source": [
        "x0y0 = {x: 0, y: 3}\n",
        "Cval = solveset(sympy.Eq(ODE.lhs.subs(x0y0), ODE.rhs.subs(x0y0)), C)\n",
        "Cval"
      ],
      "execution_count": 8,
      "outputs": [
        {
          "output_type": "execute_result",
          "data": {
            "text/latex": "$\\displaystyle \\left\\{- \\frac{\\log{\\left(27 \\right)}}{8}\\right\\}$",
            "text/plain": [
              "FiniteSet(-log(27)/8)"
            ]
          },
          "metadata": {
            "tags": []
          },
          "execution_count": 8
        }
      ]
    },
    {
      "cell_type": "code",
      "metadata": {
        "colab": {
          "base_uri": "https://localhost:8080/",
          "height": 297
        },
        "id": "5CJyw-A4qoUw",
        "outputId": "3a976c4e-5eb3-40cc-f173-3317be5743dc"
      },
      "source": [
        "p = plot_implicit(sympy.Eq(sympy.re(ODE.lhs), ODE.rhs.subs(C, *Cval)),(x, -1, 3), (y, -4, 4))"
      ],
      "execution_count": 9,
      "outputs": [
        {
          "output_type": "display_data",
          "data": {
            "image/png": "[encoded data removed]",
            "text/plain": [
              "<Figure size 432x288 with 1 Axes>"
            ]
          },
          "metadata": {
            "tags": [],
            "needs_background": "light"
          }
        }
      ]
    },
    {
      "cell_type": "markdown",
      "metadata": {
        "id": "jXjB_YTkeMMZ"
      },
      "source": [
        "__2. Решим задачу методом Эйлера__"
      ]
    },
    {
      "cell_type": "code",
      "metadata": {
        "id": "TAh3Pixtv9Xk"
      },
      "source": [
        "def draw(x0, xf, h, labels, *args):\n",
        "    assert len(labels) == len(args)\n",
        "\n",
        "    xs = np.arange(x0, xf, h)\n",
        "\n",
        "    for (i, ys) in enumerate(args):\n",
        "        print(len(xs), len(ys), xs[0], ys[0], xs[-1], ys[-1])\n",
        "        plt.plot(xs, ys, label=labels[i], linewidth=1)\n",
        "    plt.xlabel('H')\n",
        "    plt.ylabel('Y')\n",
        "    plt.title(\"Result\")\n",
        "    plt.legend()\n",
        "    plt.show()"
      ],
      "execution_count": 10,
      "outputs": []
    },
    {
      "cell_type": "code",
      "metadata": {
        "id": "kb7p78QjsiB4"
      },
      "source": [
        "# Эти функции были взяты с гита https://github.com/mdmxfry/DE-methods потому-что я не знаю как можно сделать это здесь\n",
        "class Exact:\n",
        "    def __init__(self, solved_equation, h):\n",
        "        self.f = solved_equation\n",
        "        self.h = h\n",
        "\n",
        "    def _next_y(self, xi, yi):\n",
        "        \"\"\"\n",
        "        Считает y[i+1] следующим образом:\n",
        "            y[i+1] = f(x[i+1])\n",
        "        P.S.\n",
        "        Функция вынесена таким образом, чтобы в след. методах (классах)\n",
        "        можно было просто перегрузить ее и получить новый метод не дублируя код.\n",
        "        :param xi: x[i]\n",
        "        :param yi: y[i]\n",
        "        :return: y[i+1]\n",
        "        \"\"\"\n",
        "        return self.f(xi)\n",
        "\n",
        "    def calculate(self, x0, y0, xf):\n",
        "        \"\"\"\n",
        "        Вычисляет значения на промежуте [x0;xf] с шагом h выражения f\n",
        "        :param x0:\n",
        "        :param y0:\n",
        "        :param xf:\n",
        "        :return: список значений приближения для промежутка [x0;xf]\n",
        "        \"\"\"\n",
        "        ys = []\n",
        "        xs = np.arange(x0 + self.h, xf + self.h, self.h)  # вектор всех значений x\n",
        "        y = y0\n",
        "        for x in xs:\n",
        "            ys.append(y)\n",
        "            y = self._next_y(x, y)\n",
        "        return ys\n",
        "\n",
        "\n",
        "class Euler(Exact):\n",
        "    def _next_y(self, xi, yi):\n",
        "        \"\"\"\n",
        "        Считает y[i+1] исходя из x[i] и y[i] следующим образом:\n",
        "            y[i+1] = y[i] + h * f(xi, yi)\n",
        "        :param xi: x[i]\n",
        "        :param yi: y[i]\n",
        "        :return: y[i+1]\n",
        "        \"\"\"\n",
        "        return yi + self.h * self.f(xi, yi)\n",
        "\n",
        "\n",
        "class ImprovedEuler(Euler):\n",
        "    def _next_y(self, xi, yi):\n",
        "        \"\"\"\n",
        "        Считает y[i+1] исходя из x[i] и y[i] следующим образом:\n",
        "            y[i+1] = y[i] + h * f(xi + h/2, yi + h/2 * f(xi, yi))\n",
        "        :param xi: x[i]\n",
        "        :param yi: y[i]\n",
        "        :return: y[i+1]\n",
        "        \"\"\"\n",
        "        h2 = self.h / 2\n",
        "        delta_y = self.h * self.f(xi + h2, yi + h2 * self.f(xi, yi))\n",
        "        return yi + delta_y\n",
        "\n",
        "\n",
        "class RungeKutta(Euler):\n",
        "    def _next_y(self, xi, yi):\n",
        "        \"\"\"\n",
        "        Считает y[i+1] исходя из x[i] и y[i] следующим образом:\n",
        "            y[i+1] = y[i] + h/6 * (k1 + 2k2+ 2k3 + k4)\n",
        "            k1 = f(xi, yi)\n",
        "            k2 = f(xi + h/2, yi + h/2 * k1)\n",
        "            k3 = f(xi + h/2, yi + h/2 * k2)\n",
        "            k4 = f(xi + h, yi + h * k3)\n",
        "        :param xi: x[i]\n",
        "        :param yi: y[i]\n",
        "        :return: y[i+1]\n",
        "        \"\"\"\n",
        "        h2 = self.h / 2\n",
        "        k1 = self.f(xi, yi)\n",
        "        k2 = self.f(xi + h2, yi + h2 * k1)\n",
        "        k3 = self.f(xi + h2, yi + h2 * k2)\n",
        "        k4 = self.f(xi + self.h, yi + self.h * k3)\n",
        "        return yi + (self.h / 6) * (k1 + 2 * k2 + 2 * k3 + k4)"
      ],
      "execution_count": 11,
      "outputs": []
    },
    {
      "cell_type": "code",
      "metadata": {
        "colab": {
          "base_uri": "https://localhost:8080/",
          "height": 669
        },
        "id": "L4oPbeS-vTTQ",
        "outputId": "56861150-0791-4d31-86a1-a31117799818"
      },
      "source": [
        "C = 9/2\n",
        "HS = 0.01\n",
        "HF = 1.01\n",
        "HH = 0.05\n",
        "X0 = 0\n",
        "Y0 = 3\n",
        "XF = 0\n",
        "\n",
        "\n",
        "def calculate_error(ys_approx, ys_exact):\n",
        "    return [abs(y1 - y2) for y1, y2 in zip(ys_approx, ys_exact)]\n",
        "\n",
        "\n",
        "def calculate_mean_error(ys_approx, ys_exact):\n",
        "    if (len(ys_exact) == 0):\n",
        "      return 0\n",
        "    else:\n",
        "      return sum(calculate_error(ys_approx, ys_exact))/len(ys_exact)\n",
        "      \n",
        "euler_error = []\n",
        "better_euler_error = []\n",
        "rk_error = []\n",
        "h_axis = np.arange(HS, HF, HH)\n",
        "for H in h_axis:\n",
        "    print(H)\n",
        "    exact = Exact(ODE, H)\n",
        "    exact_ys = exact.calculate(X0, Y0, XF)\n",
        "\n",
        "    euler = Euler(-8*x**(S.Half)*y - 3*x**(S.Half), H)\n",
        "    euler_ys = euler.calculate(X0, Y0, XF)\n",
        "\n",
        "    runge_kutta = RungeKutta(-8*x**(S.Half)*y - 3*x**(S.Half), H)\n",
        "    rk_ys = runge_kutta.calculate(X0, Y0, XF)\n",
        "\n",
        "        # draw(X0, XF, H, ['Exact', 'Euler'], exact_ys, euler_ys)\n",
        "        # draw(X0, XF, H, ['Exact', 'Improved Euler'], exact_ys, b_euler_ys)\n",
        "        # draw(X0, XF, H, ['Exact', 'Runge Kutta'], exact_ys, rk_ys)\n",
        "\n",
        "    euler_error.append(calculate_mean_error(euler_ys, exact_ys))\n",
        "    rk_error.append(calculate_mean_error(rk_ys, exact_ys))\n",
        "\n",
        "draw(HS, HF, HH, ['Euler', 'Runge Kutta'], euler_error, rk_error)"
      ],
      "execution_count": 12,
      "outputs": [
        {
          "output_type": "stream",
          "text": [
            "0.01\n",
            "0.060000000000000005\n",
            "0.11\n",
            "0.16000000000000003\n",
            "0.21000000000000002\n",
            "0.26\n",
            "0.31000000000000005\n",
            "0.36000000000000004\n",
            "0.41000000000000003\n",
            "0.46\n",
            "0.51\n",
            "0.56\n",
            "0.6100000000000001\n",
            "0.66\n",
            "0.7100000000000001\n",
            "0.76\n",
            "0.81\n",
            "0.8600000000000001\n",
            "0.91\n",
            "0.9600000000000001\n",
            "20 20 0.01 0 0.9600000000000001 0\n",
            "20 20 0.01 0 0.9600000000000001 0\n"
          ],
          "name": "stdout"
        },
        {
          "output_type": "display_data",
          "data": {
            "image/png": "[encoded data removed]",
            "text/plain": [
              "<Figure size 432x288 with 1 Axes>"
            ]
          },
          "metadata": {
            "tags": [],
            "needs_background": "light"
          }
        }
      ]
    },
    {
      "cell_type": "code",
      "metadata": {
        "id": "qe3uhq5Vsiks"
      },
      "source": [
        ""
      ],
      "execution_count": 12,
      "outputs": []
    }
  ]
}