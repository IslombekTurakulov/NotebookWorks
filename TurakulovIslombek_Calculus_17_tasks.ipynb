{
  "nbformat": 4,
  "nbformat_minor": 0,
  "metadata": {
    "kernelspec": {
      "display_name": "Python 3",
      "language": "python",
      "name": "python3"
    },
    "language_info": {
      "codemirror_mode": {
        "name": "ipython",
        "version": 3
      },
      "file_extension": ".py",
      "mimetype": "text/x-python",
      "name": "python",
      "nbconvert_exporter": "python",
      "pygments_lexer": "ipython3",
      "version": "3.7.3"
    },
    "colab": {
      "name": "TurakulovIslombek_Calculus_17_tasks.ipynb",
      "provenance": [],
      "collapsed_sections": [],
      "include_colab_link": true
    }
  },
  "cells": [
    {
      "cell_type": "markdown",
      "metadata": {
        "id": "view-in-github",
        "colab_type": "text"
      },
      "source": [
        "<a href=\"https://colab.research.google.com/github/IslombekTurakulov/NotebookWorks/blob/main/TurakulovIslombek_Calculus_17_tasks.ipynb\" target=\"_parent\"><img src=\"https://colab.research.google.com/assets/colab-badge.svg\" alt=\"Open In Colab\"/></a>"
      ]
    },
    {
      "cell_type": "code",
      "metadata": {
        "id": "kT4qBmncfemR"
      },
      "source": [
        "import numpy as np\n",
        "import sympy\n",
        "from sympy import S, Symbol, symbols, Function, dsolve, solveset, plot_implicit, integrate, diff, plot\n",
        "from sympy import sin as Sin\n",
        "from sympy import cos as Cos\n",
        "from sympy import exp as Exp\n",
        "from sympy import log as Log\n",
        "from sympy import pi as Pi\n",
        "import matplotlib.pyplot as plt\n",
        "%matplotlib inline"
      ],
      "execution_count": 1,
      "outputs": []
    },
    {
      "cell_type": "markdown",
      "metadata": {
        "id": "iYWP_pNsfemW"
      },
      "source": [
        "## Занятие 17\n",
        "## Математический анализ\n",
        "## Линейные ОДУ второго порядка с постоянными коэффициентами\n",
        "## Задание № 1\n",
        "Решить аналитически ОДУ с разделяющимися переменными\n",
        "$$\n",
        "y'=\\ln(x+2)e^{2-y}.\n",
        "$$\n",
        "Найти общий интеграл. "
      ]
    },
    {
      "cell_type": "code",
      "metadata": {
        "colab": {
          "base_uri": "https://localhost:8080/",
          "height": 38
        },
        "id": "XoMxhcTcfemX",
        "outputId": "ab911073-e068-4557-ea1c-3114a3a6bf91"
      },
      "source": [
        "x, y, C = symbols('x y C', real=True)\n",
        "ODE = sympy.Eq(integrate(Exp(2 - y), y), integrate(Log(x + 2), x) + C)\n",
        "display(ODE)"
      ],
      "execution_count": null,
      "outputs": [
        {
          "output_type": "display_data",
          "data": {
            "text/latex": "$\\displaystyle - e^{2 - y} = C + x \\log{\\left(x + 2 \\right)} - x + 2 \\log{\\left(x + 2 \\right)}$",
            "text/plain": [
              "Eq(-exp(2 - y), C + x*log(x + 2) - x + 2*log(x + 2))"
            ]
          },
          "metadata": {
            "tags": []
          }
        }
      ]
    },
    {
      "cell_type": "markdown",
      "metadata": {
        "id": "fOM1NlVSfemX"
      },
      "source": [
        "## Задание № 2\n",
        "Решить аналитически задачу Коши\n",
        "$$\n",
        "y^3y'=\\frac{1}{1+x^2},\\qquad y(0)=1.\n",
        "$$\n",
        "Найти общий интеграл, учесть начальное условие. \n",
        "Построить график $y$, пользуясь plot_implicit."
      ]
    },
    {
      "cell_type": "code",
      "metadata": {
        "colab": {
          "base_uri": "https://localhost:8080/",
          "height": 54
        },
        "id": "2i1vtg0kfemX",
        "outputId": "4e9049ed-5b92-42e4-a824-081315ce4807"
      },
      "source": [
        "x, y, C = symbols('x y C', real = True)\n",
        "ODE = sympy.Eq(integrate(y**3, y), integrate(1/(1 + x**2), x) + C)\n",
        "display(ODE)"
      ],
      "execution_count": null,
      "outputs": [
        {
          "output_type": "display_data",
          "data": {
            "text/latex": "$\\displaystyle \\frac{y^{4}}{4} = C + \\operatorname{atan}{\\left(x \\right)}$",
            "text/plain": [
              "Eq(y**4/4, C + atan(x))"
            ]
          },
          "metadata": {
            "tags": []
          }
        }
      ]
    },
    {
      "cell_type": "code",
      "metadata": {
        "colab": {
          "base_uri": "https://localhost:8080/",
          "height": 58
        },
        "id": "H04AE_6_jPtI",
        "outputId": "2a793a71-ba94-4acd-aa65-970078aefee5"
      },
      "source": [
        "x0y0 = {x: 0, y: 1}\n",
        "Cval = solveset(sympy.Eq(ODE.lhs.subs(x0y0), ODE.rhs.subs(x0y0)), C)\n",
        "Cval"
      ],
      "execution_count": null,
      "outputs": [
        {
          "output_type": "execute_result",
          "data": {
            "text/latex": "$\\displaystyle \\left\\{\\frac{1}{4}\\right\\}$",
            "text/plain": [
              "FiniteSet(1/4)"
            ]
          },
          "metadata": {
            "tags": []
          },
          "execution_count": 5
        }
      ]
    },
    {
      "cell_type": "code",
      "metadata": {
        "colab": {
          "base_uri": "https://localhost:8080/",
          "height": 314
        },
        "id": "CtSHwZwWjXMi",
        "outputId": "f3c25571-2d79-4524-a31e-7e5b0935c28f"
      },
      "source": [
        "plot_implicit(sympy.Eq(ODE.lhs, ODE.rhs.subs(C, *Cval)),(x, -1, 5), (y, -2, 2), linewidth=2)"
      ],
      "execution_count": null,
      "outputs": [
        {
          "output_type": "display_data",
          "data": {
            "image/png": "[encoded data removed]",
            "text/plain": [
              "<Figure size 432x288 with 1 Axes>"
            ]
          },
          "metadata": {
            "tags": [],
            "needs_background": "light"
          }
        },
        {
          "output_type": "execute_result",
          "data": {
            "text/plain": [
              "<sympy.plotting.plot.Plot at 0x7f97afa730d0>"
            ]
          },
          "metadata": {
            "tags": []
          },
          "execution_count": 6
        }
      ]
    },
    {
      "cell_type": "markdown",
      "metadata": {
        "id": "rpXLVTh7femY"
      },
      "source": [
        "## Индивидуальное задание № 139\n",
        "Решить задачу Коши аналитически, методом Эйлера и методом Рунге-Кутты. Построить в одной координатной плоскости графики точного и приближенных решений.\n",
        "\n",
        "$\\frac{d}{dx}y(x) = -8\\sqrt{x}y(x)-3\\sqrt{x} \\underbrace{\\implies}_{y(x) = y} $ $\\frac{d}{dx}y = -8\\sqrt{x}y-3\\sqrt{x}$         \n",
        "$\\ y(0)=3 $"
      ]
    },
    {
      "cell_type": "markdown",
      "metadata": {
        "id": "Q1kg61yxusbz"
      },
      "source": [
        "Упростим задачу:\n",
        "\n",
        "$\\frac{dy}{dx} = \\sqrt{x}(-8y-3)$\n",
        "\n",
        "Умножаем на ${dx}$\n",
        "\n",
        "${dy}= \\sqrt{x}(-8y-3){dx}$\n",
        "\n",
        "Делим на $-8y-3$\n",
        "\n",
        "$\\frac{dy}{-8y-3}= \\sqrt{x}{dx}$\n",
        "\n",
        "Решим задачу с разделяющимися переменными"
      ]
    },
    {
      "cell_type": "markdown",
      "metadata": {
        "id": "UEv8DszudNdQ"
      },
      "source": [
        "__1. Решим задачу Коши аналитически__"
      ]
    },
    {
      "cell_type": "code",
      "metadata": {
        "colab": {
          "base_uri": "https://localhost:8080/",
          "height": 65
        },
        "id": "2Lz3Kb0tfemY",
        "outputId": "803370bd-5c2f-4eb7-aeac-aecc4f0f8092"
      },
      "source": [
        "from sympy.abc import x\n",
        "y = Function('y')\n",
        "res = dsolve(y(x).diff(x) + 8*x**(S(1)/2)*y(x) + 3*x**(S(1)/2), y(x))\n",
        "res"
      ],
      "execution_count": 2,
      "outputs": [
        {
          "output_type": "execute_result",
          "data": {
            "text/latex": "$\\displaystyle y{\\left(x \\right)} = \\frac{C_{1} e^{- \\frac{16 x^{\\frac{3}{2}}}{3}}}{8} - \\frac{3}{8}$",
            "text/plain": [
              "Eq(y(x), C1*exp(-16*x**(3/2)/3)/8 - 3/8)"
            ]
          },
          "metadata": {
            "tags": []
          },
          "execution_count": 2
        }
      ]
    },
    {
      "cell_type": "code",
      "metadata": {
        "colab": {
          "base_uri": "https://localhost:8080/",
          "height": 37
        },
        "id": "4Trf_24HqkS3",
        "outputId": "aa783ff2-e8f7-48ab-ac50-eda79fa7a615"
      },
      "source": [
        "sym_dict = {str(item): item for item in res.rhs.free_symbols}\n",
        "\n",
        "c = list(sympy.linsolve([sympy.Eq(res.rhs.subs(x, 0), -1)], sym_dict['C1']))[0][0]\n",
        "c"
      ],
      "execution_count": 3,
      "outputs": [
        {
          "output_type": "execute_result",
          "data": {
            "text/latex": "$\\displaystyle -5$",
            "text/plain": [
              "-5"
            ]
          },
          "metadata": {
            "tags": []
          },
          "execution_count": 3
        }
      ]
    },
    {
      "cell_type": "code",
      "metadata": {
        "id": "5CJyw-A4qoUw"
      },
      "source": [
        "def f(x, y):\n",
        "  return -8*x**(S(1)/2)*y - 3*x**(S(1)/2)\n",
        "\n",
        "a, b, N = 0, 0.5, 50\n",
        "h = (b - a)/N\n",
        "xVec = np.linspace(a, b, N)\n",
        "yVec = np.zeros(len(xVec))\n",
        "yVec[0] = 3\n",
        "\n",
        "for i in range(1, len(xVec)):\n",
        "  yVec[i] = yVec[i-1] + h*f(xVec[i-1], yVec[i-1])"
      ],
      "execution_count": 7,
      "outputs": []
    },
    {
      "cell_type": "code",
      "metadata": {
        "id": "Xxn25X0WDhy_"
      },
      "source": [
        "yVecStar = np.zeros(len(xVec))\n",
        "yVecStar[0] = -1\n",
        "yVecAnother = np.zeros(len(xVec))\n",
        "yVecAnother[0] = -1\n",
        "\n",
        "for i in range(1, len(xVec)):\n",
        "  yVecStar[i] = yVecAnother[i-1] + h*f(xVec[i-1], yVecAnother[i-1])\n",
        "  yVecAnother[i] = yVecAnother[i-1] + h*(f(xVec[i-1], yVecAnother[i-1]) + f(xVec[i], yVecStar[i]))/2"
      ],
      "execution_count": 8,
      "outputs": []
    },
    {
      "cell_type": "code",
      "metadata": {
        "id": "TAh3Pixtv9Xk"
      },
      "source": [
        "yVecGeneral = np.zeros(len(xVec))\n",
        "right = res.rhs.subs(sym_dict['C1'], c)\n",
        "for i in range(len(xVec)):\n",
        "  yVecGeneral[i] = right.subs(sym_dict['x'], xVec[i])"
      ],
      "execution_count": 9,
      "outputs": []
    },
    {
      "cell_type": "code",
      "metadata": {
        "id": "kb7p78QjsiB4",
        "colab": {
          "base_uri": "https://localhost:8080/",
          "height": 282
        },
        "outputId": "f3f3687f-228d-437c-a6e8-09c35815c292"
      },
      "source": [
        "plt.plot(xVec, yVec, 'blue')\n",
        "plt.plot(xVec, yVecAnother, 'green')\n",
        "plt.plot(xVec, yVecGeneral, 'red')"
      ],
      "execution_count": 10,
      "outputs": [
        {
          "output_type": "execute_result",
          "data": {
            "text/plain": [
              "[<matplotlib.lines.Line2D at 0x7f7c0a6b2e10>]"
            ]
          },
          "metadata": {
            "tags": []
          },
          "execution_count": 10
        },
        {
          "output_type": "display_data",
          "data": {
            "image/png": "[encoded data removed]",
            "text/plain": [
              "<Figure size 432x288 with 1 Axes>"
            ]
          },
          "metadata": {
            "tags": [],
            "needs_background": "light"
          }
        }
      ]
    }
  ]
}