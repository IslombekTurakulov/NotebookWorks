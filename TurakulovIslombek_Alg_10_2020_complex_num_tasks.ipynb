{
  "nbformat": 4,
  "nbformat_minor": 0,
  "metadata": {
    "kernelspec": {
      "display_name": "Python 3",
      "language": "python",
      "name": "python3"
    },
    "language_info": {
      "codemirror_mode": {
        "name": "ipython",
        "version": 3
      },
      "file_extension": ".py",
      "mimetype": "text/x-python",
      "name": "python",
      "nbconvert_exporter": "python",
      "pygments_lexer": "ipython3",
      "version": "3.7.3"
    },
    "colab": {
      "name": "TurakulovIslombek_Alg_10_2020_complex_num_tasks.ipynb",
      "provenance": [],
      "collapsed_sections": [
        "Msk1wSQ0j4CR"
      ],
      "include_colab_link": true
    }
  },
  "cells": [
    {
      "cell_type": "markdown",
      "metadata": {
        "id": "view-in-github",
        "colab_type": "text"
      },
      "source": [
        "<a href=\"https://colab.research.google.com/github/IslombekTurakulov/NotebookWorks/blob/main/TurakulovIslombek_Alg_10_2020_complex_num_tasks.ipynb\" target=\"_parent\"><img src=\"https://colab.research.google.com/assets/colab-badge.svg\" alt=\"Open In Colab\"/></a>"
      ]
    },
    {
      "cell_type": "code",
      "metadata": {
        "id": "qfjQnZlbj4CK"
      },
      "source": [
        "import sympy\n",
        "from sympy import I\n",
        "import numpy as np\n",
        "import matplotlib.pyplot as plt"
      ],
      "execution_count": null,
      "outputs": []
    },
    {
      "cell_type": "markdown",
      "metadata": {
        "id": "CGxbe4Jsj4CQ"
      },
      "source": [
        "# Занятие 10\n",
        "# Алгебра\n",
        "## Комплексные числа в sympy\n",
        "### Задание 1.\n",
        "Даны комплексные числа\n",
        "$$\n",
        "z_1 = 5\\sqrt{3} + 5i,\\quad z_2 = -3 + 3i,\\quad z_3 = - 1 + i,\\quad z_4 = i,\\quad z_5 = \\frac{12}{13} + \\frac{5}{13}i,\n",
        "$$\n",
        "вычислить (представить в алгебраической форме) с помощью sympy\n",
        "$$\n",
        "z_1 \\cdot z_2,\\quad (z_2 - 5z_3)^6,\\quad \\sqrt{\\frac{z_4}{z_3}},\\quad \\frac{z_1^2 + z_3}{13z_5 - 2z_2}.\n",
        "$$"
      ]
    },
    {
      "cell_type": "code",
      "metadata": {
        "colab": {
          "base_uri": "https://localhost:8080/"
        },
        "id": "PaKcqNK1j4CR",
        "outputId": "37638fc2-ea6e-4f34-bcc7-e6df17d09286"
      },
      "source": [
        "def func(z1,z2,z3,z4,z5):\n",
        "  display(*(sympy.expand_complex(item) for item in \n",
        "           [z1*z2, (z2 - 5*z3)**6, sympy.simplify(sympy.sqrt(z4/z3)), sympy.simplify((z1**2 + z3)/(13*z5 - 2*z2))]))\n",
        "\n",
        "z1 = 5*3**sympy.S.Half+ 5*I\n",
        "z2 = -3 + 3*I\n",
        "z3 = -1 + I \n",
        "z4 = I\n",
        "z5 = sympy.S(12)/13 + sympy.S(5)*I/13\n",
        "func(z1,z2,z3,z4,z5)"
      ],
      "execution_count": null,
      "outputs": [
        {
          "output_type": "display_data",
          "data": {
            "text/latex": "$\\displaystyle - 15 \\sqrt{3} - 15 + i \\left(-15 + 15 \\sqrt{3}\\right)$",
            "text/plain": [
              "-15*sqrt(3) - 15 + I*(-15 + 15*sqrt(3))"
            ]
          },
          "metadata": {
            "tags": []
          }
        },
        {
          "output_type": "display_data",
          "data": {
            "text/latex": "$\\displaystyle 512 i$",
            "text/plain": [
              "512*I"
            ]
          },
          "metadata": {
            "tags": []
          }
        },
        {
          "output_type": "display_data",
          "data": {
            "text/latex": "$\\displaystyle \\frac{2^{\\frac{3}{4}} \\sqrt{\\frac{\\sqrt{2}}{4} + \\frac{1}{2}}}{2} - \\frac{2^{\\frac{3}{4}} i \\sqrt{\\frac{1}{2} - \\frac{\\sqrt{2}}{4}}}{2}$",
            "text/plain": [
              "2**(3/4)*sqrt(sqrt(2)/4 + 1/2)/2 - 2**(3/4)*I*sqrt(1/2 - sqrt(2)/4)/2"
            ]
          },
          "metadata": {
            "tags": []
          }
        },
        {
          "output_type": "display_data",
          "data": {
            "text/latex": "$\\displaystyle - \\frac{2 \\sqrt{3}}{13} + \\frac{881}{325} + i \\left(\\frac{67}{325} + \\frac{36 \\sqrt{3}}{13}\\right)$",
            "text/plain": [
              "-2*sqrt(3)/13 + 881/325 + I*(67/325 + 36*sqrt(3)/13)"
            ]
          },
          "metadata": {
            "tags": []
          }
        }
      ]
    },
    {
      "cell_type": "markdown",
      "metadata": {
        "id": "Msk1wSQ0j4CR"
      },
      "source": [
        "### Задание  2.\n",
        "Вычисления Примера 1 проделать для мнимой единицы из python (использовать встроенную функцию complex)."
      ]
    },
    {
      "cell_type": "code",
      "metadata": {
        "id": "tELt7WMoj4CS",
        "colab": {
          "base_uri": "https://localhost:8080/",
          "height": 85
        },
        "outputId": "7036c932-acee-4b5f-a429-ddd325d343a1"
      },
      "source": [
        "z1 = complex(5*3**0.5, 5)\n",
        "z2 = complex(-3, 3)\n",
        "z3 = complex(-1, 1)\n",
        "z4 = complex(0, 1)\n",
        "z5 = complex(12/13, 5/13)\n",
        "\n",
        "display(*(z1*z2, (z2 - 5*z3)**6, (z4/z3)**0.5,  (z1**2 + z3)/(13*z5 - 2*z2)))"
      ],
      "execution_count": null,
      "outputs": [
        {
          "output_type": "display_data",
          "data": {
            "text/plain": [
              "(-40.98076211353316+10.980762113533157j)"
            ]
          },
          "metadata": {
            "tags": []
          }
        },
        {
          "output_type": "display_data",
          "data": {
            "text/plain": [
              "(-0+512j)"
            ]
          },
          "metadata": {
            "tags": []
          }
        },
        {
          "output_type": "display_data",
          "data": {
            "text/plain": [
              "(0.7768869870150187-0.32179712645279135j)"
            ]
          },
          "metadata": {
            "tags": []
          }
        },
        {
          "output_type": "display_data",
          "data": {
            "text/plain": [
              "(2.4442998757586336+5.002602236344583j)"
            ]
          },
          "metadata": {
            "tags": []
          }
        }
      ]
    },
    {
      "cell_type": "markdown",
      "metadata": {
        "id": "oPv_4BZ1j4CS"
      },
      "source": [
        "### Задание  3.\n",
        "Изобразить на координатной плоскости точки, соответствующие корням  $7$-й степени комплексного числа $z = \\frac{3}{5} + i\\frac{3}{5}$. Подписать точки $Ak$, где $k$  - номер корня."
      ]
    },
    {
      "cell_type": "code",
      "metadata": {
        "id": "n0k69tMDj4CS"
      },
      "source": [
        "n = 7\n",
        "roots_list3 = [sympy.root(sympy.S(3)/5 + I*sympy.S(3)/5, n, k) for k in range(n)]"
      ],
      "execution_count": null,
      "outputs": []
    },
    {
      "cell_type": "code",
      "metadata": {
        "colab": {
          "base_uri": "https://localhost:8080/",
          "height": 300
        },
        "id": "7f8jYLDeFrTj",
        "outputId": "d1535c65-06ae-45ba-e9c8-d6e39dc81a51"
      },
      "source": [
        "roots_x = [sympy.re(item) for item in roots_list3]\n",
        "roots_y = [sympy.im(item) for item in roots_list3]\n",
        "plt.scatter(roots_x, roots_y)\n",
        "for k,x_coord in enumerate(roots_x):\n",
        "    plt.annotate('$A_'+str(k)+'$',\n",
        "                 xy=(x_coord,roots_y[k]),\n",
        "                 xytext=(x_coord+0.05,roots_y[k]-0.05))\n",
        "    \n",
        "plt.axis('equal')\n",
        "plt.xlabel(\"Re\")\n",
        "plt.ylabel(\"Im\")\n",
        "plt.xlim(-2.5, 4.5)\n",
        "plt.ylim(-1.5, 1.5)"
      ],
      "execution_count": null,
      "outputs": [
        {
          "output_type": "execute_result",
          "data": {
            "text/plain": [
              "(-1.5, 1.5)"
            ]
          },
          "metadata": {
            "tags": []
          },
          "execution_count": 29
        },
        {
          "output_type": "display_data",
          "data": {
            "image/png": "[encoded data removed]",
            "text/plain": [
              "<Figure size 432x288 with 1 Axes>"
            ]
          },
          "metadata": {
            "tags": [],
            "needs_background": "light"
          }
        }
      ]
    },
    {
      "cell_type": "markdown",
      "metadata": {
        "id": "Y71ykccRj4CS"
      },
      "source": [
        "### Задание  4.\n",
        "Изобразить на координатной плоскости точки, соответствующие $z_4 = - \\frac{3}{5} + \\frac{4}{5}i$ и $\\bar{z_4}$, подписать $z_4$ тригонометрической формой, $\\bar{z_4}$ - экспоненциальной ($z = r e^{i\\varphi}$, $r$ и $\\varphi$ такие же, как в тригонометрической форме)."
      ]
    },
    {
      "cell_type": "code",
      "metadata": {
        "id": "Qj84xH-xj4CT",
        "colab": {
          "base_uri": "https://localhost:8080/",
          "height": 352
        },
        "outputId": "ec5a5754-6a50-44e9-f08d-00e0c3cc30e5"
      },
      "source": [
        "def get_polar(compl):\n",
        "  r = sympy.functions.Abs(compl)\n",
        "  phi = sympy.functions.arg(compl)\n",
        "  return [sympy.simplify(r), sympy.simplify(phi)]\n",
        "\n",
        "def get_trig(compl):\n",
        "  r, phi = get_polar(compl)\n",
        "  with sympy.evaluate(False):\n",
        "    return r * (sympy.cos(phi) + I * sympy.sin(phi))\n",
        "\n",
        "def get_exp(compl):\n",
        "  r, phi = get_polar(compl)\n",
        "  with sympy.evaluate(False):\n",
        "    return r * sympy.exp(I * phi)\n",
        "\n",
        "\n",
        "z4 = -sympy.S(3)/5 + I*sympy.S(4)/5 \n",
        "z4conj = sympy.conjugate(z4)\n",
        "\n",
        "r0 = sympy.functions.Abs(z4)\n",
        "phi0 = sympy.functions.arg(z4)\n",
        "r, phi = sympy.symbols('r phi')\n",
        "display(r0*(sympy.cos(phi0) + sympy.sin(phi0)*I))\n",
        "print('r =', r0, ' phi =', phi0)\n",
        "rootsx=[sympy.re(item) for item in [z4, z4conj]]\n",
        "rootsy=[sympy.im(item) for item in [z4, z4conj]]\n",
        "plt.scatter(rootsx,rootsy)\n",
        "\n",
        "z4_trig = \"{0}(cos({1}) + isin({1}))\".format(r0, phi0)\n",
        "\n",
        "plt.annotate('$z_4'+' = '+z4_trig+'$',\n",
        "                 xy=(rootsx[0],rootsy[0]),\n",
        "                 xytext=(rootsx[0]+0.05,rootsy[0]-0.05))\n",
        "\n",
        "plt.annotate('$z_4'+\"'\"+' = '+sympy.latex(r0*sympy.exp(I*phi0))+'$',\n",
        "                 xy=(rootsx[1],rootsy[1]),\n",
        "                 xytext=(rootsx[1]+0.05,rootsy[1]-0.05))\n",
        "\n",
        "plt.axis('equal')\n",
        "plt.xlabel(\"Re\")\n",
        "plt.ylabel(\"Im\")\n",
        "plt.xlim(-2.5,2.5)\n",
        "plt.ylim(-1.5,1.5)"
      ],
      "execution_count": null,
      "outputs": [
        {
          "output_type": "display_data",
          "data": {
            "text/latex": "$\\displaystyle - \\frac{3}{5} + \\frac{4 i}{5}$",
            "text/plain": [
              "-3/5 + 4*I/5"
            ]
          },
          "metadata": {
            "tags": []
          }
        },
        {
          "output_type": "stream",
          "text": [
            "r = 1  phi = pi - atan(4/3)\n"
          ],
          "name": "stdout"
        },
        {
          "output_type": "execute_result",
          "data": {
            "text/plain": [
              "(-1.5, 1.5)"
            ]
          },
          "metadata": {
            "tags": []
          },
          "execution_count": 36
        },
        {
          "output_type": "display_data",
          "data": {
            "image/png": "[encoded data removed]",
            "text/plain": [
              "<Figure size 432x288 with 1 Axes>"
            ]
          },
          "metadata": {
            "tags": [],
            "needs_background": "light"
          }
        }
      ]
    },
    {
      "cell_type": "markdown",
      "metadata": {
        "id": "Lxg5WV5Lj4CT"
      },
      "source": [
        "#### Задание  5.\n",
        "Изобразить корни 4 степени числа $5e^{\\frac{i\\pi}{8}}$, в полярной системе координат, подписи к точкам - аргументы (углы) сответствующих комплексных чисел. \n",
        "\n",
        "Число вводить в тригонометрической форме, для получения корней комплексного числа $z = r(\\cos(\\varphi) + \\sin(\\varphi))$ использовать формулу \n",
        "$\\sqrt[n]{z} = \\sqrt[n]{r}(\\cos(\\varphi_k) + i \\sin(\\varphi_k))$, \n",
        "$\\varphi_k = \\frac{\\varphi + 2\\pi k}{n}$, $k = 0, ..., n$. \n",
        "\n",
        "Вывести алгебраическую форму полученных корней на экран и сравнить с результатом, полученным с помощью sympy.root (с использованием sympy.expand_complex для упрощения выражения). Аналитическое представление оказывается разным.\n",
        "\n",
        "Для каждого корня найти разность в формате float модуля разности корней, полученных двумя способами (т.е. нужно для каждой пары одинаковых корней, полученных двумя способами находить разность корней, вычислять модуль sympy.Abs этой разности и преобразовывать результат в формат float)."
      ]
    },
    {
      "cell_type": "code",
      "metadata": {
        "id": "qQ_cFFgJj4CU",
        "colab": {
          "base_uri": "https://localhost:8080/",
          "height": 286
        },
        "outputId": "6ba4a871-49c8-4229-91a7-d1a1ba3a0c28"
      },
      "source": [
        "n = 4\n",
        "r = 5\n",
        "phi = sympy.S(sympy.pi)/8\n",
        "arg_list = [(phi + 2*sympy.pi*k)/n for k in range(n)]\n",
        "r_list = [r**(1/n)]*n\n",
        "plt.polar(arg_list, r_list, 'go')\n",
        "for k, phi_k in enumerate(arg_list):\n",
        "    plt.annotate('$A_'+str(k)+'='+sympy.latex(phi_k)+'$',\n",
        "    xy=(phi_k, r_list[k]),\n",
        "    xytext=(phi_k + 0.15, r_list[k]))\n",
        "  "
      ],
      "execution_count": null,
      "outputs": [
        {
          "output_type": "display_data",
          "data": {
            "image/png": "[encoded data removed]",
            "text/plain": [
              "<Figure size 432x288 with 1 Axes>"
            ]
          },
          "metadata": {
            "tags": [],
            "needs_background": "light"
          }
        }
      ]
    },
    {
      "cell_type": "markdown",
      "metadata": {
        "id": "1pY5Sgw6j4CU"
      },
      "source": [
        "### Индивидуальное задание.\n",
        "Решить уравнение.\n",
        "Для получения корней использовать sympy.roots.\n",
        "Корни уравнения вывести на экран в алгебраической, тригонометрической и экспоненциальной форме.\n",
        "\n",
        "Вариант N 140\n",
        "\n",
        "$(2 - 5 i)x^2 + (48 - 4 i)x + -74 + 243 i = 0$\n",
        "\n"
      ]
    },
    {
      "cell_type": "code",
      "metadata": {
        "id": "gyFaI9X2j4CU",
        "colab": {
          "base_uri": "https://localhost:8080/",
          "height": 615
        },
        "outputId": "3657aff2-39c9-4b60-fb26-d77199bc4733"
      },
      "source": [
        "x = sympy.Symbol('x')\n",
        "equation = sympy.Eq((2 - 5 * I) * x**2 + (48 - 4 * I) * x - 74 + 243 * I, 0)\n",
        "\n",
        "print()\n",
        "for solution in sympy.roots(equation):\n",
        "  print('\\n', 'Алгебраическая форма', '\\n')\n",
        "  display(sympy.expand_complex(solution))\n",
        "  print('\\n', 'Тригонометрическая форма', '\\n')\n",
        "  display(get_trig(solution))\n",
        "  print('\\n', 'Экспоненциальная форма', '\\n')\n",
        "  display(get_exp(solution))\n",
        "  print('\\n')"
      ],
      "execution_count": null,
      "outputs": [
        {
          "output_type": "stream",
          "text": [
            "\n",
            "\n",
            " Алгебраическая форма \n",
            "\n"
          ],
          "name": "stdout"
        },
        {
          "output_type": "display_data",
          "data": {
            "text/latex": "$\\displaystyle 4 - 3 i$",
            "text/plain": [
              "4 - 3*I"
            ]
          },
          "metadata": {
            "tags": []
          }
        },
        {
          "output_type": "stream",
          "text": [
            "\n",
            " Тригонометрическая форма \n",
            "\n"
          ],
          "name": "stdout"
        },
        {
          "output_type": "display_data",
          "data": {
            "text/latex": "$\\displaystyle 5 \\left(\\cos{\\left(- \\operatorname{atan}{\\left(\\frac{3}{4} \\right)} \\right)} + i \\sin{\\left(- \\operatorname{atan}{\\left(\\frac{3}{4} \\right)} \\right)}\\right)$",
            "text/plain": [
              "5*(cos(-atan(3/4)) + I*sin(-atan(3/4)))"
            ]
          },
          "metadata": {
            "tags": []
          }
        },
        {
          "output_type": "stream",
          "text": [
            "\n",
            " Экспоненциальная форма \n",
            "\n"
          ],
          "name": "stdout"
        },
        {
          "output_type": "display_data",
          "data": {
            "text/latex": "$\\displaystyle 5 e^{i \\left(- \\operatorname{atan}{\\left(\\frac{3}{4} \\right)}\\right)}$",
            "text/plain": [
              "5*exp(I*(-atan(3/4)))"
            ]
          },
          "metadata": {
            "tags": []
          }
        },
        {
          "output_type": "stream",
          "text": [
            "\n",
            "\n",
            "\n",
            "\n",
            " Алгебраическая форма \n",
            "\n"
          ],
          "name": "stdout"
        },
        {
          "output_type": "display_data",
          "data": {
            "text/latex": "$\\displaystyle -8 - 5 i$",
            "text/plain": [
              "-8 - 5*I"
            ]
          },
          "metadata": {
            "tags": []
          }
        },
        {
          "output_type": "stream",
          "text": [
            "\n",
            " Тригонометрическая форма \n",
            "\n"
          ],
          "name": "stdout"
        },
        {
          "output_type": "display_data",
          "data": {
            "text/latex": "$\\displaystyle \\sqrt{89} \\left(\\cos{\\left(- \\pi + \\operatorname{atan}{\\left(\\frac{5}{8} \\right)} \\right)} + i \\sin{\\left(- \\pi + \\operatorname{atan}{\\left(\\frac{5}{8} \\right)} \\right)}\\right)$",
            "text/plain": [
              "sqrt(89)*(cos(-pi + atan(5/8)) + I*sin(-pi + atan(5/8)))"
            ]
          },
          "metadata": {
            "tags": []
          }
        },
        {
          "output_type": "stream",
          "text": [
            "\n",
            " Экспоненциальная форма \n",
            "\n"
          ],
          "name": "stdout"
        },
        {
          "output_type": "display_data",
          "data": {
            "text/latex": "$\\displaystyle \\sqrt{89} e^{i \\left(- \\pi + \\operatorname{atan}{\\left(\\frac{5}{8} \\right)}\\right)}$",
            "text/plain": [
              "sqrt(89)*exp(I*(-pi + atan(5/8)))"
            ]
          },
          "metadata": {
            "tags": []
          }
        },
        {
          "output_type": "stream",
          "text": [
            "\n",
            "\n",
            "\n"
          ],
          "name": "stdout"
        }
      ]
    }
  ]
}