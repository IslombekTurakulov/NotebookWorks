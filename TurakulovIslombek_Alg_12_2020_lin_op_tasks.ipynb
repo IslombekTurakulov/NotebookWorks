{
  "nbformat": 4,
  "nbformat_minor": 0,
  "metadata": {
    "kernelspec": {
      "display_name": "Python 3",
      "language": "python",
      "name": "python3"
    },
    "language_info": {
      "codemirror_mode": {
        "name": "ipython",
        "version": 3
      },
      "file_extension": ".py",
      "mimetype": "text/x-python",
      "name": "python",
      "nbconvert_exporter": "python",
      "pygments_lexer": "ipython3",
      "version": "3.7.3"
    },
    "colab": {
      "name": "TurakulovIslombek_Alg_12_2020_lin_op_tasks.ipynb",
      "provenance": [],
      "collapsed_sections": [],
      "include_colab_link": true
    }
  },
  "cells": [
    {
      "cell_type": "markdown",
      "metadata": {
        "id": "view-in-github",
        "colab_type": "text"
      },
      "source": [
        "<a href=\"https://colab.research.google.com/github/IslombekTurakulov/NotebookWorks/blob/main/TurakulovIslombek_Alg_12_2020_lin_op_tasks.ipynb\" target=\"_parent\"><img src=\"https://colab.research.google.com/assets/colab-badge.svg\" alt=\"Open In Colab\"/></a>"
      ]
    },
    {
      "cell_type": "code",
      "metadata": {
        "id": "0ocradWE893o"
      },
      "source": [
        "import sympy\n",
        "import numpy as np\n",
        "from sympy import Expr, Eq, latex, plot_implicit, Matrix, plot, solve, linsolve, nonlinsolve, symbols\n",
        "from sympy import pi as Pi\n",
        "from sympy import cos as Cos\n",
        "from sympy import sin as Sin\n",
        "import matplotlib.pyplot as plt"
      ],
      "execution_count": 1,
      "outputs": []
    },
    {
      "cell_type": "markdown",
      "metadata": {
        "id": "z2dpIMCl893v"
      },
      "source": [
        "# Занятие 12\n",
        "# Алгебра\n",
        "### Задание 1.\n",
        "Написать функцию, составляющую матрицу линейного оператора поворота на alpha градусов или радиан По или Против часовой стрелки на плоскости. Параметры: обязательные - угол поворота, необязательные - тип меры угла (градусы или радианы), направление поворота (По или Против часовой стрелки). Значения по умолчанию - против часовой стрелки в радианах.\n",
        "\n",
        "Использовать полученную функцию для выведения на экран координат векторов, полученных поворотом на 10, 20, 45 градусов По или часовой стрелке и на $\\pi/3$ радиан против."
      ]
    },
    {
      "cell_type": "code",
      "metadata": {
        "colab": {
          "base_uri": "https://localhost:8080/",
          "height": 451
        },
        "id": "pB-d0u1H893v",
        "outputId": "6402719c-5932-4b5a-bdbd-5cdd43ef08a8"
      },
      "source": [
        "def LO(alpha, typeAlpha = 'radian', directions = 'cClockwise'):\n",
        "    if typeAlpha == 'degree':\n",
        "        alpha = Pi*alpha/180\n",
        "    if directions == 'clockWise':\n",
        "        aplha = -alpha\n",
        "    return Matrix([[Cos(alpha),-Sin(alpha)],[Sin(alpha),Cos(alpha)]])\n",
        "\n",
        "e1 = Matrix([1, 0])\n",
        "e2 = Matrix([0, 1])\n",
        "angles = [[10, 'degree', 'clockWise'],[20, 'degree', 'clockWise'],[45, 'degree', 'clockWise'],[Pi/3, 'radian', 'cClockwise']]\n",
        "for angle in angles:\n",
        "    A = LO(angle[0],angle[1],angle[2])\n",
        "    display(angle[0],A*e1, A*e2)"
      ],
      "execution_count": null,
      "outputs": [
        {
          "output_type": "display_data",
          "data": {
            "text/plain": [
              "10"
            ]
          },
          "metadata": {
            "tags": []
          }
        },
        {
          "output_type": "display_data",
          "data": {
            "text/latex": "$\\displaystyle \\left[\\begin{matrix}\\cos{\\left(\\frac{\\pi}{18} \\right)}\\\\\\sin{\\left(\\frac{\\pi}{18} \\right)}\\end{matrix}\\right]$",
            "text/plain": [
              "Matrix([\n",
              "[cos(pi/18)],\n",
              "[sin(pi/18)]])"
            ]
          },
          "metadata": {
            "tags": []
          }
        },
        {
          "output_type": "display_data",
          "data": {
            "text/latex": "$\\displaystyle \\left[\\begin{matrix}- \\sin{\\left(\\frac{\\pi}{18} \\right)}\\\\\\cos{\\left(\\frac{\\pi}{18} \\right)}\\end{matrix}\\right]$",
            "text/plain": [
              "Matrix([\n",
              "[-sin(pi/18)],\n",
              "[ cos(pi/18)]])"
            ]
          },
          "metadata": {
            "tags": []
          }
        },
        {
          "output_type": "display_data",
          "data": {
            "text/plain": [
              "20"
            ]
          },
          "metadata": {
            "tags": []
          }
        },
        {
          "output_type": "display_data",
          "data": {
            "text/latex": "$\\displaystyle \\left[\\begin{matrix}\\cos{\\left(\\frac{\\pi}{9} \\right)}\\\\\\sin{\\left(\\frac{\\pi}{9} \\right)}\\end{matrix}\\right]$",
            "text/plain": [
              "Matrix([\n",
              "[cos(pi/9)],\n",
              "[sin(pi/9)]])"
            ]
          },
          "metadata": {
            "tags": []
          }
        },
        {
          "output_type": "display_data",
          "data": {
            "text/latex": "$\\displaystyle \\left[\\begin{matrix}- \\sin{\\left(\\frac{\\pi}{9} \\right)}\\\\\\cos{\\left(\\frac{\\pi}{9} \\right)}\\end{matrix}\\right]$",
            "text/plain": [
              "Matrix([\n",
              "[-sin(pi/9)],\n",
              "[ cos(pi/9)]])"
            ]
          },
          "metadata": {
            "tags": []
          }
        },
        {
          "output_type": "display_data",
          "data": {
            "text/plain": [
              "45"
            ]
          },
          "metadata": {
            "tags": []
          }
        },
        {
          "output_type": "display_data",
          "data": {
            "text/latex": "$\\displaystyle \\left[\\begin{matrix}\\frac{\\sqrt{2}}{2}\\\\\\frac{\\sqrt{2}}{2}\\end{matrix}\\right]$",
            "text/plain": [
              "Matrix([\n",
              "[sqrt(2)/2],\n",
              "[sqrt(2)/2]])"
            ]
          },
          "metadata": {
            "tags": []
          }
        },
        {
          "output_type": "display_data",
          "data": {
            "text/latex": "$\\displaystyle \\left[\\begin{matrix}- \\frac{\\sqrt{2}}{2}\\\\\\frac{\\sqrt{2}}{2}\\end{matrix}\\right]$",
            "text/plain": [
              "Matrix([\n",
              "[-sqrt(2)/2],\n",
              "[ sqrt(2)/2]])"
            ]
          },
          "metadata": {
            "tags": []
          }
        },
        {
          "output_type": "display_data",
          "data": {
            "text/latex": "$\\displaystyle \\frac{\\pi}{3}$",
            "text/plain": [
              "pi/3"
            ]
          },
          "metadata": {
            "tags": []
          }
        },
        {
          "output_type": "display_data",
          "data": {
            "text/latex": "$\\displaystyle \\left[\\begin{matrix}\\frac{1}{2}\\\\\\frac{\\sqrt{3}}{2}\\end{matrix}\\right]$",
            "text/plain": [
              "Matrix([\n",
              "[      1/2],\n",
              "[sqrt(3)/2]])"
            ]
          },
          "metadata": {
            "tags": []
          }
        },
        {
          "output_type": "display_data",
          "data": {
            "text/latex": "$\\displaystyle \\left[\\begin{matrix}- \\frac{\\sqrt{3}}{2}\\\\\\frac{1}{2}\\end{matrix}\\right]$",
            "text/plain": [
              "Matrix([\n",
              "[-sqrt(3)/2],\n",
              "[       1/2]])"
            ]
          },
          "metadata": {
            "tags": []
          }
        }
      ]
    },
    {
      "cell_type": "markdown",
      "metadata": {
        "id": "BvSqT_fq893w"
      },
      "source": [
        "### Задание 2.\n",
        "Найти собственные числа и собственные векторы линейного оператора, заданного матрицей \n",
        "$$\n",
        "\\left(\\begin{matrix}\n",
        "-34&20&-5\\\\\n",
        "-40&56&-20\\\\\n",
        "20&-8&50\n",
        "\\end{matrix}\\right)\n",
        "$$\n",
        "Воспользоваться eigenvals и eigenvects, проверить выполнение равенства нулю характеристического многочлена $|A-\\lambda E|$ и условия $Ax=\\lambda x$.\n"
      ]
    },
    {
      "cell_type": "code",
      "metadata": {
        "colab": {
          "base_uri": "https://localhost:8080/",
          "height": 358
        },
        "id": "Hcywi0RO893w",
        "outputId": "8a399563-98f4-40f6-ce9e-4b787ef38d33"
      },
      "source": [
        "A = Matrix ([[-34, 20, -5], [-40, 56, -20], [20, -8, 50]])\n",
        "res = A.eigenvects()\n",
        "\n",
        "for item in res:\n",
        "    print(item[0], item[1])\n",
        "    display(*item[2])\n",
        "    display((A - item[0]*sympy.eye(3)).det())\n",
        "    display(A*item[2][0] == item[0]*item[2][0])"
      ],
      "execution_count": null,
      "outputs": [
        {
          "output_type": "stream",
          "text": [
            "-24 1\n"
          ],
          "name": "stdout"
        },
        {
          "output_type": "display_data",
          "data": {
            "text/latex": "$\\displaystyle \\left[\\begin{matrix}- \\frac{9}{2}\\\\-2\\\\1\\end{matrix}\\right]$",
            "text/plain": [
              "Matrix([\n",
              "[-9/2],\n",
              "[  -2],\n",
              "[   1]])"
            ]
          },
          "metadata": {
            "tags": []
          }
        },
        {
          "output_type": "display_data",
          "data": {
            "text/latex": "$\\displaystyle 0$",
            "text/plain": [
              "0"
            ]
          },
          "metadata": {
            "tags": []
          }
        },
        {
          "output_type": "display_data",
          "data": {
            "text/plain": [
              "True"
            ]
          },
          "metadata": {
            "tags": []
          }
        },
        {
          "output_type": "stream",
          "text": [
            "40 1\n"
          ],
          "name": "stdout"
        },
        {
          "output_type": "display_data",
          "data": {
            "text/latex": "$\\displaystyle \\left[\\begin{matrix}\\frac{5}{6}\\\\\\frac{10}{3}\\\\1\\end{matrix}\\right]$",
            "text/plain": [
              "Matrix([\n",
              "[ 5/6],\n",
              "[10/3],\n",
              "[   1]])"
            ]
          },
          "metadata": {
            "tags": []
          }
        },
        {
          "output_type": "display_data",
          "data": {
            "text/latex": "$\\displaystyle 0$",
            "text/plain": [
              "0"
            ]
          },
          "metadata": {
            "tags": []
          }
        },
        {
          "output_type": "display_data",
          "data": {
            "text/plain": [
              "True"
            ]
          },
          "metadata": {
            "tags": []
          }
        },
        {
          "output_type": "stream",
          "text": [
            "56 1\n"
          ],
          "name": "stdout"
        },
        {
          "output_type": "display_data",
          "data": {
            "text/latex": "$\\displaystyle \\left[\\begin{matrix}- \\frac{1}{2}\\\\-2\\\\1\\end{matrix}\\right]$",
            "text/plain": [
              "Matrix([\n",
              "[-1/2],\n",
              "[  -2],\n",
              "[   1]])"
            ]
          },
          "metadata": {
            "tags": []
          }
        },
        {
          "output_type": "display_data",
          "data": {
            "text/latex": "$\\displaystyle 0$",
            "text/plain": [
              "0"
            ]
          },
          "metadata": {
            "tags": []
          }
        },
        {
          "output_type": "display_data",
          "data": {
            "text/plain": [
              "True"
            ]
          },
          "metadata": {
            "tags": []
          }
        }
      ]
    },
    {
      "cell_type": "markdown",
      "metadata": {
        "id": "3gi4crdX893w"
      },
      "source": [
        "### Задание 3.\n",
        "Построить матрицу оператора из задания 2 в базисе из векторов $(1,1,1)$, $(0,5,3)$ и $(1,6,0)$.\n"
      ]
    },
    {
      "cell_type": "code",
      "metadata": {
        "colab": {
          "base_uri": "https://localhost:8080/",
          "height": 140
        },
        "id": "Dtw61GSl893x",
        "outputId": "8f393efe-9531-4a5c-db61-09cfbb382169"
      },
      "source": [
        "P = Matrix([[1, 0, 1], [1, 5, 6], [1, 3, 0]])\n",
        "A_new = P**(-1)*A*P\n",
        "display(P, A_new)"
      ],
      "execution_count": null,
      "outputs": [
        {
          "output_type": "display_data",
          "data": {
            "text/latex": "$\\displaystyle \\left[\\begin{matrix}1 & 0 & 1\\\\1 & 5 & 6\\\\1 & 3 & 0\\end{matrix}\\right]$",
            "text/plain": [
              "Matrix([\n",
              "[1, 0, 1],\n",
              "[1, 5, 6],\n",
              "[1, 3, 0]])"
            ]
          },
          "metadata": {
            "tags": []
          }
        },
        {
          "output_type": "display_data",
          "data": {
            "text/latex": "$\\displaystyle \\left[\\begin{matrix}-1 & 71 & 26\\\\21 & 13 & -18\\\\-18 & 14 & 60\\end{matrix}\\right]$",
            "text/plain": [
              "Matrix([\n",
              "[ -1, 71,  26],\n",
              "[ 21, 13, -18],\n",
              "[-18, 14,  60]])"
            ]
          },
          "metadata": {
            "tags": []
          }
        }
      ]
    },
    {
      "cell_type": "markdown",
      "metadata": {
        "id": "3ou3J5B7893x"
      },
      "source": [
        "### Задание 4.\n",
        "Построить матрицу оператора из задания 2 в базисе из собственных векторов с помощью eigenvects и матрицы перехода. Сравнить диагональные элементы с собственными числами."
      ]
    },
    {
      "cell_type": "code",
      "metadata": {
        "colab": {
          "base_uri": "https://localhost:8080/",
          "height": 253
        },
        "id": "0mBFfKz-893x",
        "outputId": "97256d75-56c3-449f-a155-95a5f4055493"
      },
      "source": [
        "P = res[0][2][0].row_join(res[1][2][0]).row_join(res[2][2][0])\n",
        "display(P)\n",
        "A_new = P**(-1)*A*P\n",
        "print('\\n')\n",
        "display(A_new)\n",
        "m, n = A_new.shape\n",
        "print('\\n')\n",
        "for i in range(m):\n",
        "    print(res[i][0], A_new[i, i], res[i][0] - A_new[i, i])"
      ],
      "execution_count": null,
      "outputs": [
        {
          "output_type": "display_data",
          "data": {
            "text/latex": "$\\displaystyle \\left[\\begin{matrix}- \\frac{9}{2} & \\frac{5}{6} & - \\frac{1}{2}\\\\-2 & \\frac{10}{3} & -2\\\\1 & 1 & 1\\end{matrix}\\right]$",
            "text/plain": [
              "Matrix([\n",
              "[-9/2,  5/6, -1/2],\n",
              "[  -2, 10/3,   -2],\n",
              "[   1,    1,    1]])"
            ]
          },
          "metadata": {
            "tags": []
          }
        },
        {
          "output_type": "stream",
          "text": [
            "\n",
            "\n"
          ],
          "name": "stdout"
        },
        {
          "output_type": "display_data",
          "data": {
            "text/latex": "$\\displaystyle \\left[\\begin{matrix}-24 & 0 & 0\\\\0 & 40 & 0\\\\0 & 0 & 56\\end{matrix}\\right]$",
            "text/plain": [
              "Matrix([\n",
              "[-24,  0,  0],\n",
              "[  0, 40,  0],\n",
              "[  0,  0, 56]])"
            ]
          },
          "metadata": {
            "tags": []
          }
        },
        {
          "output_type": "stream",
          "text": [
            "\n",
            "\n",
            "-24 -24 0\n",
            "40 40 0\n",
            "56 56 0\n"
          ],
          "name": "stdout"
        }
      ]
    },
    {
      "cell_type": "markdown",
      "metadata": {
        "id": "rVSdQeaU893x"
      },
      "source": [
        "###  Индивидуальное задание\n",
        "Найти собственные числа и собственные векторы линейного оператора. Построить матрицу оператора в заданном базисе. Построить матрицу оператора в базисе из собственных векторов.\n",
        "\n",
        "Вывести на экран матрицу оператора А, матрицу перехода к базису ($e_1$, $e_2$, $e_3$), матрицу оператора в базисе ($e_1$, $e_2$, $e_3$), матрицу перехода к базису из собственных векторов, матрицу оператора в базисе из собственных векторов.\n",
        "\n",
        "Вариант N 139\n",
        "\n",
        "$$A = \\left[\\begin{matrix}57 & 30 & 0\\\\38 & 64 & -22\\\\54 & 51 & 11\\end{matrix}\\right],\\quad e_1 = \\left[\\begin{matrix}-2\\\\-2\\\\-3\\end{matrix}\\right],\\quad e_2 = \\left[\\begin{matrix}-1\\\\-3\\\\-3\\end{matrix}\\right],\\quad e_3 = \\left[\\begin{matrix}2\\\\3\\\\1\\end{matrix}\\right]$$"
      ]
    },
    {
      "cell_type": "code",
      "metadata": {
        "id": "k_iar1xM893y",
        "colab": {
          "base_uri": "https://localhost:8080/",
          "height": 313
        },
        "outputId": "a8f79d85-0d09-485a-de6f-3c3e2ff178f8"
      },
      "source": [
        "A = Matrix ([[57, 30, 0], [38, 64, -22], [54, 51, 11]])\n",
        "res = A.eigenvects()\n",
        "for item in res:\n",
        "    print(item[0], item[1])\n",
        "    display(*item[2])\n",
        "    display((A - item[0]*sympy.eye(3)).det())"
      ],
      "execution_count": 2,
      "outputs": [
        {
          "output_type": "stream",
          "text": [
            "22 1\n"
          ],
          "name": "stdout"
        },
        {
          "output_type": "display_data",
          "data": {
            "text/latex": "$\\displaystyle \\left[\\begin{matrix}-2\\\\\\frac{7}{3}\\\\1\\end{matrix}\\right]$",
            "text/plain": [
              "Matrix([\n",
              "[ -2],\n",
              "[7/3],\n",
              "[  1]])"
            ]
          },
          "metadata": {
            "tags": []
          }
        },
        {
          "output_type": "display_data",
          "data": {
            "text/latex": "$\\displaystyle 0$",
            "text/plain": [
              "0"
            ]
          },
          "metadata": {
            "tags": []
          }
        },
        {
          "output_type": "stream",
          "text": [
            "33 1\n"
          ],
          "name": "stdout"
        },
        {
          "output_type": "display_data",
          "data": {
            "text/latex": "$\\displaystyle \\left[\\begin{matrix}\\frac{5}{3}\\\\- \\frac{4}{3}\\\\1\\end{matrix}\\right]$",
            "text/plain": [
              "Matrix([\n",
              "[ 5/3],\n",
              "[-4/3],\n",
              "[   1]])"
            ]
          },
          "metadata": {
            "tags": []
          }
        },
        {
          "output_type": "display_data",
          "data": {
            "text/latex": "$\\displaystyle 0$",
            "text/plain": [
              "0"
            ]
          },
          "metadata": {
            "tags": []
          }
        },
        {
          "output_type": "stream",
          "text": [
            "77 1\n"
          ],
          "name": "stdout"
        },
        {
          "output_type": "display_data",
          "data": {
            "text/latex": "$\\displaystyle \\left[\\begin{matrix}\\frac{3}{4}\\\\\\frac{1}{2}\\\\1\\end{matrix}\\right]$",
            "text/plain": [
              "Matrix([\n",
              "[3/4],\n",
              "[1/2],\n",
              "[  1]])"
            ]
          },
          "metadata": {
            "tags": []
          }
        },
        {
          "output_type": "display_data",
          "data": {
            "text/latex": "$\\displaystyle 0$",
            "text/plain": [
              "0"
            ]
          },
          "metadata": {
            "tags": []
          }
        }
      ]
    },
    {
      "cell_type": "code",
      "metadata": {
        "colab": {
          "base_uri": "https://localhost:8080/",
          "height": 140
        },
        "id": "zFkKyrtRkglG",
        "outputId": "4d343994-ca5d-4461-88ca-88549b731e2b"
      },
      "source": [
        "P = Matrix([[-2, -2, -3], [-1, -3, -3], [2, 3, 1]])\n",
        "A_new = P**(-1)*A*P\n",
        "display(P, A_new)"
      ],
      "execution_count": 3,
      "outputs": [
        {
          "output_type": "display_data",
          "data": {
            "text/latex": "$\\displaystyle \\left[\\begin{matrix}-2 & -2 & -3\\\\-1 & -3 & -3\\\\2 & 3 & 1\\end{matrix}\\right]$",
            "text/plain": [
              "Matrix([\n",
              "[-2, -2, -3],\n",
              "[-1, -3, -3],\n",
              "[ 2,  3,  1]])"
            ]
          },
          "metadata": {
            "tags": []
          }
        },
        {
          "output_type": "display_data",
          "data": {
            "text/latex": "$\\displaystyle \\left[\\begin{matrix}- \\frac{835}{11} & - \\frac{1798}{11} & - \\frac{1642}{11}\\\\- \\frac{395}{11} & - \\frac{368}{11} & - \\frac{905}{11}\\\\\\frac{1348}{11} & \\frac{2192}{11} & \\frac{2655}{11}\\end{matrix}\\right]$",
            "text/plain": [
              "Matrix([\n",
              "[-835/11, -1798/11, -1642/11],\n",
              "[-395/11,  -368/11,  -905/11],\n",
              "[1348/11,  2192/11,  2655/11]])"
            ]
          },
          "metadata": {
            "tags": []
          }
        }
      ]
    },
    {
      "cell_type": "code",
      "metadata": {
        "colab": {
          "base_uri": "https://localhost:8080/",
          "height": 78
        },
        "id": "gLTZ1vRjkqIT",
        "outputId": "69ee05de-2424-4e50-c22c-329447e8f6cb"
      },
      "source": [
        "P = res[0][2][0].row_join(res[1][2][0]).row_join(res[2][2][0])\n",
        "display(P)"
      ],
      "execution_count": 4,
      "outputs": [
        {
          "output_type": "display_data",
          "data": {
            "text/latex": "$\\displaystyle \\left[\\begin{matrix}-2 & \\frac{5}{3} & \\frac{3}{4}\\\\\\frac{7}{3} & - \\frac{4}{3} & \\frac{1}{2}\\\\1 & 1 & 1\\end{matrix}\\right]$",
            "text/plain": [
              "Matrix([\n",
              "[ -2,  5/3, 3/4],\n",
              "[7/3, -4/3, 1/2],\n",
              "[  1,    1,   1]])"
            ]
          },
          "metadata": {
            "tags": []
          }
        }
      ]
    },
    {
      "cell_type": "code",
      "metadata": {
        "colab": {
          "base_uri": "https://localhost:8080/",
          "height": 130
        },
        "id": "DBniyvYJktmt",
        "outputId": "2f5d5d51-9496-4d33-eaae-8e606f9b0297"
      },
      "source": [
        "A_new = P**(-1)*A*P\n",
        "display(A_new)\n",
        "m, n = A_new.shape\n",
        "\n",
        "for i in range(m):\n",
        "    print(res[i][0], A_new[i, i], res[i][0] - A_new[i, i])"
      ],
      "execution_count": 5,
      "outputs": [
        {
          "output_type": "display_data",
          "data": {
            "text/latex": "$\\displaystyle \\left[\\begin{matrix}22 & 0 & 0\\\\0 & 33 & 0\\\\0 & 0 & 77\\end{matrix}\\right]$",
            "text/plain": [
              "Matrix([\n",
              "[22,  0,  0],\n",
              "[ 0, 33,  0],\n",
              "[ 0,  0, 77]])"
            ]
          },
          "metadata": {
            "tags": []
          }
        },
        {
          "output_type": "stream",
          "text": [
            "22 22 0\n",
            "33 33 0\n",
            "77 77 0\n"
          ],
          "name": "stdout"
        }
      ]
    }
  ]
}