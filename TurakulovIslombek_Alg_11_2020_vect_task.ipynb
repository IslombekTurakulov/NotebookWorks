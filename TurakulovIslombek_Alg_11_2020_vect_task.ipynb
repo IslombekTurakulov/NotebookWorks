{
  "nbformat": 4,
  "nbformat_minor": 0,
  "metadata": {
    "kernelspec": {
      "display_name": "Python 3",
      "language": "python",
      "name": "python3"
    },
    "language_info": {
      "codemirror_mode": {
        "name": "ipython",
        "version": 3
      },
      "file_extension": ".py",
      "mimetype": "text/x-python",
      "name": "python",
      "nbconvert_exporter": "python",
      "pygments_lexer": "ipython3",
      "version": "3.7.3"
    },
    "colab": {
      "name": "TurakulovIslombek_Alg_11_2020_vect_task.ipynb",
      "provenance": [],
      "collapsed_sections": [],
      "include_colab_link": true
    }
  },
  "cells": [
    {
      "cell_type": "markdown",
      "metadata": {
        "id": "view-in-github",
        "colab_type": "text"
      },
      "source": [
        "<a href=\"https://colab.research.google.com/github/IslombekTurakulov/NotebookWorks/blob/main/TurakulovIslombek_Alg_11_2020_vect_task.ipynb\" target=\"_parent\"><img src=\"https://colab.research.google.com/assets/colab-badge.svg\" alt=\"Open In Colab\"/></a>"
      ]
    },
    {
      "cell_type": "code",
      "metadata": {
        "id": "i5mTR9_bFUaN"
      },
      "source": [
        "import sympy\n",
        "from sympy import  Matrix, symbols, S\n",
        "from sympy import sin as Sin\n",
        "from sympy import cos as Cos\n",
        "from sympy import pi as Pi\n",
        "from sympy.vector import CoordSys3D, Vector, matrix_to_vector, AxisOrienter, express"
      ],
      "execution_count": 1,
      "outputs": []
    },
    {
      "cell_type": "markdown",
      "metadata": {
        "id": "0M6OpmvAFUaa"
      },
      "source": [
        "# Занятие 11\n",
        "# Алгебра\n",
        "## Векторы\n",
        "### Задание 1.\n",
        "Задать систему координат с именем '1'. \n",
        "Найти скалярное и векторное произведение векторов $a(-\\cos(\\pi/4), \\sin(\\pi/3), 1)$ и $b(2, -1, 3)$."
      ]
    },
    {
      "cell_type": "code",
      "metadata": {
        "id": "STIvjX8MFUab",
        "colab": {
          "base_uri": "https://localhost:8080/",
          "height": 93
        },
        "outputId": "e9101eab-6a7f-46f9-c070-f8c5c2ebbc43"
      },
      "source": [
        "N = CoordSys3D('1')\n",
        "a = -Cos(S(Pi)/4)*N.i + Sin(S(Pi)/3)*N.j + N.k\n",
        "b = 2*N.i - N.j + 3*N.k\n",
        "display(a & b, a ^ b)"
      ],
      "execution_count": null,
      "outputs": [
        {
          "output_type": "display_data",
          "data": {
            "text/latex": "$\\displaystyle - \\sqrt{2} - \\frac{\\sqrt{3}}{2} + 3$",
            "text/plain": [
              "-sqrt(2) - sqrt(3)/2 + 3"
            ]
          },
          "metadata": {
            "tags": []
          }
        },
        {
          "output_type": "display_data",
          "data": {
            "text/latex": "$\\displaystyle (1 + \\frac{3 \\sqrt{3}}{2})\\mathbf{\\hat{i}_{1}} + (2 + \\frac{3 \\sqrt{2}}{2})\\mathbf{\\hat{j}_{1}} + (- \\sqrt{3} + \\frac{\\sqrt{2}}{2})\\mathbf{\\hat{k}_{1}}$",
            "text/plain": [
              "(1 + 3*sqrt(3)/2)*1.i + (2 + 3*sqrt(2)/2)*1.j + (-sqrt(3) + sqrt(2)/2)*1.k"
            ]
          },
          "metadata": {
            "tags": []
          }
        }
      ]
    },
    {
      "cell_type": "markdown",
      "metadata": {
        "id": "UBTS1R4MFUac"
      },
      "source": [
        "### Задание 2\n",
        "Ввести безымянную систему координат M и символы $p$ и $q$.\n",
        "Вычислить $((v + u)\\cdot(v - u)) + (((2v + u)\\times(v - 3u))\\cdot(2v - 3u)) - ((3v - 2u)\\cdot((5v - u)\\times(- u)))$, $u(q, -p, q + p)$, $v(p, 2p - q, 1)$. Скалярное произведение обозначено $\\cdot$, векторное $\\times$.\n",
        "Использовать  & и ^, скобки расставить как в условии, поскольку приоритет у & и ^ ниже, чем у + и -. Упростить полученное выражение."
      ]
    },
    {
      "cell_type": "code",
      "metadata": {
        "id": "qMT0HE_8FUad",
        "colab": {
          "base_uri": "https://localhost:8080/",
          "height": 38
        },
        "outputId": "9cbc8b4d-f562-4743-db0f-83e59a70c773"
      },
      "source": [
        "p, q = symbols('p q')\n",
        "\n",
        "M = CoordSys3D('')\n",
        "u = q*M.i - p*M.j + (q + p)*M.k\n",
        "v = p*M.i + (2*p - q)*M.j + M.k\n",
        "\n",
        "display((((u + v)&(v - u)) + (((2*v + u)^(v - 3*u))&(2*v - 3*u))).simplify()-((3*v - 2*u)&((5*v - u)^(-u))).simplify())"
      ],
      "execution_count": null,
      "outputs": [
        {
          "output_type": "display_data",
          "data": {
            "text/latex": "$\\displaystyle 3 p^{2} - 6 p q - q^{2} + 1$",
            "text/plain": [
              "3*p**2 - 6*p*q - q**2 + 1"
            ]
          },
          "metadata": {
            "tags": []
          }
        }
      ]
    },
    {
      "cell_type": "markdown",
      "metadata": {
        "id": "H1xM70VEFUad"
      },
      "source": [
        "### Задание 3\n",
        "Упростить вектор $g(-2p^2 + 5pq - 3q^2, \\cos(q) + 2\\sin(q - \\pi/2), \\sin^2(p) - \\cos^2(p))$.\n",
        "Вывести на экран координаты упрощенного вектора, его длину и проекции на координатные оси"
      ]
    },
    {
      "cell_type": "code",
      "metadata": {
        "id": "KsR3pMqwFUae",
        "colab": {
          "base_uri": "https://localhost:8080/",
          "height": 132
        },
        "outputId": "8411c501-8e7e-4ee4-b200-2472bd421d18"
      },
      "source": [
        "from sympy.abc import p, q\n",
        "M = CoordSys3D('')\n",
        "g = (-2*p**2 + 5*p*q - 3*q**2)*M.i + (Cos(q) + 2*Sin(q - Pi/2))*M.j + (Sin(p)**2 - Cos(p)**2)*M.k\n",
        "g = g.factor().trigsimp()\n",
        "display(g.components, g.magnitude(), M.i.projection(g),\n",
        "        M.j.projection(g),M.k.projection(g))"
      ],
      "execution_count": null,
      "outputs": [
        {
          "output_type": "display_data",
          "data": {
            "text/plain": [
              "{.i: -(p - q)*(2*p - 3*q), .j: -cos(q), .k: -cos(2*p)}"
            ]
          },
          "metadata": {
            "tags": []
          }
        },
        {
          "output_type": "display_data",
          "data": {
            "text/latex": "$\\displaystyle \\sqrt{\\left(p - q\\right)^{2} \\left(2 p - 3 q\\right)^{2} + \\cos^{2}{\\left(2 p \\right)} + \\cos^{2}{\\left(q \\right)}}$",
            "text/plain": [
              "sqrt((p - q)**2*(2*p - 3*q)**2 + cos(2*p)**2 + cos(q)**2)"
            ]
          },
          "metadata": {
            "tags": []
          }
        },
        {
          "output_type": "display_data",
          "data": {
            "text/latex": "$\\displaystyle (- \\left(p - q\\right) \\left(2 p - 3 q\\right))\\mathbf{\\hat{i}_{}}$",
            "text/plain": [
              "(-(p - q)*(2*p - 3*q))*.i"
            ]
          },
          "metadata": {
            "tags": []
          }
        },
        {
          "output_type": "display_data",
          "data": {
            "text/latex": "$\\displaystyle (- \\cos{\\left(q \\right)})\\mathbf{\\hat{j}_{}}$",
            "text/plain": [
              "(-cos(q))*.j"
            ]
          },
          "metadata": {
            "tags": []
          }
        },
        {
          "output_type": "display_data",
          "data": {
            "text/latex": "$\\displaystyle (- \\cos{\\left(2 p \\right)})\\mathbf{\\hat{k}_{}}$",
            "text/plain": [
              "(-cos(2*p))*.k"
            ]
          },
          "metadata": {
            "tags": []
          }
        }
      ]
    },
    {
      "cell_type": "markdown",
      "metadata": {
        "id": "KreOI99QFUae"
      },
      "source": [
        "### Задание  4\n",
        "Преобразовать матрицу $\\left(\\begin{matrix}-q\\\\ p\\\\ q + p\\end{matrix}\\right)$ в вектор в системе координат из Заданий 1 и 2."
      ]
    },
    {
      "cell_type": "code",
      "metadata": {
        "id": "1eputnOPFUae",
        "colab": {
          "base_uri": "https://localhost:8080/",
          "height": 62
        },
        "outputId": "a93582fa-b747-4af2-b515-1e9dfa8738ac"
      },
      "source": [
        "from sympy.abc import p, q\n",
        "\n",
        "N = CoordSys3D('1')\n",
        "M = CoordSys3D('')\n",
        "\n",
        "b = Matrix([-q, p, q + p])\n",
        "display(matrix_to_vector(b, N), matrix_to_vector(b, M))"
      ],
      "execution_count": null,
      "outputs": [
        {
          "output_type": "display_data",
          "data": {
            "text/latex": "$\\displaystyle (- q)\\mathbf{\\hat{i}_{1}} + (p)\\mathbf{\\hat{j}_{1}} + (p + q)\\mathbf{\\hat{k}_{1}}$",
            "text/plain": [
              "(-q)*1.i + p*1.j + (p + q)*1.k"
            ]
          },
          "metadata": {
            "tags": []
          }
        },
        {
          "output_type": "display_data",
          "data": {
            "text/latex": "$\\displaystyle (- q)\\mathbf{\\hat{i}_{}} + (p)\\mathbf{\\hat{j}_{}} + (p + q)\\mathbf{\\hat{k}_{}}$",
            "text/plain": [
              "(-q)*.i + p*.j + (p + q)*.k"
            ]
          },
          "metadata": {
            "tags": []
          }
        }
      ]
    },
    {
      "cell_type": "markdown",
      "metadata": {
        "id": "gCx4rT71FUaf"
      },
      "source": [
        "### Задание 5.\n",
        "Ввести новую систему координат S5, которая получается поворотом системы координат M из Задания 2 на угол $\\pi/4$ относительно оси $j$ по часовой стрелке.\n",
        "Определить вектор b5 на основе матрицы из Задания 4 в соответствии с системой координат M, затем получить представление в матричном виде вектора b5_S5 в системе координат S5.  Вывести на экран матрицу поворота, вектор b5 в системе координат M  и S5."
      ]
    },
    {
      "cell_type": "code",
      "metadata": {
        "id": "0EjG7CASFUaf",
        "colab": {
          "base_uri": "https://localhost:8080/",
          "height": 148
        },
        "outputId": "23dfafc7-ca55-4e49-f21e-0dc2e2780245"
      },
      "source": [
        "from sympy.abc import p, q\n",
        "M = CoordSys3D('')\n",
        "b = Matrix([-q, p, q + p])\n",
        "bM = matrix_to_vector(b, M)\n",
        "Sys5 = M.orient_new_axis(\"S5\", -Pi/4, M.j)\n",
        "b5_S5 = matrix_to_vector(bM.to_matrix(Sys5), Sys5).simplify()\n",
        "R_matr = M.rotation_matrix(Sys5)\n",
        "display(R_matr, b5_S5, bM)"
      ],
      "execution_count": null,
      "outputs": [
        {
          "output_type": "display_data",
          "data": {
            "text/latex": "$\\displaystyle \\left[\\begin{matrix}\\frac{\\sqrt{2}}{2} & 0 & - \\frac{\\sqrt{2}}{2}\\\\0 & 1 & 0\\\\\\frac{\\sqrt{2}}{2} & 0 & \\frac{\\sqrt{2}}{2}\\end{matrix}\\right]$",
            "text/plain": [
              "Matrix([\n",
              "[sqrt(2)/2, 0, -sqrt(2)/2],\n",
              "[        0, 1,          0],\n",
              "[sqrt(2)/2, 0,  sqrt(2)/2]])"
            ]
          },
          "metadata": {
            "tags": []
          }
        },
        {
          "output_type": "display_data",
          "data": {
            "text/latex": "$\\displaystyle (\\frac{\\sqrt{2} p}{2})\\mathbf{\\hat{i}_{S5}} + (p)\\mathbf{\\hat{j}_{S5}} + (\\sqrt{2} \\left(\\frac{p}{2} + q\\right))\\mathbf{\\hat{k}_{S5}}$",
            "text/plain": [
              "(sqrt(2)*p/2)*S5.i + p*S5.j + (sqrt(2)*(p/2 + q))*S5.k"
            ]
          },
          "metadata": {
            "tags": []
          }
        },
        {
          "output_type": "display_data",
          "data": {
            "text/latex": "$\\displaystyle (- q)\\mathbf{\\hat{i}_{}} + (p)\\mathbf{\\hat{j}_{}} + (p + q)\\mathbf{\\hat{k}_{}}$",
            "text/plain": [
              "(-q)*.i + p*.j + (p + q)*.k"
            ]
          },
          "metadata": {
            "tags": []
          }
        }
      ]
    },
    {
      "cell_type": "markdown",
      "metadata": {
        "id": "qjdatGywFUaf"
      },
      "source": [
        "### Задание 6.\n",
        "Повернуть систему координат  M  из Задания 2 на $\\pi/4$ по часовой стрелке относительно оси, определяемой вектором $(1, -1, 0)$. Выразить вектор b5 в новой системе координат."
      ]
    },
    {
      "cell_type": "code",
      "metadata": {
        "id": "X5_CJBj0FUag",
        "colab": {
          "base_uri": "https://localhost:8080/",
          "height": 77
        },
        "outputId": "6eca192b-06b0-4c65-e252-b8f75c1a7888"
      },
      "source": [
        "from sympy.abc import p, q\n",
        "\n",
        "M = CoordSys3D('')\n",
        "b = Matrix([-q, p, q + p])\n",
        "b5 = matrix_to_vector(b, M)\n",
        "\n",
        "vectorRotation = M.i - M.j\n",
        "SysNew = M.orient_new_axis(\"S\", -Pi/4, vectorRotation)\n",
        "\n",
        "b5_New = b5.to_matrix(SysNew).simplify()\n",
        "display(b5, matrix_to_vector(b5_New, SysNew))"
      ],
      "execution_count": null,
      "outputs": [
        {
          "output_type": "display_data",
          "data": {
            "text/latex": "$\\displaystyle (- q)\\mathbf{\\hat{i}_{}} + (p)\\mathbf{\\hat{j}_{}} + (p + q)\\mathbf{\\hat{k}_{}}$",
            "text/plain": [
              "(-q)*.i + p*.j + (p + q)*.k"
            ]
          },
          "metadata": {
            "tags": []
          }
        },
        {
          "output_type": "display_data",
          "data": {
            "text/latex": "$\\displaystyle (- p + \\frac{\\sqrt{2} p}{4} - q - \\frac{\\sqrt{2} q}{4})\\mathbf{\\hat{i}_{S}} + (\\frac{\\sqrt{2} \\left(p - q\\right)}{4})\\mathbf{\\hat{j}_{S}} + (\\frac{p}{2} - \\frac{q}{2} + \\frac{\\sqrt{2} \\left(p + q\\right)}{2})\\mathbf{\\hat{k}_{S}}$",
            "text/plain": [
              "(-p + sqrt(2)*p/4 - q - sqrt(2)*q/4)*S.i + (sqrt(2)*(p - q)/4)*S.j + (p/2 - q/2 + sqrt(2)*(p + q)/2)*S.k"
            ]
          },
          "metadata": {
            "tags": []
          }
        }
      ]
    },
    {
      "cell_type": "markdown",
      "metadata": {
        "id": "2Sksd5J7FUag"
      },
      "source": [
        "### Индивидуальное задание.\n",
        "Ввести безымянную систему координат XYZ, задать в ней векторы $v_1$ и $v_2$. Построить новую систему координат XYZ1 с именем Name поворотом  XYZ на $\\alpha$ против часовой стрелки относительно оси, определяемой вектором $v_3$, выразить векторы $v_1$ и $v_2$ в новой системе координат. Найти скалярное и векторное произведение векторов в новой и старой системе координат. Выразить вектор, равный векторному произведению $v_1$ и $v_2$ в старой системе координат через новую систему координат, сравнить с векторным произведением $v_1$ и $v_2$, выраженных в новой системе координат.\n",
        "\n",
        "\n",
        "\n",
        "Вариант N 139\n",
        "\n",
        "$v_1 = (4)\\mathbf{\\hat{i}_{}} + (-5)\\mathbf{\\hat{j}_{}} + (7)\\mathbf{\\hat{k}_{}}$, $v_2 = (7)\\mathbf{\\hat{i}_{}} + (7)\\mathbf{\\hat{j}_{}} + (-5)\\mathbf{\\hat{k}_{}}$, Name = n, угол поворота $\\pi / 3$, ось $(-4)\\mathbf{\\hat{i}_{}} + (-4)\\mathbf{\\hat{j}_{}}$"
      ]
    },
    {
      "cell_type": "code",
      "metadata": {
        "id": "CneYKtasFUag",
        "colab": {
          "base_uri": "https://localhost:8080/",
          "height": 178
        },
        "outputId": "5d9f4716-c740-4e27-f03e-b0add057c24f"
      },
      "source": [
        "XYZ = CoordSys3D('')\n",
        "v1 = 4*XYZ.i - 5*XYZ.j + 7*XYZ.k\n",
        "v2 = 7*XYZ.i + 7*XYZ.j - 5*XYZ.k\n",
        "v3 = -4*XYZ.i - 4*XYZ.j\n",
        "a = -Pi/3\n",
        "XYZ1 = XYZ.orient_new_axis(\"n\", a, v3)\n",
        "v1New = matrix_to_vector(v1.to_matrix(XYZ1).simplify(), XYZ1)\n",
        "v2New = matrix_to_vector(v2.to_matrix(XYZ1).simplify(), XYZ1)\n",
        "# Тут упрощаем по приоритету\n",
        "v1_multi = (v1 & v2).simplify()\n",
        "v1New_multi = (v1New & v2New).simplify()\n",
        "v2_multi = (v1 ^ v2).simplify()\n",
        "v2New_multi = (v1New ^ v2New).simplify()\n",
        "R_matr = XYZ1.rotation_matrix(XYZ).simplify()\n",
        "\n",
        "display(v1_multi, v1New_multi, \n",
        "        v2_multi, v2New_multi, \n",
        "        sympy.simplify(R_matr*v2_multi.to_matrix(XYZ)) - v2New_multi.to_matrix(XYZ1))"
      ],
      "execution_count": 3,
      "outputs": [
        {
          "output_type": "display_data",
          "data": {
            "text/latex": "$\\displaystyle -42$",
            "text/plain": [
              "-42"
            ]
          },
          "metadata": {
            "tags": []
          }
        },
        {
          "output_type": "display_data",
          "data": {
            "text/latex": "$\\displaystyle -42$",
            "text/plain": [
              "-42"
            ]
          },
          "metadata": {
            "tags": []
          }
        },
        {
          "output_type": "display_data",
          "data": {
            "text/latex": "$\\displaystyle (-24)\\mathbf{\\hat{i}_{}} + (69)\\mathbf{\\hat{j}_{}} + (63)\\mathbf{\\hat{k}_{}}$",
            "text/plain": [
              "(-24)*.i + 69*.j + 63*.k"
            ]
          },
          "metadata": {
            "tags": []
          }
        },
        {
          "output_type": "display_data",
          "data": {
            "text/latex": "$\\displaystyle (- \\frac{63 \\sqrt{6}}{4} - \\frac{3}{4})\\mathbf{\\hat{i}_{n}} + (\\frac{63 \\sqrt{6}}{4} + \\frac{183}{4})\\mathbf{\\hat{j}_{n}} + (\\frac{63}{2} - \\frac{93 \\sqrt{6}}{4})\\mathbf{\\hat{k}_{n}}$",
            "text/plain": [
              "(-63*sqrt(6)/4 - 3/4)*n.i + (63*sqrt(6)/4 + 183/4)*n.j + (63/2 - 93*sqrt(6)/4)*n.k"
            ]
          },
          "metadata": {
            "tags": []
          }
        },
        {
          "output_type": "display_data",
          "data": {
            "text/latex": "$\\displaystyle \\left[\\begin{matrix}0\\\\0\\\\0\\end{matrix}\\right]$",
            "text/plain": [
              "Matrix([\n",
              "[0],\n",
              "[0],\n",
              "[0]])"
            ]
          },
          "metadata": {
            "tags": []
          }
        }
      ]
    }
  ]
}