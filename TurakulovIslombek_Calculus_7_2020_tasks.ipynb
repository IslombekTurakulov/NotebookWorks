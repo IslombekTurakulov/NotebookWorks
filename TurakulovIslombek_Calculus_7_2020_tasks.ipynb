{
  "nbformat": 4,
  "nbformat_minor": 0,
  "metadata": {
    "kernelspec": {
      "display_name": "Python 3",
      "language": "python",
      "name": "python3"
    },
    "language_info": {
      "codemirror_mode": {
        "name": "ipython",
        "version": 3
      },
      "file_extension": ".py",
      "mimetype": "text/x-python",
      "name": "python",
      "nbconvert_exporter": "python",
      "pygments_lexer": "ipython3",
      "version": "3.8.5"
    },
    "colab": {
      "name": "TurakulovIslombek_Calculus_7_2020_tasks.ipynb",
      "provenance": [],
      "collapsed_sections": [
        "aB2pUx73fE4o"
      ],
      "include_colab_link": true
    }
  },
  "cells": [
    {
      "cell_type": "markdown",
      "metadata": {
        "id": "view-in-github",
        "colab_type": "text"
      },
      "source": [
        "<a href=\"https://colab.research.google.com/github/IslombekTurakulov/NotebookWorks/blob/main/TurakulovIslombek_Calculus_7_2020_tasks.ipynb\" target=\"_parent\"><img src=\"https://colab.research.google.com/assets/colab-badge.svg\" alt=\"Open In Colab\"/></a>"
      ]
    },
    {
      "cell_type": "markdown",
      "metadata": {
        "id": "od70otTJfE4Y"
      },
      "source": [
        "## Занятие 7\n",
        "## Математический анализ\n",
        "## Исследование функции с sympy.calculus.util и sympy.calculus.singularities"
      ]
    },
    {
      "cell_type": "code",
      "metadata": {
        "id": "9oH5e9HOfUCG"
      },
      "source": [
        ""
      ],
      "execution_count": null,
      "outputs": []
    },
    {
      "cell_type": "code",
      "metadata": {
        "id": "tAL0e4f9fE4e"
      },
      "source": [
        "import sympy\n",
        "from sympy import S, Interval, plot\n",
        "from sympy import sin as Sin\n",
        "from sympy import cos as Cos\n",
        "from sympy import exp as Exp\n",
        "from sympy import log as Log\n",
        "from sympy import pi as Pi\n",
        "from sympy.calculus.util import continuous_domain, function_range, periodicity, stationary_points, maximum, minimum, AccumBounds\n",
        "from sympy.calculus.singularities import singularities, is_increasing, is_decreasing, is_monotonic\n",
        "from sympy.calculus.singularities import is_strictly_increasing, is_strictly_decreasing\n",
        "%matplotlib inline"
      ],
      "execution_count": null,
      "outputs": []
    },
    {
      "cell_type": "markdown",
      "metadata": {
        "id": "lRf4Y-VmfE4f"
      },
      "source": [
        "## Схема анализа функции.\n",
        "1. Область определения\n",
        "\n",
        "sympy.calculus.util.continuous_domain(f, symbol, domain)\n",
        "\n",
        "f - выражение, описывающее функцию, \n",
        "\n",
        "symbol - переменная, от которой зависит исследуемая функция,\n",
        "\n",
        "domain - область значений переменной, на которой рассматривается функция,\n",
        "\n",
        "если функция рассматривается на всей вещественной прямой, то domain=S.Reals\n",
        "\n",
        "Сингулярные точки (точки, в которых функция не существует) находятся с помощью\n",
        "\n",
        "sympy.calculus.singularities.singularities(f, symbol, domain=None)\n",
        "\n",
        "2. Область значений\n",
        "\n",
        "sympy.calculus.util.function_range(f, symbol, domain)\n",
        "\n",
        "3. Периодичность\n",
        "\n",
        "sympy.calculus.util.periodicity(f, symbol, check=False)\n",
        "\n",
        "4. Стационарные точки \n",
        "\n",
        "sympy.calculus.util.stationary_points(f, symbol, domain=Reals)\n",
        "\n",
        "5. Точки экстремума\n",
        "\n",
        "sympy.calculus.util.maximum(f, symbol, domain=Reals)\n",
        "\n",
        "sympy.calculus.util.minimum(f, symbol, domain=Reals)\n",
        "\n",
        "6. Монотонность\n",
        "\n",
        "sympy.calculus.singularities.is_decreasing(f, interval=Reals, symbol=None)\n",
        "\n",
        "sympy.calculus.singularities.is_increasing(f, interval=Reals, symbol=None)\n",
        "\n",
        "sympy.calculus.singularities.is_monotonic(f, interval=Reals, symbol=None)\n",
        "\n",
        "sympy.calculus.singularities.is_strictly_decreasing(f, interval=Reals, symbol=None)\n",
        "\n",
        "sympy.calculus.singularities.is_strictly_increasing(f, interval=Reals, symbol=None)\n",
        "\n",
        "7. Минимальное и максимальное значение функции на интервале \n",
        "\n",
        "sympy.calculus.util.AccumulationBounds(min, max)\n",
        "\n",
        "Свойства: delta, max, min, mid\n",
        "\n",
        "### Задание 1.  \n",
        "Исследовать функцию по п.1 - 5 на области определения и по п. 1 - 7 на одном периоде, построить график.\n",
        "$$\n",
        "f(x) = e^{\\sin(x)}.\n",
        "$$\n",
        "###### 1. Область определения"
      ]
    },
    {
      "cell_type": "code",
      "metadata": {
        "colab": {
          "base_uri": "https://localhost:8080/",
          "height": 37
        },
        "id": "tUue9FtWfE4f",
        "outputId": "b703ba06-bc04-4259-b9ab-9dee00c1e326"
      },
      "source": [
        "x = sympy.Symbol('x')\n",
        "f = sympy.E ** (Sin(x))\n",
        "newDom = continuous_domain(f, x, S.Reals)\n",
        "newDom"
      ],
      "execution_count": null,
      "outputs": [
        {
          "output_type": "execute_result",
          "data": {
            "text/latex": "$\\displaystyle \\mathbb{R}$",
            "text/plain": [
              "Reals"
            ]
          },
          "metadata": {
            "tags": []
          },
          "execution_count": 2
        }
      ]
    },
    {
      "cell_type": "markdown",
      "metadata": {
        "id": "rIe9lL9YfE4g"
      },
      "source": [
        "Сингулярные точки (точки, где функция не определена)"
      ]
    },
    {
      "cell_type": "code",
      "metadata": {
        "colab": {
          "base_uri": "https://localhost:8080/",
          "height": 36
        },
        "id": "PojKIai5fE4h",
        "outputId": "4f3fe029-efbc-4630-941a-518556d9418a"
      },
      "source": [
        "singular = singularities(f, x)\n",
        "singular"
      ],
      "execution_count": null,
      "outputs": [
        {
          "output_type": "execute_result",
          "data": {
            "text/latex": "$\\displaystyle \\emptyset$",
            "text/plain": [
              "EmptySet"
            ]
          },
          "metadata": {
            "tags": []
          },
          "execution_count": 3
        }
      ]
    },
    {
      "cell_type": "markdown",
      "metadata": {
        "id": "LJ7PmmYvfE4h"
      },
      "source": [
        "###### 2. Область значений"
      ]
    },
    {
      "cell_type": "code",
      "metadata": {
        "colab": {
          "base_uri": "https://localhost:8080/",
          "height": 38
        },
        "id": "GSYnpXB8fE4h",
        "outputId": "5962f71d-b378-4d05-c603-33764f507e52"
      },
      "source": [
        "newRange = function_range(f, x, S.Reals)\n",
        "newRange"
      ],
      "execution_count": null,
      "outputs": [
        {
          "output_type": "execute_result",
          "data": {
            "text/latex": "$\\displaystyle \\left[e^{-1}, e\\right]$",
            "text/plain": [
              "Interval(exp(-1), E)"
            ]
          },
          "metadata": {
            "tags": []
          },
          "execution_count": 4
        }
      ]
    },
    {
      "cell_type": "markdown",
      "metadata": {
        "id": "xKzmfWKGfE4i"
      },
      "source": [
        "###### 3. Периодичность"
      ]
    },
    {
      "cell_type": "code",
      "metadata": {
        "colab": {
          "base_uri": "https://localhost:8080/",
          "height": 37
        },
        "id": "acs85wBBfE4i",
        "outputId": "c26d9325-aa6b-45b0-84fe-8cce4525833e"
      },
      "source": [
        "period = periodicity(f, x)\n",
        "period_range = Interval(0, period)\n",
        "period"
      ],
      "execution_count": null,
      "outputs": [
        {
          "output_type": "execute_result",
          "data": {
            "text/latex": "$\\displaystyle 2 \\pi$",
            "text/plain": [
              "2*pi"
            ]
          },
          "metadata": {
            "tags": []
          },
          "execution_count": 5
        }
      ]
    },
    {
      "cell_type": "markdown",
      "metadata": {
        "id": "LL4RwTRdfE4i"
      },
      "source": [
        "###### 4. Стационарные точки"
      ]
    },
    {
      "cell_type": "code",
      "metadata": {
        "colab": {
          "base_uri": "https://localhost:8080/",
          "height": 57
        },
        "id": "qVwnlwNZfE4j",
        "outputId": "0bd28a0d-b366-4ce4-a938-e002598cdd2f"
      },
      "source": [
        "station = stationary_points(f, x)\n",
        "station"
      ],
      "execution_count": null,
      "outputs": [
        {
          "output_type": "execute_result",
          "data": {
            "text/latex": "$\\displaystyle \\left\\{2 n \\pi + \\frac{\\pi}{2}\\; |\\; n \\in \\mathbb{Z}\\right\\} \\cup \\left\\{2 n \\pi + \\frac{3 \\pi}{2}\\; |\\; n \\in \\mathbb{Z}\\right\\}$",
            "text/plain": [
              "Union(ImageSet(Lambda(_n, 2*_n*pi + pi/2), Integers), ImageSet(Lambda(_n, 2*_n*pi + 3*pi/2), Integers))"
            ]
          },
          "metadata": {
            "tags": []
          },
          "execution_count": 6
        }
      ]
    },
    {
      "cell_type": "markdown",
      "metadata": {
        "id": "9qxKiX-jfE4j"
      },
      "source": [
        "###### 5. Максимальное и минимальное значения функции"
      ]
    },
    {
      "cell_type": "code",
      "metadata": {
        "colab": {
          "base_uri": "https://localhost:8080/",
          "height": 58
        },
        "id": "xMX26rH7fE4j",
        "outputId": "810744fb-525b-4aea-8c81-d7c0600038a3"
      },
      "source": [
        "display(maximum(f, x), minimum(f, x))"
      ],
      "execution_count": null,
      "outputs": [
        {
          "output_type": "display_data",
          "data": {
            "text/latex": "$\\displaystyle e$",
            "text/plain": [
              "E"
            ]
          },
          "metadata": {
            "tags": []
          }
        },
        {
          "output_type": "display_data",
          "data": {
            "text/latex": "$\\displaystyle e^{-1}$",
            "text/plain": [
              "exp(-1)"
            ]
          },
          "metadata": {
            "tags": []
          }
        }
      ]
    },
    {
      "cell_type": "markdown",
      "metadata": {
        "id": "z74KEHqafE4j"
      },
      "source": [
        "##### Исследование периодической функции на одном периоде.\n",
        "Найти пересечение с периодом области определения, множества сингулярных точек и стационарных точек.\n",
        "###### 1. Область определения"
      ]
    },
    {
      "cell_type": "code",
      "metadata": {
        "colab": {
          "base_uri": "https://localhost:8080/",
          "height": 37
        },
        "id": "TYk5LE9afE4k",
        "outputId": "cdfbe405-7a12-4d09-e861-6018b7a005d8"
      },
      "source": [
        "continuous_domain(f, x, period_range)"
      ],
      "execution_count": null,
      "outputs": [
        {
          "output_type": "execute_result",
          "data": {
            "text/latex": "$\\displaystyle \\left[0, 2 \\pi\\right]$",
            "text/plain": [
              "Interval(0, 2*pi)"
            ]
          },
          "metadata": {
            "tags": []
          },
          "execution_count": 8
        }
      ]
    },
    {
      "cell_type": "markdown",
      "metadata": {
        "id": "J1QYSAwWfE4k"
      },
      "source": [
        "Сингулярные точки (точки, где функция не определена)"
      ]
    },
    {
      "cell_type": "code",
      "metadata": {
        "colab": {
          "base_uri": "https://localhost:8080/",
          "height": 36
        },
        "id": "ren87z2jfE4k",
        "outputId": "240fb090-aa92-4c53-8c06-5584d2bc3be7"
      },
      "source": [
        "singularities(f, x, period_range)"
      ],
      "execution_count": null,
      "outputs": [
        {
          "output_type": "execute_result",
          "data": {
            "text/latex": "$\\displaystyle \\emptyset$",
            "text/plain": [
              "EmptySet"
            ]
          },
          "metadata": {
            "tags": []
          },
          "execution_count": 9
        }
      ]
    },
    {
      "cell_type": "markdown",
      "metadata": {
        "id": "-ZMsJ3A9fE4l"
      },
      "source": [
        "###### 2. Область значений"
      ]
    },
    {
      "cell_type": "code",
      "metadata": {
        "colab": {
          "base_uri": "https://localhost:8080/",
          "height": 38
        },
        "id": "EB8z12_ofE4l",
        "outputId": "6e74d695-de78-4d00-eb12-cd191fa00991"
      },
      "source": [
        "function_range(f, x, period_range)"
      ],
      "execution_count": null,
      "outputs": [
        {
          "output_type": "execute_result",
          "data": {
            "text/latex": "$\\displaystyle \\left[e^{-1}, e\\right]$",
            "text/plain": [
              "Interval(exp(-1), E)"
            ]
          },
          "metadata": {
            "tags": []
          },
          "execution_count": 10
        }
      ]
    },
    {
      "cell_type": "markdown",
      "metadata": {
        "id": "5BswGTwXfE4l"
      },
      "source": [
        "###### 4. Стационарные точки "
      ]
    },
    {
      "cell_type": "code",
      "metadata": {
        "colab": {
          "base_uri": "https://localhost:8080/",
          "height": 57
        },
        "id": "mdgWKc0GfE4l",
        "outputId": "804fedd8-3696-453b-b828-9f4a9dcab33d"
      },
      "source": [
        "stationary_points(f, x, period_range)"
      ],
      "execution_count": null,
      "outputs": [
        {
          "output_type": "execute_result",
          "data": {
            "text/latex": "$\\displaystyle \\left\\{\\frac{\\pi}{2}, \\frac{3 \\pi}{2}\\right\\}$",
            "text/plain": [
              "FiniteSet(pi/2, 3*pi/2)"
            ]
          },
          "metadata": {
            "tags": []
          },
          "execution_count": 11
        }
      ]
    },
    {
      "cell_type": "markdown",
      "metadata": {
        "id": "7Y_PRdfEfE4m"
      },
      "source": [
        "###### 5. Максимальное и минимальное значения функции"
      ]
    },
    {
      "cell_type": "code",
      "metadata": {
        "colab": {
          "base_uri": "https://localhost:8080/",
          "height": 58
        },
        "id": "XNMzbpiZfE4m",
        "outputId": "d70f614b-9b06-4302-9984-fcb5e7368a08"
      },
      "source": [
        "display(maximum(f, x, period_range), maximum(f, x, period_range))"
      ],
      "execution_count": null,
      "outputs": [
        {
          "output_type": "display_data",
          "data": {
            "text/latex": "$\\displaystyle e$",
            "text/plain": [
              "E"
            ]
          },
          "metadata": {
            "tags": []
          }
        },
        {
          "output_type": "display_data",
          "data": {
            "text/latex": "$\\displaystyle e$",
            "text/plain": [
              "E"
            ]
          },
          "metadata": {
            "tags": []
          }
        }
      ]
    },
    {
      "cell_type": "markdown",
      "metadata": {
        "id": "UPT2iy0afE4m"
      },
      "source": [
        "###### 6. Монотонность\n",
        "Исследовать на периоде открытые интервалы (Interval.open), на которые период разбивают стационарные точки."
      ]
    },
    {
      "cell_type": "code",
      "metadata": {
        "id": "CRc8pluvfE4m"
      },
      "source": [
        ""
      ],
      "execution_count": null,
      "outputs": []
    },
    {
      "cell_type": "markdown",
      "metadata": {
        "id": "S_228kfgfE4n"
      },
      "source": [
        "###### 7. Минимальное и максимальное значение функции на интервале \n",
        "Найти максимальное и минимальное значение функции на каждом из интервалов монотонности в пределах одного периода"
      ]
    },
    {
      "cell_type": "code",
      "metadata": {
        "id": "adUSiCGifE4n"
      },
      "source": [
        ""
      ],
      "execution_count": null,
      "outputs": []
    },
    {
      "cell_type": "markdown",
      "metadata": {
        "id": "Y2M9npo8fE4n"
      },
      "source": [
        "###### График функции на одном периоде."
      ]
    },
    {
      "cell_type": "code",
      "metadata": {
        "colab": {
          "base_uri": "https://localhost:8080/",
          "height": 314
        },
        "id": "e-T6cAu8fE4n",
        "outputId": "173576c6-26f0-44a4-e05d-71afd3af9b29"
      },
      "source": [
        "plot((f, (x, 0, 2 * Pi)))"
      ],
      "execution_count": null,
      "outputs": [
        {
          "output_type": "display_data",
          "data": {
            "image/png": "[encoded data removed]",
            "text/plain": [
              "<Figure size 432x288 with 1 Axes>"
            ]
          },
          "metadata": {
            "tags": [],
            "needs_background": "light"
          }
        },
        {
          "output_type": "execute_result",
          "data": {
            "text/plain": [
              "<sympy.plotting.plot.Plot at 0x7f0dd7f33650>"
            ]
          },
          "metadata": {
            "tags": []
          },
          "execution_count": 13
        }
      ]
    },
    {
      "cell_type": "markdown",
      "metadata": {
        "id": "aB2pUx73fE4o"
      },
      "source": [
        "### Задание 2.  \n",
        "Исследовать функцию по п.1 - 5 на области определения и по п. 1 - 7  на одном периоде, построить график.\n",
        "$$\n",
        "f(x) = \\frac{1}{\\sin(x) + \\cos(x)}.\n",
        "$$\n",
        "###### 1. Область определения"
      ]
    },
    {
      "cell_type": "code",
      "metadata": {
        "colab": {
          "base_uri": "https://localhost:8080/",
          "height": 57
        },
        "id": "yn5VoiP0fE4o",
        "outputId": "a7a186e7-5a09-474f-ddc7-100d530116b0"
      },
      "source": [
        "x = sympy.Symbol('x')\n",
        "f = 1 / (Sin(x) + Cos(x))\n",
        "domain = continuous_domain(f, x, S.Reals)\n",
        "domain"
      ],
      "execution_count": null,
      "outputs": [
        {
          "output_type": "execute_result",
          "data": {
            "text/latex": "$\\displaystyle \\mathbb{R} \\setminus \\left(\\left\\{2 n \\pi + \\frac{3 \\pi}{4}\\; |\\; n \\in \\mathbb{Z}\\right\\} \\cup \\left\\{2 n \\pi + \\frac{7 \\pi}{4}\\; |\\; n \\in \\mathbb{Z}\\right\\}\\right)$",
            "text/plain": [
              "Complement(Reals, Union(ImageSet(Lambda(_n, 2*_n*pi + 3*pi/4), Integers), ImageSet(Lambda(_n, 2*_n*pi + 7*pi/4), Integers)))"
            ]
          },
          "metadata": {
            "tags": []
          },
          "execution_count": 14
        }
      ]
    },
    {
      "cell_type": "markdown",
      "metadata": {
        "id": "zxdr-lG-fE4o"
      },
      "source": [
        "Сингулярные точки (точки, где функция не определена)"
      ]
    },
    {
      "cell_type": "code",
      "metadata": {
        "colab": {
          "base_uri": "https://localhost:8080/",
          "height": 57
        },
        "id": "qmXMhqE-fE4o",
        "outputId": "7da943d9-a94e-4513-fd4a-670a51de7d46"
      },
      "source": [
        "singular = singularities(f, x)\n",
        "singular"
      ],
      "execution_count": null,
      "outputs": [
        {
          "output_type": "execute_result",
          "data": {
            "text/latex": "$\\displaystyle \\left\\{2 n \\pi + \\frac{3 \\pi}{4}\\; |\\; n \\in \\mathbb{Z}\\right\\} \\cup \\left\\{2 n \\pi + \\frac{7 \\pi}{4}\\; |\\; n \\in \\mathbb{Z}\\right\\}$",
            "text/plain": [
              "Union(ImageSet(Lambda(_n, 2*_n*pi + 3*pi/4), Integers), ImageSet(Lambda(_n, 2*_n*pi + 7*pi/4), Integers))"
            ]
          },
          "metadata": {
            "tags": []
          },
          "execution_count": 15
        }
      ]
    },
    {
      "cell_type": "markdown",
      "metadata": {
        "id": "S7y2--CsfE4p"
      },
      "source": [
        "###### 2. Область значений"
      ]
    },
    {
      "cell_type": "code",
      "metadata": {
        "colab": {
          "base_uri": "https://localhost:8080/",
          "height": 67
        },
        "id": "p-dLkBvofE4p",
        "outputId": "50bfd9ec-5aed-4758-f30f-c436959bfe15"
      },
      "source": [
        "range = function_range(f, x, S.Reals)\n",
        "range"
      ],
      "execution_count": null,
      "outputs": [
        {
          "output_type": "execute_result",
          "data": {
            "text/latex": "$\\displaystyle \\left(-\\infty, - \\frac{\\sqrt{2}}{2}\\right] \\cup \\left[\\frac{\\sqrt{2}}{2}, \\infty\\right)$",
            "text/plain": [
              "Union(Interval(-oo, -sqrt(2)/2), Interval(sqrt(2)/2, oo))"
            ]
          },
          "metadata": {
            "tags": []
          },
          "execution_count": 16
        }
      ]
    },
    {
      "cell_type": "markdown",
      "metadata": {
        "id": "1k6qIHHufE4p"
      },
      "source": [
        "###### 3. Периодичность"
      ]
    },
    {
      "cell_type": "code",
      "metadata": {
        "colab": {
          "base_uri": "https://localhost:8080/",
          "height": 37
        },
        "id": "X62W4WvxfE4p",
        "outputId": "9171324e-6733-480b-83af-9556444a738e"
      },
      "source": [
        "period = periodicity(f, x)\n",
        "period_range = Interval(0, period)\n",
        "period"
      ],
      "execution_count": null,
      "outputs": [
        {
          "output_type": "execute_result",
          "data": {
            "text/latex": "$\\displaystyle 2 \\pi$",
            "text/plain": [
              "2*pi"
            ]
          },
          "metadata": {
            "tags": []
          },
          "execution_count": 17
        }
      ]
    },
    {
      "cell_type": "markdown",
      "metadata": {
        "id": "2yybrJjefE4q"
      },
      "source": [
        "###### 4. Стационарные точки"
      ]
    },
    {
      "cell_type": "code",
      "metadata": {
        "colab": {
          "base_uri": "https://localhost:8080/",
          "height": 97
        },
        "id": "L-zpgaC1fE4q",
        "outputId": "e3d8c1ad-d058-4846-8dde-85189aedb09f"
      },
      "source": [
        "station = stationary_points(f, x)\n",
        "station"
      ],
      "execution_count": null,
      "outputs": [
        {
          "output_type": "execute_result",
          "data": {
            "text/latex": "$\\displaystyle \\left(\\left\\{2 n \\pi + \\frac{5 \\pi}{4}\\; |\\; n \\in \\mathbb{Z}\\right\\} \\setminus \\left(\\left\\{2 n \\pi + \\frac{3 \\pi}{4}\\; |\\; n \\in \\mathbb{Z}\\right\\} \\cup \\left\\{2 n \\pi + \\frac{7 \\pi}{4}\\; |\\; n \\in \\mathbb{Z}\\right\\}\\right)\\right) \\cup \\left(\\left\\{2 n \\pi + \\frac{\\pi}{4}\\; |\\; n \\in \\mathbb{Z}\\right\\} \\setminus \\left(\\left\\{2 n \\pi + \\frac{3 \\pi}{4}\\; |\\; n \\in \\mathbb{Z}\\right\\} \\cup \\left\\{2 n \\pi + \\frac{7 \\pi}{4}\\; |\\; n \\in \\mathbb{Z}\\right\\}\\right)\\right)$",
            "text/plain": [
              "Union(Complement(ImageSet(Lambda(_n, 2*_n*pi + 5*pi/4), Integers), Union(ImageSet(Lambda(_n, 2*_n*pi + 3*pi/4), Integers), ImageSet(Lambda(_n, 2*_n*pi + 7*pi/4), Integers))), Complement(ImageSet(Lambda(_n, 2*_n*pi + pi/4), Integers), Union(ImageSet(Lambda(_n, 2*_n*pi + 3*pi/4), Integers), ImageSet(Lambda(_n, 2*_n*pi + 7*pi/4), Integers))))"
            ]
          },
          "metadata": {
            "tags": []
          },
          "execution_count": 18
        }
      ]
    },
    {
      "cell_type": "markdown",
      "metadata": {
        "id": "LMSpcqnTfE4q"
      },
      "source": [
        "###### 5. Максимальное и минимальное значения функции"
      ]
    },
    {
      "cell_type": "code",
      "metadata": {
        "colab": {
          "base_uri": "https://localhost:8080/",
          "height": 56
        },
        "id": "JUmxOMNTfE4q",
        "outputId": "65bc27ea-f99d-407e-d46b-98e1025703bf"
      },
      "source": [
        "display(maximum(f, x), minimum(f, x))"
      ],
      "execution_count": null,
      "outputs": [
        {
          "output_type": "display_data",
          "data": {
            "text/latex": "$\\displaystyle \\infty$",
            "text/plain": [
              "oo"
            ]
          },
          "metadata": {
            "tags": []
          }
        },
        {
          "output_type": "display_data",
          "data": {
            "text/latex": "$\\displaystyle -\\infty$",
            "text/plain": [
              "-oo"
            ]
          },
          "metadata": {
            "tags": []
          }
        }
      ]
    },
    {
      "cell_type": "markdown",
      "metadata": {
        "id": "MOeTiPL3fE4q"
      },
      "source": [
        "##### Исследование периодической функции на одном периоде.\n",
        "Найти пересечение с периодом области определения, множества сингулярных точек и стационарных точек.\n",
        "###### 1. Область определения"
      ]
    },
    {
      "cell_type": "code",
      "metadata": {
        "colab": {
          "base_uri": "https://localhost:8080/",
          "height": 57
        },
        "id": "NKF2L-LUfE4r",
        "outputId": "c3f88568-ef16-4166-dba0-ef9a26c7869a"
      },
      "source": [
        "continuous_domain(f, x, period_range)"
      ],
      "execution_count": null,
      "outputs": [
        {
          "output_type": "execute_result",
          "data": {
            "text/latex": "$\\displaystyle \\left[0, \\frac{3 \\pi}{4}\\right) \\cup \\left(\\frac{3 \\pi}{4}, \\frac{7 \\pi}{4}\\right) \\cup \\left(\\frac{7 \\pi}{4}, 2 \\pi\\right]$",
            "text/plain": [
              "Union(Interval.Ropen(0, 3*pi/4), Interval.open(3*pi/4, 7*pi/4), Interval.Lopen(7*pi/4, 2*pi))"
            ]
          },
          "metadata": {
            "tags": []
          },
          "execution_count": 20
        }
      ]
    },
    {
      "cell_type": "markdown",
      "metadata": {
        "id": "SRC9grAvfE4r"
      },
      "source": [
        "Сингулярные точки (точки, где функция не определена)"
      ]
    },
    {
      "cell_type": "code",
      "metadata": {
        "colab": {
          "base_uri": "https://localhost:8080/",
          "height": 57
        },
        "id": "KehmrHpSfE4r",
        "outputId": "18259787-04c9-49e8-81fb-0bcdf1b4c367"
      },
      "source": [
        "singularities(f, x, period_range)"
      ],
      "execution_count": null,
      "outputs": [
        {
          "output_type": "execute_result",
          "data": {
            "text/latex": "$\\displaystyle \\left\\{\\frac{3 \\pi}{4}, \\frac{7 \\pi}{4}\\right\\}$",
            "text/plain": [
              "FiniteSet(3*pi/4, 7*pi/4)"
            ]
          },
          "metadata": {
            "tags": []
          },
          "execution_count": 21
        }
      ]
    },
    {
      "cell_type": "markdown",
      "metadata": {
        "id": "QwBVkqhPfE4r"
      },
      "source": [
        "###### 2. Область значений"
      ]
    },
    {
      "cell_type": "code",
      "metadata": {
        "colab": {
          "base_uri": "https://localhost:8080/",
          "height": 67
        },
        "id": "2GAQEP6jfE4r",
        "outputId": "fa4d552a-25fd-4be8-fe20-d58bb238f786"
      },
      "source": [
        "function_range(f, x, period_range)"
      ],
      "execution_count": null,
      "outputs": [
        {
          "output_type": "execute_result",
          "data": {
            "text/latex": "$\\displaystyle \\left(-\\infty, - \\frac{\\sqrt{2}}{2}\\right] \\cup \\left[\\frac{\\sqrt{2}}{2}, \\infty\\right)$",
            "text/plain": [
              "Union(Interval(-oo, -sqrt(2)/2), Interval(sqrt(2)/2, oo))"
            ]
          },
          "metadata": {
            "tags": []
          },
          "execution_count": 22
        }
      ]
    },
    {
      "cell_type": "markdown",
      "metadata": {
        "id": "kqE7MsP3fE4s"
      },
      "source": [
        "###### 4. Стационарные точки"
      ]
    },
    {
      "cell_type": "code",
      "metadata": {
        "colab": {
          "base_uri": "https://localhost:8080/",
          "height": 57
        },
        "id": "YArO_I2EfE4s",
        "outputId": "a9a45ddb-8651-4b95-ec43-1e6476621736"
      },
      "source": [
        "stationary_points(f, x, period_range)"
      ],
      "execution_count": null,
      "outputs": [
        {
          "output_type": "execute_result",
          "data": {
            "text/latex": "$\\displaystyle \\left\\{\\frac{\\pi}{4}, \\frac{5 \\pi}{4}\\right\\}$",
            "text/plain": [
              "FiniteSet(pi/4, 5*pi/4)"
            ]
          },
          "metadata": {
            "tags": []
          },
          "execution_count": 23
        }
      ]
    },
    {
      "cell_type": "markdown",
      "metadata": {
        "id": "WK0rhtOufE4s"
      },
      "source": [
        "###### 5. Максимальное и минимальное значения функции"
      ]
    },
    {
      "cell_type": "code",
      "metadata": {
        "colab": {
          "base_uri": "https://localhost:8080/",
          "height": 56
        },
        "id": "dYuCrNkIfE4s",
        "outputId": "aa2a7a6b-63d8-44f8-86a7-044c5c63e8ae"
      },
      "source": [
        "display(maximum(f, x, period_range), minimum(f, x, period_range))"
      ],
      "execution_count": null,
      "outputs": [
        {
          "output_type": "display_data",
          "data": {
            "text/latex": "$\\displaystyle \\infty$",
            "text/plain": [
              "oo"
            ]
          },
          "metadata": {
            "tags": []
          }
        },
        {
          "output_type": "display_data",
          "data": {
            "text/latex": "$\\displaystyle -\\infty$",
            "text/plain": [
              "-oo"
            ]
          },
          "metadata": {
            "tags": []
          }
        }
      ]
    },
    {
      "cell_type": "markdown",
      "metadata": {
        "id": "wBoSvqn7fE4s"
      },
      "source": [
        "###### 6. Монотонность"
      ]
    },
    {
      "cell_type": "code",
      "metadata": {
        "id": "QK_K8BA8fE4s"
      },
      "source": [
        ""
      ],
      "execution_count": null,
      "outputs": []
    },
    {
      "cell_type": "markdown",
      "metadata": {
        "id": "1lQDevRbfE4t"
      },
      "source": [
        "###### 7. Минимальное и максимальное значение функции на периоде"
      ]
    },
    {
      "cell_type": "code",
      "metadata": {
        "id": "zjNa7k9jfE4t"
      },
      "source": [
        ""
      ],
      "execution_count": null,
      "outputs": []
    },
    {
      "cell_type": "markdown",
      "metadata": {
        "id": "I_iSDJdyfE4t"
      },
      "source": [
        "###### График"
      ]
    },
    {
      "cell_type": "code",
      "metadata": {
        "colab": {
          "base_uri": "https://localhost:8080/",
          "height": 313
        },
        "id": "YZM4S8bpfE4t",
        "outputId": "f319ca01-22f4-4540-a5ea-58878a8901fd"
      },
      "source": [
        "plot((f, (x, 0, 2 * Pi)))"
      ],
      "execution_count": null,
      "outputs": [
        {
          "output_type": "display_data",
          "data": {
            "image/png": "[encoded data removed]",
            "text/plain": [
              "<Figure size 432x288 with 1 Axes>"
            ]
          },
          "metadata": {
            "tags": [],
            "needs_background": "light"
          }
        },
        {
          "output_type": "execute_result",
          "data": {
            "text/plain": [
              "<sympy.plotting.plot.Plot at 0x7f0dced7cd10>"
            ]
          },
          "metadata": {
            "tags": []
          },
          "execution_count": 25
        }
      ]
    },
    {
      "cell_type": "markdown",
      "metadata": {
        "id": "GRzyMY8_fE4t"
      },
      "source": [
        "### Индивидуальное задание.  \n",
        "Исследовать функцию $f(x)$, найти минимальное и максимальное значение на каком-нибудь конечном интервале, не содержащем точек разрыва, построить график.\n",
        "\n",
        "$f(x) = 3 \\sqrt{4 - 6 \\cos{\\left(x \\right)}}$\n",
        "\n",
        "###### 1. Область определения"
      ]
    },
    {
      "cell_type": "code",
      "metadata": {
        "colab": {
          "base_uri": "https://localhost:8080/",
          "height": 67
        },
        "id": "NmK0mLyufE4u",
        "outputId": "e32e2e70-807f-4aff-9b92-4e0528629f5c"
      },
      "source": [
        "from sympy.abc import x\n",
        "f = 3*sympy.sqrt(4-6*Cos(x))\n",
        "domain = continuous_domain(f, x, S.Reals)\n",
        "domain"
      ],
      "execution_count": null,
      "outputs": [
        {
          "output_type": "execute_result",
          "data": {
            "text/latex": "$\\displaystyle \\left[\\operatorname{atan}{\\left(\\frac{\\sqrt{5}}{2} \\right)}, - \\operatorname{atan}{\\left(\\frac{\\sqrt{5}}{2} \\right)} + 2 \\pi\\right]$",
            "text/plain": [
              "Interval(atan(sqrt(5)/2), -atan(sqrt(5)/2) + 2*pi)"
            ]
          },
          "metadata": {
            "tags": []
          },
          "execution_count": 3
        }
      ]
    },
    {
      "cell_type": "markdown",
      "metadata": {
        "id": "ZyVrU9rzfE4u"
      },
      "source": [
        "Сингулярные точки (точки, где функция не определена)"
      ]
    },
    {
      "cell_type": "code",
      "metadata": {
        "colab": {
          "base_uri": "https://localhost:8080/",
          "height": 36
        },
        "id": "NHFKfDzwfE4u",
        "outputId": "69432594-ae26-4adc-c1f0-12c5d07a5128"
      },
      "source": [
        "singular = singularities(f, x)\n",
        "singular"
      ],
      "execution_count": null,
      "outputs": [
        {
          "output_type": "execute_result",
          "data": {
            "text/latex": "$\\displaystyle \\emptyset$",
            "text/plain": [
              "EmptySet"
            ]
          },
          "metadata": {
            "tags": []
          },
          "execution_count": 4
        }
      ]
    },
    {
      "cell_type": "markdown",
      "metadata": {
        "id": "a4sNXf_WfE4v"
      },
      "source": [
        "###### 2. Область значений"
      ]
    },
    {
      "cell_type": "code",
      "metadata": {
        "colab": {
          "base_uri": "https://localhost:8080/",
          "height": 47
        },
        "id": "QfLX6eM6fE4v",
        "outputId": "06835c93-f6bf-4524-a669-655800b3bd1e"
      },
      "source": [
        "f_range = function_range(f, x, S.Reals)\n",
        "f_range"
      ],
      "execution_count": null,
      "outputs": [
        {
          "output_type": "execute_result",
          "data": {
            "text/latex": "$\\displaystyle \\left[0, 3 \\sqrt{10}\\right]$",
            "text/plain": [
              "Interval(0, 3*sqrt(10))"
            ]
          },
          "metadata": {
            "tags": []
          },
          "execution_count": 5
        }
      ]
    },
    {
      "cell_type": "markdown",
      "metadata": {
        "id": "1na28goFfE4v"
      },
      "source": [
        "###### 3. Периодичность"
      ]
    },
    {
      "cell_type": "code",
      "metadata": {
        "colab": {
          "base_uri": "https://localhost:8080/",
          "height": 37
        },
        "id": "15DwdxL3fE4v",
        "outputId": "4821d9ab-7e2a-4c83-fb47-066dc6aab483"
      },
      "source": [
        "period = periodicity(f, x)\n",
        "period_range = Interval(0, period)\n",
        "period"
      ],
      "execution_count": null,
      "outputs": [
        {
          "output_type": "execute_result",
          "data": {
            "text/latex": "$\\displaystyle 2 \\pi$",
            "text/plain": [
              "2*pi"
            ]
          },
          "metadata": {
            "tags": []
          },
          "execution_count": 6
        }
      ]
    },
    {
      "cell_type": "markdown",
      "metadata": {
        "id": "udZLDoA2fE4v"
      },
      "source": [
        "###### 4. Стационарные точки"
      ]
    },
    {
      "cell_type": "code",
      "metadata": {
        "colab": {
          "base_uri": "https://localhost:8080/",
          "height": 37
        },
        "id": "rJrfIk2sfE4v",
        "outputId": "5e096585-b465-4157-e52d-afed43adfa39"
      },
      "source": [
        "station = stationary_points(f, x)\n",
        "station"
      ],
      "execution_count": null,
      "outputs": [
        {
          "output_type": "execute_result",
          "data": {
            "text/latex": "$\\displaystyle \\left\\{\\pi\\right\\}$",
            "text/plain": [
              "FiniteSet(pi)"
            ]
          },
          "metadata": {
            "tags": []
          },
          "execution_count": 7
        }
      ]
    },
    {
      "cell_type": "markdown",
      "metadata": {
        "id": "oM6SzCGmfE4w"
      },
      "source": [
        "###### 5. Максимальное и минимальное значения функции"
      ]
    },
    {
      "cell_type": "code",
      "metadata": {
        "colab": {
          "base_uri": "https://localhost:8080/",
          "height": 57
        },
        "id": "xZamPmTyfE4w",
        "outputId": "2051fa6c-851e-48ff-bc4c-dd49b687cc2e"
      },
      "source": [
        "display(maximum(f, x, domain=S.Reals))\n",
        "display(minimum(f, x, domain=S.Reals))"
      ],
      "execution_count": null,
      "outputs": [
        {
          "output_type": "display_data",
          "data": {
            "text/latex": "$\\displaystyle 3 \\sqrt{10}$",
            "text/plain": [
              "3*sqrt(10)"
            ]
          },
          "metadata": {
            "tags": []
          }
        },
        {
          "output_type": "display_data",
          "data": {
            "text/latex": "$\\displaystyle 0$",
            "text/plain": [
              "0"
            ]
          },
          "metadata": {
            "tags": []
          }
        }
      ]
    },
    {
      "cell_type": "markdown",
      "metadata": {
        "id": "f8DG_TprfE4w"
      },
      "source": [
        "###### 6. Монотонность  "
      ]
    },
    {
      "cell_type": "code",
      "metadata": {
        "id": "vI7AhmY-fE4w",
        "colab": {
          "base_uri": "https://localhost:8080/",
          "height": 231
        },
        "outputId": "22bdcbac-052c-43ec-a09a-9e46c1bf65ca"
      },
      "source": [
        "intervals = [\n",
        "  Interval.open(0, Pi / 2),\n",
        "  Interval.open(Pi / 2, Pi),\n",
        "  Interval.open(Pi, 3 * Pi / 2),\n",
        "  Interval.open(3 * Pi / 2, 2 * Pi)\n",
        "]\n",
        "\n",
        "for interval in intervals:\n",
        "  display(interval)\n",
        "  print(\n",
        "      is_monotonic(f, interval=interval),\n",
        "      #is_decreasing(f, interval=interval),\n",
        "      #is_increasing(f, interval=interval),\n",
        "      #is_strictly_decreasing(f, interval=interval),\n",
        "      #is_strictly_increasing(f, interval=interval)\n",
        "  )"
      ],
      "execution_count": null,
      "outputs": [
        {
          "output_type": "display_data",
          "data": {
            "text/latex": "$\\displaystyle \\left(0, \\frac{\\pi}{2}\\right)$",
            "text/plain": [
              "Interval.open(0, pi/2)"
            ]
          },
          "metadata": {
            "tags": []
          }
        },
        {
          "output_type": "stream",
          "text": [
            "True\n"
          ],
          "name": "stdout"
        },
        {
          "output_type": "display_data",
          "data": {
            "text/latex": "$\\displaystyle \\left(\\frac{\\pi}{2}, \\pi\\right)$",
            "text/plain": [
              "Interval.open(pi/2, pi)"
            ]
          },
          "metadata": {
            "tags": []
          }
        },
        {
          "output_type": "stream",
          "text": [
            "True\n"
          ],
          "name": "stdout"
        },
        {
          "output_type": "display_data",
          "data": {
            "text/latex": "$\\displaystyle \\left(\\pi, \\frac{3 \\pi}{2}\\right)$",
            "text/plain": [
              "Interval.open(pi, 3*pi/2)"
            ]
          },
          "metadata": {
            "tags": []
          }
        },
        {
          "output_type": "stream",
          "text": [
            "True\n"
          ],
          "name": "stdout"
        },
        {
          "output_type": "display_data",
          "data": {
            "text/latex": "$\\displaystyle \\left(\\frac{3 \\pi}{2}, 2 \\pi\\right)$",
            "text/plain": [
              "Interval.open(3*pi/2, 2*pi)"
            ]
          },
          "metadata": {
            "tags": []
          }
        },
        {
          "output_type": "stream",
          "text": [
            "True\n"
          ],
          "name": "stdout"
        }
      ]
    },
    {
      "cell_type": "markdown",
      "metadata": {
        "id": "ogujd9MIfE4w"
      },
      "source": [
        "###### 7. Минимальное и максимальное значение функции на интервале "
      ]
    },
    {
      "cell_type": "code",
      "metadata": {
        "colab": {
          "base_uri": "https://localhost:8080/",
          "height": 322
        },
        "id": "2fllDpHQfE4w",
        "outputId": "16a54079-4e76-4612-806a-9bcaa90eab6c"
      },
      "source": [
        "for interval in intervals:\n",
        "  display(interval)\n",
        "  if is_monotonic(f, interval=interval):\n",
        "    display(maximum(f, x, domain=interval))\n",
        "    display(minimum(f, x, domain=interval))"
      ],
      "execution_count": null,
      "outputs": [
        {
          "output_type": "display_data",
          "data": {
            "text/latex": "$\\displaystyle \\left(0, \\frac{\\pi}{2}\\right)$",
            "text/plain": [
              "Interval.open(0, pi/2)"
            ]
          },
          "metadata": {
            "tags": []
          }
        },
        {
          "output_type": "display_data",
          "data": {
            "text/latex": "$\\displaystyle 6$",
            "text/plain": [
              "6"
            ]
          },
          "metadata": {
            "tags": []
          }
        },
        {
          "output_type": "display_data",
          "data": {
            "text/latex": "$\\displaystyle 0$",
            "text/plain": [
              "0"
            ]
          },
          "metadata": {
            "tags": []
          }
        },
        {
          "output_type": "display_data",
          "data": {
            "text/latex": "$\\displaystyle \\left(\\frac{\\pi}{2}, \\pi\\right)$",
            "text/plain": [
              "Interval.open(pi/2, pi)"
            ]
          },
          "metadata": {
            "tags": []
          }
        },
        {
          "output_type": "display_data",
          "data": {
            "text/latex": "$\\displaystyle 3 \\sqrt{10}$",
            "text/plain": [
              "3*sqrt(10)"
            ]
          },
          "metadata": {
            "tags": []
          }
        },
        {
          "output_type": "display_data",
          "data": {
            "text/latex": "$\\displaystyle 6$",
            "text/plain": [
              "6"
            ]
          },
          "metadata": {
            "tags": []
          }
        },
        {
          "output_type": "display_data",
          "data": {
            "text/latex": "$\\displaystyle \\left(\\pi, \\frac{3 \\pi}{2}\\right)$",
            "text/plain": [
              "Interval.open(pi, 3*pi/2)"
            ]
          },
          "metadata": {
            "tags": []
          }
        },
        {
          "output_type": "display_data",
          "data": {
            "text/latex": "$\\displaystyle 3 \\sqrt{10}$",
            "text/plain": [
              "3*sqrt(10)"
            ]
          },
          "metadata": {
            "tags": []
          }
        },
        {
          "output_type": "display_data",
          "data": {
            "text/latex": "$\\displaystyle 6$",
            "text/plain": [
              "6"
            ]
          },
          "metadata": {
            "tags": []
          }
        },
        {
          "output_type": "display_data",
          "data": {
            "text/latex": "$\\displaystyle \\left(\\frac{3 \\pi}{2}, 2 \\pi\\right)$",
            "text/plain": [
              "Interval.open(3*pi/2, 2*pi)"
            ]
          },
          "metadata": {
            "tags": []
          }
        },
        {
          "output_type": "display_data",
          "data": {
            "text/latex": "$\\displaystyle 6$",
            "text/plain": [
              "6"
            ]
          },
          "metadata": {
            "tags": []
          }
        },
        {
          "output_type": "display_data",
          "data": {
            "text/latex": "$\\displaystyle 0$",
            "text/plain": [
              "0"
            ]
          },
          "metadata": {
            "tags": []
          }
        }
      ]
    },
    {
      "cell_type": "markdown",
      "metadata": {
        "id": "te2Kc799fE4x"
      },
      "source": [
        "###### График"
      ]
    },
    {
      "cell_type": "code",
      "metadata": {
        "colab": {
          "base_uri": "https://localhost:8080/",
          "height": 314
        },
        "id": "wrfcY__9fE4x",
        "outputId": "0fe99b4b-9a24-4abe-9d88-2868f4e011f1"
      },
      "source": [
        "plot((f, (x, 0, 2 * Pi)))"
      ],
      "execution_count": null,
      "outputs": [
        {
          "output_type": "display_data",
          "data": {
            "image/png": "[encoded data removed]",
            "text/plain": [
              "<Figure size 432x288 with 1 Axes>"
            ]
          },
          "metadata": {
            "tags": [],
            "needs_background": "light"
          }
        },
        {
          "output_type": "execute_result",
          "data": {
            "text/plain": [
              "<sympy.plotting.plot.Plot at 0x7fe0bb6c08d0>"
            ]
          },
          "metadata": {
            "tags": []
          },
          "execution_count": 11
        }
      ]
    },
    {
      "cell_type": "code",
      "metadata": {
        "id": "7E7M6j6FfE4x"
      },
      "source": [
        ""
      ],
      "execution_count": null,
      "outputs": []
    },
    {
      "cell_type": "code",
      "metadata": {
        "id": "2KDvy35_fE4x"
      },
      "source": [
        ""
      ],
      "execution_count": null,
      "outputs": []
    }
  ]
}