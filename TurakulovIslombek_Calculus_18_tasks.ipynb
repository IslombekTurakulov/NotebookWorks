{
  "nbformat": 4,
  "nbformat_minor": 0,
  "metadata": {
    "kernelspec": {
      "display_name": "Python 3",
      "language": "python",
      "name": "python3"
    },
    "language_info": {
      "codemirror_mode": {
        "name": "ipython",
        "version": 3
      },
      "file_extension": ".py",
      "mimetype": "text/x-python",
      "name": "python",
      "nbconvert_exporter": "python",
      "pygments_lexer": "ipython3",
      "version": "3.7.3"
    },
    "colab": {
      "name": "TurakulovIslombek_Calculus_18_tasks.ipynb",
      "provenance": [],
      "collapsed_sections": [],
      "include_colab_link": true
    }
  },
  "cells": [
    {
      "cell_type": "markdown",
      "metadata": {
        "id": "view-in-github",
        "colab_type": "text"
      },
      "source": [
        "<a href=\"https://colab.research.google.com/github/IslombekTurakulov/NotebookWorks/blob/main/TurakulovIslombek_Calculus_18_tasks.ipynb\" target=\"_parent\"><img src=\"https://colab.research.google.com/assets/colab-badge.svg\" alt=\"Open In Colab\"/></a>"
      ]
    },
    {
      "cell_type": "code",
      "metadata": {
        "id": "XEoTJXRZ8Da3"
      },
      "source": [
        "import numpy as np\n",
        "import sympy\n",
        "from sympy import S, symbols, Function, dsolve, solveset, linsolve, integrate, diff, plot\n",
        "from sympy import sin as Sin\n",
        "from sympy import cos as Cos\n",
        "from sympy import exp as Exp\n",
        "from sympy import log as Log\n",
        "from sympy import pi as Pi\n",
        "from sympy import latex\n",
        "import matplotlib.pyplot as plt"
      ],
      "execution_count": 1,
      "outputs": []
    },
    {
      "cell_type": "markdown",
      "metadata": {
        "id": "pIEfw4rQ8Da7"
      },
      "source": [
        "## Занятие 18\n",
        "## Математический анализ\n",
        "## Линейные ОДУ второго порядка с постоянными коэффициентами\n",
        "### Задача 1\n",
        "Решить ОДУ $3y''+5y'-2y=0$ по формуле из файла с примерами и с помощью dsolve."
      ]
    },
    {
      "cell_type": "code",
      "metadata": {
        "id": "QH_Mk3Yj8Da7",
        "colab": {
          "base_uri": "https://localhost:8080/",
          "height": 38
        },
        "outputId": "8d8fbae7-e2e1-47ff-9d10-507caa0bf05f"
      },
      "source": [
        "from sympy.abc import x\n",
        "y = Function('y')\n",
        "dsolve(3*y(x).diff(x, 2) + 5*y(x).diff(x) + -2*y(x), y(x))"
      ],
      "execution_count": 2,
      "outputs": [
        {
          "output_type": "execute_result",
          "data": {
            "text/latex": "$\\displaystyle y{\\left(x \\right)} = C_{1} e^{- 2 x} + C_{2} e^{\\frac{x}{3}}$",
            "text/plain": [
              "Eq(y(x), C1*exp(-2*x) + C2*exp(x/3))"
            ]
          },
          "metadata": {
            "tags": []
          },
          "execution_count": 2
        }
      ]
    },
    {
      "cell_type": "markdown",
      "metadata": {
        "id": "NVeg1zGU8Da8"
      },
      "source": [
        "### Задача 2.\n",
        "Решить задачу Коши:\n",
        "$$\n",
        "\\left\\{\n",
        "\\begin{matrix}\n",
        "9y''+3y'+y=0\\\\\n",
        "y(0)=0\\\\\n",
        "y'(0)=2\\sqrt3\n",
        "\\end{matrix}\n",
        "\\right.\n",
        "$$\n",
        "##### Указание.\n",
        "Решить с помощью dsolve, затем составить словарь символов решения, ключи - 'x', 'C1', 'C2', а значения - соответствующие элементы из множества  ХХХ.rhs.free_symbols, решить систему линейных относительно С1 и С2 уравнений, описывающих начальные условия."
      ]
    },
    {
      "cell_type": "code",
      "metadata": {
        "id": "FcgXcIMh8Da8",
        "colab": {
          "base_uri": "https://localhost:8080/",
          "height": 38
        },
        "outputId": "30a76c08-36d7-491a-c09b-dc05a8ac5718"
      },
      "source": [
        "from sympy.abc import x\n",
        "y = Function('y')\n",
        "sol = dsolve(y(x).diff(x, 2) - 4*y(x).diff(x) + 4*y(x), y(x))\n",
        "display(sol)"
      ],
      "execution_count": 3,
      "outputs": [
        {
          "output_type": "display_data",
          "data": {
            "text/latex": "$\\displaystyle y{\\left(x \\right)} = \\left(C_{1} + C_{2} x\\right) e^{2 x}$",
            "text/plain": [
              "Eq(y(x), (C1 + C2*x)*exp(2*x))"
            ]
          },
          "metadata": {
            "tags": []
          }
        }
      ]
    },
    {
      "cell_type": "code",
      "metadata": {
        "id": "Jfr04AwX8eVK"
      },
      "source": [
        "dy0 = 0\n",
        "d2y0 = 2*3**S.Half\n",
        "sym_dict = {str(item): item for item in sol.rhs.free_symbols}\n",
        "res = linsolve([sympy.Eq(sol.rhs.diff(x).subs(x, 0), dy0), sympy.Eq(sol.rhs.diff(x, 2).subs(x, 0), d2y0)],\n",
        "         sym_dict['C1'], sym_dict['C2'])\n",
        "c1, c2 = list(res)[0]"
      ],
      "execution_count": 4,
      "outputs": []
    },
    {
      "cell_type": "code",
      "metadata": {
        "colab": {
          "base_uri": "https://localhost:8080/",
          "height": 282
        },
        "id": "--ZpH-DnjCZF",
        "outputId": "9b136c57-3858-4f45-d076-5f45d9fdcf5b"
      },
      "source": [
        "right = sol.rhs.subs({sym_dict['C1']:c1, sym_dict['C2']:c2})\n",
        "def y(x):\n",
        "  return (c1 + c2*x)*np.exp(2*x)\n",
        "y_abstract = Function('y')(x)\n",
        "X = np.linspace(0, 1, 100)\n",
        "label1 = latex(sympy.Eq(y_abstract.diff(x), right), mode = 'inline')\n",
        "plt.plot(X, y(X), color = 'green', label = label1)\n",
        "plt.legend()\n",
        "\n",
        "plt.scatter([0,], [y(0), ], color = 'blue')\n",
        "\n",
        "plt.annotate(latex(sympy.Eq(diff(y_abstract, x), dy0), mode='inline') \n",
        "  +\t',\\n' + latex(sympy.Eq(diff(y_abstract, x, 2), d2y0), mode='inline')\n",
        "  +\t',\\n' + latex(sympy.Eq(x, 0), mode='inline'),\n",
        "  xy=(0, y(0)), xycoords='data',\n",
        "  xytext=(30, +50), textcoords='offset points', \n",
        "  fontsize=16, arrowprops=dict(arrowstyle=\"->\", connectionstyle=\"arc3,rad=.2\"))"
      ],
      "execution_count": 5,
      "outputs": [
        {
          "output_type": "execute_result",
          "data": {
            "text/plain": [
              "Text(30, 50, '$\\\\frac{d}{d x} y{\\\\left(x \\\\right)} = 0$,\\n$\\\\frac{d^{2}}{d x^{2}} y{\\\\left(x \\\\right)} = 2 \\\\sqrt{3}$,\\n$x = 0$')"
            ]
          },
          "metadata": {
            "tags": []
          },
          "execution_count": 5
        },
        {
          "output_type": "display_data",
          "data": {
            "image/png": "[encoded data removed]",
            "text/plain": [
              "<Figure size 432x288 with 1 Axes>"
            ]
          },
          "metadata": {
            "tags": [],
            "needs_background": "light"
          }
        }
      ]
    },
    {
      "cell_type": "markdown",
      "metadata": {
        "id": "Ch-a538_8Da8"
      },
      "source": [
        "### Индивидуальное задание\n",
        "Решить с помощью dsolve:\n",
        "$$\n",
        "y''' + y'' + y' + y = (9x^2 + 4x -3)e^{-x}.\n",
        "$$\n",
        "Построить график $y(x)$ при начальных условиях $y(0) = -3$, $y'(0) = -1$, $y''(0) = -3$."
      ]
    },
    {
      "cell_type": "code",
      "metadata": {
        "id": "jOjs-KUj8Da9",
        "colab": {
          "base_uri": "https://localhost:8080/",
          "height": 58
        },
        "outputId": "09a47af4-e7a8-4762-96f0-70b7cde02927"
      },
      "source": [
        "from sympy.abc import x\n",
        "y = Function('y')\n",
        "sol = dsolve(y(x).diff(x, 3) + y(x).diff(x, 2) + y(x).diff(x) + y(x) - (9*x**2 + 4*x - 3)*sympy.exp(-x), y(x))\n",
        "display(sol)"
      ],
      "execution_count": 6,
      "outputs": [
        {
          "output_type": "display_data",
          "data": {
            "text/latex": "$\\displaystyle y{\\left(x \\right)} = C_{2} \\sin{\\left(x \\right)} + C_{3} \\cos{\\left(x \\right)} + \\left(C_{1} + \\frac{3 x^{3}}{2} + \\frac{11 x^{2}}{2} + 5 x\\right) e^{- x}$",
            "text/plain": [
              "Eq(y(x), C2*sin(x) + C3*cos(x) + (C1 + 3*x**3/2 + 11*x**2/2 + 5*x)*exp(-x))"
            ]
          },
          "metadata": {
            "tags": []
          }
        }
      ]
    },
    {
      "cell_type": "code",
      "metadata": {
        "id": "jvuIKM5-jFNi"
      },
      "source": [
        "dy0 = -3\n",
        "d2y0 = -1\n",
        "d3y0 = -3\n",
        "sym_dict = {str(item): item for item in sol.rhs.free_symbols}"
      ],
      "execution_count": 7,
      "outputs": []
    },
    {
      "cell_type": "code",
      "metadata": {
        "id": "BJ2D8B51jJY2"
      },
      "source": [
        "res = linsolve([sympy.Eq(sol.rhs.diff(x).subs(x, 0), dy0), \n",
        "                sympy.Eq(sol.rhs.diff(x, 2).subs(x, 0), d2y0),\n",
        "                sympy.Eq(sol.rhs.diff(x, 3).subs(x, 0), d3y0)],\n",
        "         sym_dict['C1'], sym_dict['C2'], sym_dict['C3'])"
      ],
      "execution_count": 8,
      "outputs": []
    },
    {
      "cell_type": "code",
      "metadata": {
        "id": "rM_kRrdOjJlL"
      },
      "source": [
        "c1, c2, c3 = list(res)[0]"
      ],
      "execution_count": 9,
      "outputs": []
    },
    {
      "cell_type": "code",
      "metadata": {
        "colab": {
          "base_uri": "https://localhost:8080/",
          "height": 456
        },
        "id": "U32Pa8uLjLrr",
        "outputId": "258aca17-e0c7-482a-8b6a-a65185850687"
      },
      "source": [
        "right = sol.rhs.subs({sym_dict['C1']:c1, sym_dict['C2']:c2, sym_dict['C3']:c3})\n",
        "def y(x):\n",
        "  return c1*np.exp(-x) + c2*np.sin(x) + c3*np.cos(x) + (3*x**3 + 11*x**2+ 10*x)*np.exp(-x)/2\n",
        "y_abstract = Function('y')(x)\n",
        "X = np.linspace(0, 1, 100)\n",
        "label1 = latex(sympy.Eq(y_abstract.diff(x), right), mode = 'inline')\n",
        "plt.plot(X, y(X), color = 'green', label = label1)\n",
        "plt.legend()\n",
        "\n",
        "plt.scatter([0,], [y(0), ], color = 'blue')\n",
        "\n",
        "plt.annotate(latex(sympy.Eq(diff(y_abstract, x), dy0), mode='inline') \n",
        "  +\t',\\n' + latex(sympy.Eq(diff(y_abstract, x, 2), d2y0), mode='inline')\n",
        "    +\t',\\n' + latex(sympy.Eq(diff(y_abstract, x, 3), d3y0), mode='inline')\n",
        "  +\t',\\n' + latex(sympy.Eq(x, 0), mode='inline'),\n",
        "  xy=(0, y(0)), xycoords='data',\n",
        "  xytext=(30, +50), textcoords='offset points', \n",
        "  fontsize=16, arrowprops=dict(arrowstyle=\"->\", connectionstyle=\"arc3,rad=.2\"))"
      ],
      "execution_count": 13,
      "outputs": [
        {
          "output_type": "execute_result",
          "data": {
            "text/plain": [
              "Text(30, 50, '$\\\\frac{d}{d x} y{\\\\left(x \\\\right)} = -3$,\\n$\\\\frac{d^{2}}{d x^{2}} y{\\\\left(x \\\\right)} = -1$,\\n$\\\\frac{d^{3}}{d x^{3}} y{\\\\left(x \\\\right)} = -3$,\\n$x = 0$')"
            ]
          },
          "metadata": {
            "tags": []
          },
          "execution_count": 13
        },
        {
          "output_type": "display_data",
          "data": {
            "image/png": "[encoded data removed]",
            "text/plain": [
              "<Figure size 432x288 with 1 Axes>"
            ]
          },
          "metadata": {
            "tags": [],
            "needs_background": "light"
          }
        }
      ]
    }
  ]
}