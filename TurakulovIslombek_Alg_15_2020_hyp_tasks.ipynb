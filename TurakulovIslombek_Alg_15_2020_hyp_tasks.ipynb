{
  "nbformat": 4,
  "nbformat_minor": 0,
  "metadata": {
    "kernelspec": {
      "display_name": "Python 3",
      "language": "python",
      "name": "python3"
    },
    "language_info": {
      "codemirror_mode": {
        "name": "ipython",
        "version": 3
      },
      "file_extension": ".py",
      "mimetype": "text/x-python",
      "name": "python",
      "nbconvert_exporter": "python",
      "pygments_lexer": "ipython3",
      "version": "3.7.3"
    },
    "colab": {
      "name": "TurakulovIslombek_Alg_15_2020_hyp_tasks.ipynb",
      "provenance": [],
      "collapsed_sections": [],
      "include_colab_link": true
    }
  },
  "cells": [
    {
      "cell_type": "markdown",
      "metadata": {
        "id": "view-in-github",
        "colab_type": "text"
      },
      "source": [
        "<a href=\"https://colab.research.google.com/github/IslombekTurakulov/NotebookWorks/blob/main/TurakulovIslombek_Alg_15_2020_hyp_tasks.ipynb\" target=\"_parent\"><img src=\"https://colab.research.google.com/assets/colab-badge.svg\" alt=\"Open In Colab\"/></a>"
      ]
    },
    {
      "cell_type": "code",
      "metadata": {
        "id": "n3TtiCO3CDvT"
      },
      "source": [
        "import numpy as np\n",
        "import sympy\n",
        "from sympy import Expr, Eq, latex, plot_implicit, tan, cot\n",
        "from sympy.core import S, pi, sympify\n",
        "from sympy.core.logic import fuzzy_bool\n",
        "from sympy.core.numbers import Rational, oo\n",
        "from sympy.core.compatibility import ordered\n",
        "from sympy.core.symbol import Dummy, _uniquely_named_symbol, _symbol\n",
        "from sympy.simplify import simplify, trigsimp\n",
        "from sympy.functions.elementary.miscellaneous import sqrt, Max\n",
        "from sympy.functions.elementary.trigonometric import cos, sin\n",
        "from sympy.functions.special.elliptic_integrals import elliptic_e\n",
        "from sympy.geometry.exceptions import GeometryError\n",
        "from sympy.geometry.line import Ray2D, Segment2D, Line2D, LinearEntity3D\n",
        "from sympy.polys import DomainError, Poly, PolynomialError\n",
        "from sympy.polys.polyutils import _not_a_coeff, _nsort\n",
        "from sympy.solvers import solve\n",
        "from sympy.solvers.solveset import linear_coeffs\n",
        "from sympy.utilities.misc import filldedent, func_name\n",
        "from sympy.geometry.entity import GeometryEntity, GeometrySet\n",
        "from sympy.geometry.point import Point, Point2D, Point3D\n",
        "from sympy.geometry.line import Line, Segment\n",
        "from sympy.geometry.util import idiff\n",
        "import matplotlib.pyplot as plt\n",
        "%matplotlib inline"
      ],
      "execution_count": 1,
      "outputs": []
    },
    {
      "cell_type": "markdown",
      "metadata": {
        "id": "vtTLX0McCDvf"
      },
      "source": [
        "# Занятие 15\n",
        "# Алгебра\n",
        "## Кривые второго порядка на плоскости: гипербола"
      ]
    },
    {
      "cell_type": "code",
      "metadata": {
        "id": "qoGzee3LCDvi"
      },
      "source": [
        "class Hyperbola(GeometrySet):\n",
        "    \"\"\"\n",
        "     Attributes\n",
        "    ==========\n",
        "    center\n",
        "    hradius\n",
        "    vradius\n",
        "    eccentricity\n",
        "    periapsis\n",
        "    focus_distance\n",
        "    foci\n",
        "    ==========\n",
        "    конструктор __new__\n",
        "    скопирован из Эллипса,\n",
        "    изменена формула для  hradius и vradius через эсцентриситет\n",
        "    \"\"\"\n",
        "    def __new__(\n",
        "        cls, center=None, hradius=None, vradius=None, eccentricity=None, **kwargs):\n",
        "        hradius = sympify(hradius)\n",
        "        vradius = sympify(vradius)\n",
        "\n",
        "        eccentricity = sympify(eccentricity)\n",
        "\n",
        "        if center is None:\n",
        "            center = Point(0, 0)\n",
        "        else:\n",
        "            center = Point(center, dim=2)\n",
        "\n",
        "        if len(center) != 2:\n",
        "            raise ValueError('The center of \"{0}\" must be a two dimensional point'.format(cls))\n",
        "\n",
        "        if len(list(filter(lambda x: x is not None, (hradius, vradius, eccentricity)))) != 2:\n",
        "            raise ValueError(filldedent('''\n",
        "                Exactly two arguments of \"hradius\", \"vradius\", and\n",
        "                \"eccentricity\" must not be None.'''))\n",
        "\n",
        "        if eccentricity is not None:\n",
        "            if hradius is None:\n",
        "                hradius = vradius/sqrt( eccentricity**2 - 1)\n",
        "            elif vradius is None:\n",
        "                vradius = hradius*sqrt( eccentricity**2 - 1)\n",
        "\n",
        "        if hradius == 0:\n",
        "            return \"Line\"\n",
        "        if vradius == 0:\n",
        "            return \"Rays\"\n",
        "        return GeometryEntity.__new__(cls, center, hradius, vradius, **kwargs)\n",
        "    \n",
        "    @property\n",
        "    def ambient_dimension(self):\n",
        "        return 2\n",
        "    \n",
        "    @property\n",
        "    def center(self):\n",
        "        return self.args[0]\n",
        "\n",
        "    @property\n",
        "    def hradius(self):\n",
        "        return self.args[1]\n",
        "    \n",
        "    @property\n",
        "    def vradius(self):\n",
        "        return self.args[2]\n",
        "    @property\n",
        "    def focus_distance(self):\n",
        "        return sqrt(self.hradius**2 + self.vradius**2)\n",
        "    \n",
        "    @property\n",
        "    def eccentricity(self):\n",
        "        \"\"\"The eccentricity of the ellipse.\"\"\"\n",
        "        return self.focus_distance/self.hradius\n",
        "    \n",
        "    @property\n",
        "    def periapsis(self):\n",
        "        \"\"\"The apoapsis of the hyperbola.\n",
        "        The smallest distance between the focus and the contour.\"\"\"\n",
        "        return self.focus_distance-self.hradius\n",
        "    @property\n",
        "    def foci(self):\n",
        "        return (self.center + Point(-self.focus_distance, 0), self.center + Point(self.focus_distance, 0))\n",
        "    \n",
        "    @property\n",
        "    def major(self):\n",
        "        return self.hradius\n",
        "    \n",
        "    @property\n",
        "    def minor(self):\n",
        "        return self.vradius\n",
        "\n",
        "    def asymptote(self, x='x', y='y',_slope=None, equation=False):\n",
        "      x = _symbol(x, real=True)\n",
        "      y = _symbol(y, real=True)\n",
        "\n",
        "      dx = x - self.center.x\n",
        "      dy = y - self.center.y\n",
        "\n",
        "      if _slope is not None:\n",
        "        a = self.hradius\n",
        "        b = self.vradius\n",
        "        k1 = (b+a*_slope)/(a-b*_slope)\n",
        "        k2 = (-b+a*_slope)/(a+b*_slope)\n",
        "        res1 = dy - k1*dx\n",
        "        res2 = dy - k2*dx\n",
        "      else:\n",
        "        res1 = dx/self.hradius + dy/self.vradius\n",
        "        res2 = dx/self.hradius - dy/self.vradius\n",
        "      res1 = res1.simplify()\n",
        "      res2 = res2.simplify()\n",
        "\n",
        "      if not equation:\n",
        "        return res1, res2\n",
        "      else:\n",
        "        free1 = res1.subs({x:0, y:0})\n",
        "        free2 = res2.subs({x:0, y:0})\n",
        "\n",
        "        return Eq(y, *sympy.solve(res1, y)), Eq(y, *sympy.solve(res2, y))\n",
        "\n",
        "    def directrix(self, x='x',y='y',_slope=None, equation=False):\n",
        "      x = _symbol(x, real=True)\n",
        "      dx = x - self.center.x\n",
        "      \n",
        "      if _slope is not None:\n",
        "        y = _symbol(y, real=True)\n",
        "        dy = y - self.center.y\n",
        "        res1 = dy + dx/_slope + self.hradius/self.eccentricity*sympy.sqrt(1 + 1/_slope) \n",
        "        res2 = dy + dx/_slope - self.hradius/self.eccentricity*sympy.sqrt(1 + 1/_slope)\n",
        "      else:\n",
        "        res1 = dx -self.hradius/self.eccentricity\n",
        "        res2 = dx + self.hradius/self.eccentricity\n",
        "\n",
        "      res1 = res1.simplify()\n",
        "      res2 = res2.simplify()\n",
        "      if not equation:\n",
        "        return res1, res2\n",
        "      else:\n",
        "        free1 = res1.subs({x:0, y:0})\n",
        "        free2 = res2.subs({x:0, y:0})\n",
        "        return Eq(res1 - free1, -free1), Eq(res2-free2, -free2)\n",
        "\n",
        "    \n",
        "    def equation(self, x='x', y='y', _slope=None, equation=False):\n",
        "        \"\"\"\n",
        "        Returns the equation of a hyperbola aligned with the x and y axes;\n",
        "        when slope is given, the equation returned corresponds to a hyperbola \n",
        "        with a major axis having that slope.\n",
        "        Parameters\n",
        "        ==========\n",
        "        x : str, optional\n",
        "            Label for the x-axis. Default value is 'x'.\n",
        "        y : str, optional\n",
        "            Label for the y-axis. Default value is 'y'.\n",
        "        _slope : Expr, optional\n",
        "                The slope of the major axis. Ignored when 'None'.\n",
        "        Returns\n",
        "        =======\n",
        "        equation : sympy expression   \"\"\"\n",
        "\n",
        "        x = _symbol(x, real=True)\n",
        "        y = _symbol(y, real=True)\n",
        "\n",
        "        dx = x - self.center.x\n",
        "        dy = y - self.center.y\n",
        "\n",
        "        if _slope is not None:\n",
        "            L = (dy - _slope*dx)**2\n",
        "            l = (_slope*dy + dx)**2\n",
        "            h = 1 + _slope**2\n",
        "            a = h*self.major**2\n",
        "            b = h*self.minor**2\n",
        "            res= l/a - L/b \n",
        "\n",
        "        else:\n",
        "            t1 = (dx/self.hradius)**2\n",
        "            t2 = (dy/self.vradius)**2\n",
        "            res = t1 - t2 \n",
        "        if not equation:\n",
        "            return res - 1\n",
        "        else:\n",
        "            return Eq(res, 1)"
      ],
      "execution_count": 8,
      "outputs": []
    },
    {
      "cell_type": "markdown",
      "metadata": {
        "id": "g09Mub5dCDvm"
      },
      "source": [
        "# Занятие 15\n",
        "# Алгебра\n",
        "### Задание 1.\n",
        "Построить гиперболу с центром в точке А(1, 2), полуосями 12 и 5. Вывести на экран эксцентриситет, фокусное расстояние, фокусы (с координатами), periapsis и уравнение гиперболы."
      ]
    },
    {
      "cell_type": "code",
      "metadata": {
        "id": "SSOc3rl0CDvp",
        "colab": {
          "base_uri": "https://localhost:8080/",
          "height": 238
        },
        "outputId": "bf612fe3-5096-4826-8655-acb77ee10502"
      },
      "source": [
        "Hyp1 = Hyperbola(Point(1, 2), hradius=12, vradius=5)\n",
        "\n",
        "props = {'eccentricity': Hyp1.eccentricity, 'periapsis': Hyp1.periapsis,\n",
        "         'focus_distance': Hyp1.focus_distance, 'foci': Hyp1.foci,\n",
        "         'equation':Hyp1.equation(equation=True).simplify()}\n",
        "for key in props.keys():\n",
        "    display(key, props[key])"
      ],
      "execution_count": 9,
      "outputs": [
        {
          "output_type": "display_data",
          "data": {
            "application/vnd.google.colaboratory.intrinsic+json": {
              "type": "string"
            },
            "text/plain": [
              "'eccentricity'"
            ]
          },
          "metadata": {
            "tags": []
          }
        },
        {
          "output_type": "display_data",
          "data": {
            "text/latex": "$\\displaystyle \\frac{13}{12}$",
            "text/plain": [
              "13/12"
            ]
          },
          "metadata": {
            "tags": []
          }
        },
        {
          "output_type": "display_data",
          "data": {
            "application/vnd.google.colaboratory.intrinsic+json": {
              "type": "string"
            },
            "text/plain": [
              "'periapsis'"
            ]
          },
          "metadata": {
            "tags": []
          }
        },
        {
          "output_type": "display_data",
          "data": {
            "text/latex": "$\\displaystyle 1$",
            "text/plain": [
              "1"
            ]
          },
          "metadata": {
            "tags": []
          }
        },
        {
          "output_type": "display_data",
          "data": {
            "application/vnd.google.colaboratory.intrinsic+json": {
              "type": "string"
            },
            "text/plain": [
              "'focus_distance'"
            ]
          },
          "metadata": {
            "tags": []
          }
        },
        {
          "output_type": "display_data",
          "data": {
            "text/latex": "$\\displaystyle 13$",
            "text/plain": [
              "13"
            ]
          },
          "metadata": {
            "tags": []
          }
        },
        {
          "output_type": "display_data",
          "data": {
            "application/vnd.google.colaboratory.intrinsic+json": {
              "type": "string"
            },
            "text/plain": [
              "'foci'"
            ]
          },
          "metadata": {
            "tags": []
          }
        },
        {
          "output_type": "display_data",
          "data": {
            "text/plain": [
              "(Point2D(-12, 2), Point2D(14, 2))"
            ]
          },
          "metadata": {
            "tags": []
          }
        },
        {
          "output_type": "display_data",
          "data": {
            "application/vnd.google.colaboratory.intrinsic+json": {
              "type": "string"
            },
            "text/plain": [
              "'equation'"
            ]
          },
          "metadata": {
            "tags": []
          }
        },
        {
          "output_type": "display_data",
          "data": {
            "text/latex": "$\\displaystyle \\frac{\\left(x - 1\\right)^{2}}{144} - \\frac{\\left(y - 2\\right)^{2}}{25} = 1$",
            "text/plain": [
              "Eq((x - 1)**2/144 - (y - 2)**2/25, 1)"
            ]
          },
          "metadata": {
            "tags": []
          }
        }
      ]
    },
    {
      "cell_type": "markdown",
      "metadata": {
        "id": "IXufojW2CDvr"
      },
      "source": [
        "### Задание 2.\n",
        "Добавить в описание класса гипербол методы \n",
        "\n",
        "asymptote(self, x='x', y='y', equation=False)\n",
        "\n",
        "directrix(self, x='x', equation=False)\n",
        "\n",
        "Для гиперболы Задания 1 вывести на экран уравнения асимптот и директрис."
      ]
    },
    {
      "cell_type": "code",
      "metadata": {
        "id": "Nns4uMoVCDvt",
        "colab": {
          "base_uri": "https://localhost:8080/",
          "height": 192
        },
        "outputId": "d77d7e20-ea70-475c-ff84-bd23037fef3e"
      },
      "source": [
        "display(\"asymptote\", *Hyp1.asymptote(equation=True))\n",
        "display(\"directrix\", *Hyp1.directrix(equation=True))"
      ],
      "execution_count": 10,
      "outputs": [
        {
          "output_type": "display_data",
          "data": {
            "application/vnd.google.colaboratory.intrinsic+json": {
              "type": "string"
            },
            "text/plain": [
              "'asymptote'"
            ]
          },
          "metadata": {
            "tags": []
          }
        },
        {
          "output_type": "display_data",
          "data": {
            "text/latex": "$\\displaystyle y = \\frac{29}{12} - \\frac{5 x}{12}$",
            "text/plain": [
              "Eq(y, 29/12 - 5*x/12)"
            ]
          },
          "metadata": {
            "tags": []
          }
        },
        {
          "output_type": "display_data",
          "data": {
            "text/latex": "$\\displaystyle y = \\frac{5 x}{12} + \\frac{19}{12}$",
            "text/plain": [
              "Eq(y, 5*x/12 + 19/12)"
            ]
          },
          "metadata": {
            "tags": []
          }
        },
        {
          "output_type": "display_data",
          "data": {
            "application/vnd.google.colaboratory.intrinsic+json": {
              "type": "string"
            },
            "text/plain": [
              "'directrix'"
            ]
          },
          "metadata": {
            "tags": []
          }
        },
        {
          "output_type": "display_data",
          "data": {
            "text/latex": "$\\displaystyle x = \\frac{157}{13}$",
            "text/plain": [
              "Eq(x, 157/13)"
            ]
          },
          "metadata": {
            "tags": []
          }
        },
        {
          "output_type": "display_data",
          "data": {
            "text/latex": "$\\displaystyle x = - \\frac{131}{13}$",
            "text/plain": [
              "Eq(x, -131/13)"
            ]
          },
          "metadata": {
            "tags": []
          }
        }
      ]
    },
    {
      "cell_type": "markdown",
      "metadata": {
        "id": "AiM4Ld0rCDvu"
      },
      "source": [
        "### Задание 3.\n",
        "Вывести на экран уравнение гиперболы из задания 1 с поворотом на 30 градусов против часовой стрелки относительно ее центра.\n",
        "Изобразить повернутую гиперболу с помощью plot_implicit."
      ]
    },
    {
      "cell_type": "code",
      "metadata": {
        "id": "_XGBg68ICDvv",
        "colab": {
          "base_uri": "https://localhost:8080/",
          "height": 341
        },
        "outputId": "60c8a731-f7f9-48b6-aa94-90a81629aed8"
      },
      "source": [
        "eqHyp = Hyp1.equation(x='x', y='y', _slope=sympy.tan(sympy.pi/6))\n",
        "dict_free = {str(a): a for a in eqHyp.free_symbols}\n",
        "plot_implicit(eqHyp, (dict_free['x'], -30, 30), (dict_free['y'], -30, 30), \n",
        "              line_color='r', aspect_ratio=(1, 1), adaptive=False)\n",
        "display(eqHyp.simplify())"
      ],
      "execution_count": 11,
      "outputs": [
        {
          "output_type": "display_data",
          "data": {
            "image/png": "[encoded data removed]",
            "text/plain": [
              "<Figure size 432x288 with 1 Axes>"
            ]
          },
          "metadata": {
            "tags": [],
            "needs_background": "light"
          }
        },
        {
          "output_type": "display_data",
          "data": {
            "text/latex": "$\\displaystyle \\frac{\\left(3 x + \\sqrt{3} \\left(y - 2\\right) - 3\\right)^{2}}{1728} - \\frac{\\left(- 3 y + \\sqrt{3} \\left(x - 1\\right) + 6\\right)^{2}}{300} - 1$",
            "text/plain": [
              "(3*x + sqrt(3)*(y - 2) - 3)**2/1728 - (-3*y + sqrt(3)*(x - 1) + 6)**2/300 - 1"
            ]
          },
          "metadata": {
            "tags": []
          }
        }
      ]
    },
    {
      "cell_type": "markdown",
      "metadata": {
        "id": "hzDi5KWpCDvw"
      },
      "source": [
        "## Уравнения директрис и асимптот при повороте на угол $\\alpha$\n",
        "Пусть  $a$ - горизонтальная полуось, $c$ - фокусное расстояние, $x_0$ - горизонтальная координата центра гиперболы, тогда уравнение директрис \n",
        "$$\n",
        "x = x_0 \\pm \\frac{a^2}{c}\n",
        "$$\n",
        "При повороте на угол $\\alpha$ получается уравнение\n",
        "$$\n",
        "y = y_0 -{\\rm ctg} \\alpha(x - x_0) \\pm \\frac{a^2}{c}\\sqrt{1 + {\\rm ctg} \\alpha}\n",
        "$$\n",
        "Уравнение асимптоты\n",
        "$$\n",
        "y = y_0 \\pm \\frac{b}{a}(x - x_0)\n",
        "$$\n",
        "При повороте на угол $\\alpha$ получаются уравнения\n",
        "\\begin{align*}\n",
        "y_1 = y_0 + k_1(x - x_0), \\quad \n",
        "y_2 = y_0 + k_2(x - x_0), \\\\ \n",
        "k_1 = \\frac{b + a{\\rm tg} \\alpha}{a - b{\\rm tg} \\alpha},\\quad \n",
        "k_2 = \\frac{-b + a{\\rm tg} \\alpha}{a + b{\\rm tg} \\alpha}\n",
        "\\end{align*}\n",
        "### Задание 4.\n",
        "Изобразить гиперболу Задания 3 (т.е. повернутую на угол) и ее асимптоты и директрисы на одном графике plot_implicit."
      ]
    },
    {
      "cell_type": "code",
      "metadata": {
        "id": "qxhgFotCCDvy",
        "colab": {
          "base_uri": "https://localhost:8080/",
          "height": 297
        },
        "outputId": "fa7ecce3-8892-4466-fdf0-d982225bfb9b"
      },
      "source": [
        "asymptote = Hyp1.asymptote( _slope=sympy.tan(sympy.pi/6))\n",
        "dirextrix = Hyp1.directrix( _slope=sympy.tan(sympy.pi/6))\n",
        "p = plot_implicit(eqHyp, (dict_free['x'], -30, 30), (dict_free['y'], -30, 30), \n",
        "              line_color='g', aspect_ratio=(1, 1), adaptive=False, show = False)\n",
        "for i, item in enumerate(asymptote + dirextrix):\n",
        "  if i<2:\n",
        "    color = 'b'\n",
        "  else:\n",
        "    color = 'r'\n",
        "    \n",
        "  p.extend(\n",
        "      plot_implicit(item, (dict_free['x'], -30, 30), (dict_free['y'], -30, 30), \n",
        "              line_color=color, aspect_ratio=(1, 1), adaptive=False, show = False)\n",
        "  )\n",
        "p.show()"
      ],
      "execution_count": 12,
      "outputs": [
        {
          "output_type": "display_data",
          "data": {
            "image/png": "[encoded data removed]",
            "text/plain": [
              "<Figure size 432x288 with 1 Axes>"
            ]
          },
          "metadata": {
            "tags": [],
            "needs_background": "light"
          }
        }
      ]
    },
    {
      "cell_type": "markdown",
      "metadata": {
        "id": "jibp-2IiCDvz"
      },
      "source": [
        "###  Индивидуальное задание 139\n",
        "Определить гиперболу с центром в точке $O=Point2D(4,-2)$, полуосями $a=8$ и $b=4$.  Вывести на экран эксцентриситет, фокусное расстояние, фокусы (с координатами), periapsis, уравнение гиперболы, уравнения асимптот и директрис. \n",
        "\n",
        "Изобразить гиперболу, повернутую на $\\alpha=\\cfrac{\\pi}{3}$ градусов против часовой стрелки относительно ее центра, соответствующие асимптоты и директрисы. Вывести на экран уравнения повернутой гиперболы, соответствующих асимптот и директрис."
      ]
    },
    {
      "cell_type": "code",
      "metadata": {
        "id": "GDex6Gs2CDv0",
        "colab": {
          "base_uri": "https://localhost:8080/",
          "height": 246
        },
        "outputId": "f1afe924-0eb5-4c43-da0b-a8546f4fac7f"
      },
      "source": [
        "def colorFunc(col):\n",
        "  return 'r' if i>2 else 'b'\n",
        "\n",
        "Hyp1 = Hyperbola(Point(4, -2), hradius=8, vradius=4)\n",
        "\n",
        "props = {'eccentricity': Hyp1.eccentricity, 'periapsis': Hyp1.periapsis,\n",
        "         'focus_distance': Hyp1.focus_distance, 'foci': Hyp1.foci,\n",
        "         'equation':Hyp1.equation(equation=True).simplify()}\n",
        "for key in props.keys():\n",
        "    display(key, props[key])"
      ],
      "execution_count": 24,
      "outputs": [
        {
          "output_type": "display_data",
          "data": {
            "application/vnd.google.colaboratory.intrinsic+json": {
              "type": "string"
            },
            "text/plain": [
              "'eccentricity'"
            ]
          },
          "metadata": {
            "tags": []
          }
        },
        {
          "output_type": "display_data",
          "data": {
            "text/latex": "$\\displaystyle \\frac{\\sqrt{5}}{2}$",
            "text/plain": [
              "sqrt(5)/2"
            ]
          },
          "metadata": {
            "tags": []
          }
        },
        {
          "output_type": "display_data",
          "data": {
            "application/vnd.google.colaboratory.intrinsic+json": {
              "type": "string"
            },
            "text/plain": [
              "'periapsis'"
            ]
          },
          "metadata": {
            "tags": []
          }
        },
        {
          "output_type": "display_data",
          "data": {
            "text/latex": "$\\displaystyle -8 + 4 \\sqrt{5}$",
            "text/plain": [
              "-8 + 4*sqrt(5)"
            ]
          },
          "metadata": {
            "tags": []
          }
        },
        {
          "output_type": "display_data",
          "data": {
            "application/vnd.google.colaboratory.intrinsic+json": {
              "type": "string"
            },
            "text/plain": [
              "'focus_distance'"
            ]
          },
          "metadata": {
            "tags": []
          }
        },
        {
          "output_type": "display_data",
          "data": {
            "text/latex": "$\\displaystyle 4 \\sqrt{5}$",
            "text/plain": [
              "4*sqrt(5)"
            ]
          },
          "metadata": {
            "tags": []
          }
        },
        {
          "output_type": "display_data",
          "data": {
            "application/vnd.google.colaboratory.intrinsic+json": {
              "type": "string"
            },
            "text/plain": [
              "'foci'"
            ]
          },
          "metadata": {
            "tags": []
          }
        },
        {
          "output_type": "display_data",
          "data": {
            "text/plain": [
              "(Point2D(4 - 4*sqrt(5), -2), Point2D(4 + 4*sqrt(5), -2))"
            ]
          },
          "metadata": {
            "tags": []
          }
        },
        {
          "output_type": "display_data",
          "data": {
            "application/vnd.google.colaboratory.intrinsic+json": {
              "type": "string"
            },
            "text/plain": [
              "'equation'"
            ]
          },
          "metadata": {
            "tags": []
          }
        },
        {
          "output_type": "display_data",
          "data": {
            "text/latex": "$\\displaystyle \\frac{\\left(x - 4\\right)^{2}}{64} - \\frac{\\left(y + 2\\right)^{2}}{16} = 1$",
            "text/plain": [
              "Eq((x - 4)**2/64 - (y + 2)**2/16, 1)"
            ]
          },
          "metadata": {
            "tags": []
          }
        }
      ]
    },
    {
      "cell_type": "code",
      "metadata": {
        "colab": {
          "base_uri": "https://localhost:8080/",
          "height": 478
        },
        "id": "wcji5Yu5Dpkd",
        "outputId": "c75e0eb2-ab8b-444c-dc5b-a58c06cdfc67"
      },
      "source": [
        "eqHyp = Hyp1.equation(x='x', y='y', _slope=sympy.tan(sympy.pi/3))\n",
        "asymptote = Hyp1.asymptote( _slope=sympy.tan(sympy.pi/3))\n",
        "dirextrix = Hyp1.directrix( _slope=sympy.tan(sympy.pi/3))\n",
        "p = plot_implicit(eqHyp, (dict_free['x'], -30, 30), (dict_free['y'], -30, 30), \n",
        "              line_color='g', aspect_ratio=(1, 1), adaptive=False, show = False)\n",
        "for i, item in enumerate(asymptote + dirextrix):\n",
        "  color = colorFunc(i)\n",
        "  display(item)\n",
        "  p.extend(plot_implicit(item, (dict_free['x'], -30, 30), (dict_free['y'], -30, 30), line_color=color, aspect_ratio=(1, 1), adaptive=False, show = False))\n",
        "display(eqHyp)\n",
        "p.show()"
      ],
      "execution_count": 25,
      "outputs": [
        {
          "output_type": "display_data",
          "data": {
            "text/latex": "$\\displaystyle - 5 \\sqrt{3} x - 8 x + y + 34 + 20 \\sqrt{3}$",
            "text/plain": [
              "-5*sqrt(3)*x - 8*x + y + 34 + 20*sqrt(3)"
            ]
          },
          "metadata": {
            "tags": []
          }
        },
        {
          "output_type": "display_data",
          "data": {
            "text/latex": "$\\displaystyle - 5 \\sqrt{3} x + 8 x + y - 30 + 20 \\sqrt{3}$",
            "text/plain": [
              "-5*sqrt(3)*x + 8*x + y - 30 + 20*sqrt(3)"
            ]
          },
          "metadata": {
            "tags": []
          }
        },
        {
          "output_type": "display_data",
          "data": {
            "text/latex": "$\\displaystyle y + \\sqrt{3} \\left(\\frac{x}{3} - \\frac{4}{3}\\right) + 2 + \\frac{16 \\sqrt{15 \\sqrt{3} + 45}}{15}$",
            "text/plain": [
              "y + sqrt(3)*(x/3 - 4/3) + 2 + 16*sqrt(15*sqrt(3) + 45)/15"
            ]
          },
          "metadata": {
            "tags": []
          }
        },
        {
          "output_type": "display_data",
          "data": {
            "text/latex": "$\\displaystyle y + \\sqrt{3} \\left(\\frac{x}{3} - \\frac{4}{3}\\right) - \\frac{16 \\sqrt{15 \\sqrt{3} + 45}}{15} + 2$",
            "text/plain": [
              "y + sqrt(3)*(x/3 - 4/3) - 16*sqrt(15*sqrt(3) + 45)/15 + 2"
            ]
          },
          "metadata": {
            "tags": []
          }
        },
        {
          "output_type": "display_data",
          "data": {
            "text/latex": "$\\displaystyle \\frac{\\left(x + \\sqrt{3} \\left(y + 2\\right) - 4\\right)^{2}}{256} - \\frac{\\left(y - \\sqrt{3} \\left(x - 4\\right) + 2\\right)^{2}}{64} - 1$",
            "text/plain": [
              "(x + sqrt(3)*(y + 2) - 4)**2/256 - (y - sqrt(3)*(x - 4) + 2)**2/64 - 1"
            ]
          },
          "metadata": {
            "tags": []
          }
        },
        {
          "output_type": "display_data",
          "data": {
            "image/png": "[encoded data removed]",
            "text/plain": [
              "<Figure size 432x288 with 1 Axes>"
            ]
          },
          "metadata": {
            "tags": [],
            "needs_background": "light"
          }
        }
      ]
    }
  ]
}